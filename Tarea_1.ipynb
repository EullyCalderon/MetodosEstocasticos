{
  "cells": [
    {
      "cell_type": "markdown",
      "id": "270886b1-5dcc-4ab7-91c3-628d85df6f6f",
      "metadata": {
        "id": "270886b1-5dcc-4ab7-91c3-628d85df6f6f"
      },
      "source": [
        "# Tarea 1\n",
        "## Estudiante Janneth Eulalia Calderon Peña\n",
        "### Métodos Estocásticos\n",
        "### Maestría en Recursos Hidráulicos\n",
        "Importanto las Librerias"
      ]
    },
    {
      "cell_type": "code",
      "execution_count": 28,
      "id": "7d6b8b7d-64ad-46f2-8f71-6780261c0686",
      "metadata": {
        "id": "7d6b8b7d-64ad-46f2-8f71-6780261c0686"
      },
      "outputs": [],
      "source": [
        "import pandas as pd\n",
        "import numpy as np\n",
        "import matplotlib.pyplot as plt"
      ]
    },
    {
      "cell_type": "markdown",
      "id": "6c6a27d4-150e-4429-ae60-325a13f175bf",
      "metadata": {
        "id": "6c6a27d4-150e-4429-ae60-325a13f175bf"
      },
      "source": [
        "Cargar los datos"
      ]
    },
    {
      "cell_type": "code",
      "execution_count": 29,
      "id": "037a9d90-7986-4282-a32d-94e07dad3f39",
      "metadata": {
        "colab": {
          "base_uri": "https://localhost:8080/",
          "height": 676
        },
        "id": "037a9d90-7986-4282-a32d-94e07dad3f39",
        "outputId": "be3646b1-8ba7-4d53-a2b5-2d94a0d1380c"
      },
      "outputs": [
        {
          "output_type": "display_data",
          "data": {
            "text/plain": [
              "    Dato      A     B \n",
              "0      1   1.70   1.30\n",
              "1      2   6.26  17.02\n",
              "2      3   7.56  19.74\n",
              "3      4   7.92  12.01\n",
              "4      5   0.96   0.66\n",
              "5      6   2.47   1.80\n",
              "6      7   2.55  15.91\n",
              "7      8   0.28   0.62\n",
              "8      9   1.34   2.15\n",
              "9     10   0.71   2.07\n",
              "10    11   1.66   4.68\n",
              "11    12   2.99   2.74\n",
              "12    13   8.71  11.72\n",
              "13    14   0.09   0.24\n",
              "14    15   0.62   2.30\n",
              "15    16   0.99   0.52\n",
              "16    17  10.27   5.67\n",
              "17    18   2.96   3.17\n",
              "18    19   5.54   5.92\n",
              "19    20   3.61   5.03"
            ],
            "text/html": [
              "\n",
              "  <div id=\"df-b3cb9d5e-7a47-4449-911f-0ff5612d7458\" class=\"colab-df-container\">\n",
              "    <div>\n",
              "<style scoped>\n",
              "    .dataframe tbody tr th:only-of-type {\n",
              "        vertical-align: middle;\n",
              "    }\n",
              "\n",
              "    .dataframe tbody tr th {\n",
              "        vertical-align: top;\n",
              "    }\n",
              "\n",
              "    .dataframe thead th {\n",
              "        text-align: right;\n",
              "    }\n",
              "</style>\n",
              "<table border=\"1\" class=\"dataframe\">\n",
              "  <thead>\n",
              "    <tr style=\"text-align: right;\">\n",
              "      <th></th>\n",
              "      <th>Dato</th>\n",
              "      <th>A</th>\n",
              "      <th>B</th>\n",
              "    </tr>\n",
              "  </thead>\n",
              "  <tbody>\n",
              "    <tr>\n",
              "      <th>0</th>\n",
              "      <td>1</td>\n",
              "      <td>1.70</td>\n",
              "      <td>1.30</td>\n",
              "    </tr>\n",
              "    <tr>\n",
              "      <th>1</th>\n",
              "      <td>2</td>\n",
              "      <td>6.26</td>\n",
              "      <td>17.02</td>\n",
              "    </tr>\n",
              "    <tr>\n",
              "      <th>2</th>\n",
              "      <td>3</td>\n",
              "      <td>7.56</td>\n",
              "      <td>19.74</td>\n",
              "    </tr>\n",
              "    <tr>\n",
              "      <th>3</th>\n",
              "      <td>4</td>\n",
              "      <td>7.92</td>\n",
              "      <td>12.01</td>\n",
              "    </tr>\n",
              "    <tr>\n",
              "      <th>4</th>\n",
              "      <td>5</td>\n",
              "      <td>0.96</td>\n",
              "      <td>0.66</td>\n",
              "    </tr>\n",
              "    <tr>\n",
              "      <th>5</th>\n",
              "      <td>6</td>\n",
              "      <td>2.47</td>\n",
              "      <td>1.80</td>\n",
              "    </tr>\n",
              "    <tr>\n",
              "      <th>6</th>\n",
              "      <td>7</td>\n",
              "      <td>2.55</td>\n",
              "      <td>15.91</td>\n",
              "    </tr>\n",
              "    <tr>\n",
              "      <th>7</th>\n",
              "      <td>8</td>\n",
              "      <td>0.28</td>\n",
              "      <td>0.62</td>\n",
              "    </tr>\n",
              "    <tr>\n",
              "      <th>8</th>\n",
              "      <td>9</td>\n",
              "      <td>1.34</td>\n",
              "      <td>2.15</td>\n",
              "    </tr>\n",
              "    <tr>\n",
              "      <th>9</th>\n",
              "      <td>10</td>\n",
              "      <td>0.71</td>\n",
              "      <td>2.07</td>\n",
              "    </tr>\n",
              "    <tr>\n",
              "      <th>10</th>\n",
              "      <td>11</td>\n",
              "      <td>1.66</td>\n",
              "      <td>4.68</td>\n",
              "    </tr>\n",
              "    <tr>\n",
              "      <th>11</th>\n",
              "      <td>12</td>\n",
              "      <td>2.99</td>\n",
              "      <td>2.74</td>\n",
              "    </tr>\n",
              "    <tr>\n",
              "      <th>12</th>\n",
              "      <td>13</td>\n",
              "      <td>8.71</td>\n",
              "      <td>11.72</td>\n",
              "    </tr>\n",
              "    <tr>\n",
              "      <th>13</th>\n",
              "      <td>14</td>\n",
              "      <td>0.09</td>\n",
              "      <td>0.24</td>\n",
              "    </tr>\n",
              "    <tr>\n",
              "      <th>14</th>\n",
              "      <td>15</td>\n",
              "      <td>0.62</td>\n",
              "      <td>2.30</td>\n",
              "    </tr>\n",
              "    <tr>\n",
              "      <th>15</th>\n",
              "      <td>16</td>\n",
              "      <td>0.99</td>\n",
              "      <td>0.52</td>\n",
              "    </tr>\n",
              "    <tr>\n",
              "      <th>16</th>\n",
              "      <td>17</td>\n",
              "      <td>10.27</td>\n",
              "      <td>5.67</td>\n",
              "    </tr>\n",
              "    <tr>\n",
              "      <th>17</th>\n",
              "      <td>18</td>\n",
              "      <td>2.96</td>\n",
              "      <td>3.17</td>\n",
              "    </tr>\n",
              "    <tr>\n",
              "      <th>18</th>\n",
              "      <td>19</td>\n",
              "      <td>5.54</td>\n",
              "      <td>5.92</td>\n",
              "    </tr>\n",
              "    <tr>\n",
              "      <th>19</th>\n",
              "      <td>20</td>\n",
              "      <td>3.61</td>\n",
              "      <td>5.03</td>\n",
              "    </tr>\n",
              "  </tbody>\n",
              "</table>\n",
              "</div>\n",
              "    <div class=\"colab-df-buttons\">\n",
              "\n",
              "  <div class=\"colab-df-container\">\n",
              "    <button class=\"colab-df-convert\" onclick=\"convertToInteractive('df-b3cb9d5e-7a47-4449-911f-0ff5612d7458')\"\n",
              "            title=\"Convert this dataframe to an interactive table.\"\n",
              "            style=\"display:none;\">\n",
              "\n",
              "  <svg xmlns=\"http://www.w3.org/2000/svg\" height=\"24px\" viewBox=\"0 -960 960 960\">\n",
              "    <path d=\"M120-120v-720h720v720H120Zm60-500h600v-160H180v160Zm220 220h160v-160H400v160Zm0 220h160v-160H400v160ZM180-400h160v-160H180v160Zm440 0h160v-160H620v160ZM180-180h160v-160H180v160Zm440 0h160v-160H620v160Z\"/>\n",
              "  </svg>\n",
              "    </button>\n",
              "\n",
              "  <style>\n",
              "    .colab-df-container {\n",
              "      display:flex;\n",
              "      gap: 12px;\n",
              "    }\n",
              "\n",
              "    .colab-df-convert {\n",
              "      background-color: #E8F0FE;\n",
              "      border: none;\n",
              "      border-radius: 50%;\n",
              "      cursor: pointer;\n",
              "      display: none;\n",
              "      fill: #1967D2;\n",
              "      height: 32px;\n",
              "      padding: 0 0 0 0;\n",
              "      width: 32px;\n",
              "    }\n",
              "\n",
              "    .colab-df-convert:hover {\n",
              "      background-color: #E2EBFA;\n",
              "      box-shadow: 0px 1px 2px rgba(60, 64, 67, 0.3), 0px 1px 3px 1px rgba(60, 64, 67, 0.15);\n",
              "      fill: #174EA6;\n",
              "    }\n",
              "\n",
              "    .colab-df-buttons div {\n",
              "      margin-bottom: 4px;\n",
              "    }\n",
              "\n",
              "    [theme=dark] .colab-df-convert {\n",
              "      background-color: #3B4455;\n",
              "      fill: #D2E3FC;\n",
              "    }\n",
              "\n",
              "    [theme=dark] .colab-df-convert:hover {\n",
              "      background-color: #434B5C;\n",
              "      box-shadow: 0px 1px 3px 1px rgba(0, 0, 0, 0.15);\n",
              "      filter: drop-shadow(0px 1px 2px rgba(0, 0, 0, 0.3));\n",
              "      fill: #FFFFFF;\n",
              "    }\n",
              "  </style>\n",
              "\n",
              "    <script>\n",
              "      const buttonEl =\n",
              "        document.querySelector('#df-b3cb9d5e-7a47-4449-911f-0ff5612d7458 button.colab-df-convert');\n",
              "      buttonEl.style.display =\n",
              "        google.colab.kernel.accessAllowed ? 'block' : 'none';\n",
              "\n",
              "      async function convertToInteractive(key) {\n",
              "        const element = document.querySelector('#df-b3cb9d5e-7a47-4449-911f-0ff5612d7458');\n",
              "        const dataTable =\n",
              "          await google.colab.kernel.invokeFunction('convertToInteractive',\n",
              "                                                    [key], {});\n",
              "        if (!dataTable) return;\n",
              "\n",
              "        const docLinkHtml = 'Like what you see? Visit the ' +\n",
              "          '<a target=\"_blank\" href=https://colab.research.google.com/notebooks/data_table.ipynb>data table notebook</a>'\n",
              "          + ' to learn more about interactive tables.';\n",
              "        element.innerHTML = '';\n",
              "        dataTable['output_type'] = 'display_data';\n",
              "        await google.colab.output.renderOutput(dataTable, element);\n",
              "        const docLink = document.createElement('div');\n",
              "        docLink.innerHTML = docLinkHtml;\n",
              "        element.appendChild(docLink);\n",
              "      }\n",
              "    </script>\n",
              "  </div>\n",
              "\n",
              "\n",
              "<div id=\"df-947dbd3c-76ed-4d02-bc7a-0146e46d0a90\">\n",
              "  <button class=\"colab-df-quickchart\" onclick=\"quickchart('df-947dbd3c-76ed-4d02-bc7a-0146e46d0a90')\"\n",
              "            title=\"Suggest charts\"\n",
              "            style=\"display:none;\">\n",
              "\n",
              "<svg xmlns=\"http://www.w3.org/2000/svg\" height=\"24px\"viewBox=\"0 0 24 24\"\n",
              "     width=\"24px\">\n",
              "    <g>\n",
              "        <path d=\"M19 3H5c-1.1 0-2 .9-2 2v14c0 1.1.9 2 2 2h14c1.1 0 2-.9 2-2V5c0-1.1-.9-2-2-2zM9 17H7v-7h2v7zm4 0h-2V7h2v10zm4 0h-2v-4h2v4z\"/>\n",
              "    </g>\n",
              "</svg>\n",
              "  </button>\n",
              "\n",
              "<style>\n",
              "  .colab-df-quickchart {\n",
              "      --bg-color: #E8F0FE;\n",
              "      --fill-color: #1967D2;\n",
              "      --hover-bg-color: #E2EBFA;\n",
              "      --hover-fill-color: #174EA6;\n",
              "      --disabled-fill-color: #AAA;\n",
              "      --disabled-bg-color: #DDD;\n",
              "  }\n",
              "\n",
              "  [theme=dark] .colab-df-quickchart {\n",
              "      --bg-color: #3B4455;\n",
              "      --fill-color: #D2E3FC;\n",
              "      --hover-bg-color: #434B5C;\n",
              "      --hover-fill-color: #FFFFFF;\n",
              "      --disabled-bg-color: #3B4455;\n",
              "      --disabled-fill-color: #666;\n",
              "  }\n",
              "\n",
              "  .colab-df-quickchart {\n",
              "    background-color: var(--bg-color);\n",
              "    border: none;\n",
              "    border-radius: 50%;\n",
              "    cursor: pointer;\n",
              "    display: none;\n",
              "    fill: var(--fill-color);\n",
              "    height: 32px;\n",
              "    padding: 0;\n",
              "    width: 32px;\n",
              "  }\n",
              "\n",
              "  .colab-df-quickchart:hover {\n",
              "    background-color: var(--hover-bg-color);\n",
              "    box-shadow: 0 1px 2px rgba(60, 64, 67, 0.3), 0 1px 3px 1px rgba(60, 64, 67, 0.15);\n",
              "    fill: var(--button-hover-fill-color);\n",
              "  }\n",
              "\n",
              "  .colab-df-quickchart-complete:disabled,\n",
              "  .colab-df-quickchart-complete:disabled:hover {\n",
              "    background-color: var(--disabled-bg-color);\n",
              "    fill: var(--disabled-fill-color);\n",
              "    box-shadow: none;\n",
              "  }\n",
              "\n",
              "  .colab-df-spinner {\n",
              "    border: 2px solid var(--fill-color);\n",
              "    border-color: transparent;\n",
              "    border-bottom-color: var(--fill-color);\n",
              "    animation:\n",
              "      spin 1s steps(1) infinite;\n",
              "  }\n",
              "\n",
              "  @keyframes spin {\n",
              "    0% {\n",
              "      border-color: transparent;\n",
              "      border-bottom-color: var(--fill-color);\n",
              "      border-left-color: var(--fill-color);\n",
              "    }\n",
              "    20% {\n",
              "      border-color: transparent;\n",
              "      border-left-color: var(--fill-color);\n",
              "      border-top-color: var(--fill-color);\n",
              "    }\n",
              "    30% {\n",
              "      border-color: transparent;\n",
              "      border-left-color: var(--fill-color);\n",
              "      border-top-color: var(--fill-color);\n",
              "      border-right-color: var(--fill-color);\n",
              "    }\n",
              "    40% {\n",
              "      border-color: transparent;\n",
              "      border-right-color: var(--fill-color);\n",
              "      border-top-color: var(--fill-color);\n",
              "    }\n",
              "    60% {\n",
              "      border-color: transparent;\n",
              "      border-right-color: var(--fill-color);\n",
              "    }\n",
              "    80% {\n",
              "      border-color: transparent;\n",
              "      border-right-color: var(--fill-color);\n",
              "      border-bottom-color: var(--fill-color);\n",
              "    }\n",
              "    90% {\n",
              "      border-color: transparent;\n",
              "      border-bottom-color: var(--fill-color);\n",
              "    }\n",
              "  }\n",
              "</style>\n",
              "\n",
              "  <script>\n",
              "    async function quickchart(key) {\n",
              "      const quickchartButtonEl =\n",
              "        document.querySelector('#' + key + ' button');\n",
              "      quickchartButtonEl.disabled = true;  // To prevent multiple clicks.\n",
              "      quickchartButtonEl.classList.add('colab-df-spinner');\n",
              "      try {\n",
              "        const charts = await google.colab.kernel.invokeFunction(\n",
              "            'suggestCharts', [key], {});\n",
              "      } catch (error) {\n",
              "        console.error('Error during call to suggestCharts:', error);\n",
              "      }\n",
              "      quickchartButtonEl.classList.remove('colab-df-spinner');\n",
              "      quickchartButtonEl.classList.add('colab-df-quickchart-complete');\n",
              "    }\n",
              "    (() => {\n",
              "      let quickchartButtonEl =\n",
              "        document.querySelector('#df-947dbd3c-76ed-4d02-bc7a-0146e46d0a90 button');\n",
              "      quickchartButtonEl.style.display =\n",
              "        google.colab.kernel.accessAllowed ? 'block' : 'none';\n",
              "    })();\n",
              "  </script>\n",
              "</div>\n",
              "    </div>\n",
              "  </div>\n"
            ],
            "application/vnd.google.colaboratory.intrinsic+json": {
              "type": "dataframe",
              "variable_name": "df",
              "summary": "{\n  \"name\": \"df\",\n  \"rows\": 20,\n  \"fields\": [\n    {\n      \"column\": \"Dato\",\n      \"properties\": {\n        \"dtype\": \"number\",\n        \"std\": 5,\n        \"min\": 1,\n        \"max\": 20,\n        \"num_unique_values\": 20,\n        \"samples\": [\n          1,\n          18,\n          16\n        ],\n        \"semantic_type\": \"\",\n        \"description\": \"\"\n      }\n    },\n    {\n      \"column\": \"A\",\n      \"properties\": {\n        \"dtype\": \"number\",\n        \"std\": 3.1236659889505334,\n        \"min\": 0.09,\n        \"max\": 10.27,\n        \"num_unique_values\": 20,\n        \"samples\": [\n          1.7,\n          2.96,\n          0.99\n        ],\n        \"semantic_type\": \"\",\n        \"description\": \"\"\n      }\n    },\n    {\n      \"column\": \"B \",\n      \"properties\": {\n        \"dtype\": \"number\",\n        \"std\": 6.078202881046164,\n        \"min\": 0.24,\n        \"max\": 19.74,\n        \"num_unique_values\": 20,\n        \"samples\": [\n          1.3,\n          3.17,\n          0.52\n        ],\n        \"semantic_type\": \"\",\n        \"description\": \"\"\n      }\n    }\n  ]\n}"
            }
          },
          "metadata": {}
        }
      ],
      "source": [
        "df = pd.read_csv(\"SMwr_Ex_01.txt\", sep=\"\\t\") #el \\t es el separador de cada columna\n",
        "display (df)"
      ]
    },
    {
      "cell_type": "code",
      "execution_count": 30,
      "id": "bd1d3ab9-ddf7-4df0-a652-57e39ed21de7",
      "metadata": {
        "colab": {
          "base_uri": "https://localhost:8080/"
        },
        "id": "bd1d3ab9-ddf7-4df0-a652-57e39ed21de7",
        "outputId": "d3419fa4-f74a-4668-cbfb-fffe5948c6ad"
      },
      "outputs": [
        {
          "output_type": "execute_result",
          "data": {
            "text/plain": [
              "Index(['Dato', 'A', 'B '], dtype='object')"
            ]
          },
          "metadata": {},
          "execution_count": 30
        }
      ],
      "source": [
        "#Viendo las columnas\n",
        "df.columns"
      ]
    },
    {
      "cell_type": "code",
      "execution_count": 31,
      "id": "27016760-e923-48b3-b526-674a8db3a1d5",
      "metadata": {
        "id": "27016760-e923-48b3-b526-674a8db3a1d5"
      },
      "outputs": [],
      "source": [
        "#corrijamos el error en B\n",
        "df.rename(columns={'B ': 'B'}, inplace=True)\n"
      ]
    },
    {
      "cell_type": "markdown",
      "id": "a291eca4-5143-4b7a-83ce-cfb54966f5ab",
      "metadata": {
        "id": "a291eca4-5143-4b7a-83ce-cfb54966f5ab"
      },
      "source": [
        "Desplegando la información"
      ]
    },
    {
      "cell_type": "code",
      "execution_count": 32,
      "id": "5c076d8d-4920-41bd-8f6d-0a1509450b4e",
      "metadata": {
        "colab": {
          "base_uri": "https://localhost:8080/"
        },
        "id": "5c076d8d-4920-41bd-8f6d-0a1509450b4e",
        "outputId": "610243b0-9110-4e1d-e41a-344ea95d5fe8"
      },
      "outputs": [
        {
          "output_type": "stream",
          "name": "stdout",
          "text": [
            "<class 'pandas.core.frame.DataFrame'>\n",
            "RangeIndex: 20 entries, 0 to 19\n",
            "Data columns (total 3 columns):\n",
            " #   Column  Non-Null Count  Dtype  \n",
            "---  ------  --------------  -----  \n",
            " 0   Dato    20 non-null     int64  \n",
            " 1   A       20 non-null     float64\n",
            " 2   B       20 non-null     float64\n",
            "dtypes: float64(2), int64(1)\n",
            "memory usage: 608.0 bytes\n"
          ]
        }
      ],
      "source": [
        "df.info()"
      ]
    },
    {
      "cell_type": "markdown",
      "id": "003397d3-2873-478a-bf6f-cfb687b2d38d",
      "metadata": {
        "id": "003397d3-2873-478a-bf6f-cfb687b2d38d"
      },
      "source": [
        "Ahoras las estadísticas basicas"
      ]
    },
    {
      "cell_type": "code",
      "execution_count": 33,
      "id": "f281d08c-8b07-45f1-a8dc-7a09677237d6",
      "metadata": {
        "colab": {
          "base_uri": "https://localhost:8080/",
          "height": 300
        },
        "id": "f281d08c-8b07-45f1-a8dc-7a09677237d6",
        "outputId": "9c86b8d0-857e-4e2d-a079-f625a71c9dfb"
      },
      "outputs": [
        {
          "output_type": "execute_result",
          "data": {
            "text/plain": [
              "           Dato          A          B\n",
              "count  20.00000  20.000000  20.000000\n",
              "mean   10.50000   3.459500   5.763500\n",
              "std     5.91608   3.123666   6.078203\n",
              "min     1.00000   0.090000   0.240000\n",
              "25%     5.75000   0.982500   1.675000\n",
              "50%    10.50000   2.510000   2.955000\n",
              "75%    15.25000   5.720000   7.370000\n",
              "max    20.00000  10.270000  19.740000"
            ],
            "text/html": [
              "\n",
              "  <div id=\"df-ae33a12e-b47e-44ae-87f7-20fabda4d62b\" class=\"colab-df-container\">\n",
              "    <div>\n",
              "<style scoped>\n",
              "    .dataframe tbody tr th:only-of-type {\n",
              "        vertical-align: middle;\n",
              "    }\n",
              "\n",
              "    .dataframe tbody tr th {\n",
              "        vertical-align: top;\n",
              "    }\n",
              "\n",
              "    .dataframe thead th {\n",
              "        text-align: right;\n",
              "    }\n",
              "</style>\n",
              "<table border=\"1\" class=\"dataframe\">\n",
              "  <thead>\n",
              "    <tr style=\"text-align: right;\">\n",
              "      <th></th>\n",
              "      <th>Dato</th>\n",
              "      <th>A</th>\n",
              "      <th>B</th>\n",
              "    </tr>\n",
              "  </thead>\n",
              "  <tbody>\n",
              "    <tr>\n",
              "      <th>count</th>\n",
              "      <td>20.00000</td>\n",
              "      <td>20.000000</td>\n",
              "      <td>20.000000</td>\n",
              "    </tr>\n",
              "    <tr>\n",
              "      <th>mean</th>\n",
              "      <td>10.50000</td>\n",
              "      <td>3.459500</td>\n",
              "      <td>5.763500</td>\n",
              "    </tr>\n",
              "    <tr>\n",
              "      <th>std</th>\n",
              "      <td>5.91608</td>\n",
              "      <td>3.123666</td>\n",
              "      <td>6.078203</td>\n",
              "    </tr>\n",
              "    <tr>\n",
              "      <th>min</th>\n",
              "      <td>1.00000</td>\n",
              "      <td>0.090000</td>\n",
              "      <td>0.240000</td>\n",
              "    </tr>\n",
              "    <tr>\n",
              "      <th>25%</th>\n",
              "      <td>5.75000</td>\n",
              "      <td>0.982500</td>\n",
              "      <td>1.675000</td>\n",
              "    </tr>\n",
              "    <tr>\n",
              "      <th>50%</th>\n",
              "      <td>10.50000</td>\n",
              "      <td>2.510000</td>\n",
              "      <td>2.955000</td>\n",
              "    </tr>\n",
              "    <tr>\n",
              "      <th>75%</th>\n",
              "      <td>15.25000</td>\n",
              "      <td>5.720000</td>\n",
              "      <td>7.370000</td>\n",
              "    </tr>\n",
              "    <tr>\n",
              "      <th>max</th>\n",
              "      <td>20.00000</td>\n",
              "      <td>10.270000</td>\n",
              "      <td>19.740000</td>\n",
              "    </tr>\n",
              "  </tbody>\n",
              "</table>\n",
              "</div>\n",
              "    <div class=\"colab-df-buttons\">\n",
              "\n",
              "  <div class=\"colab-df-container\">\n",
              "    <button class=\"colab-df-convert\" onclick=\"convertToInteractive('df-ae33a12e-b47e-44ae-87f7-20fabda4d62b')\"\n",
              "            title=\"Convert this dataframe to an interactive table.\"\n",
              "            style=\"display:none;\">\n",
              "\n",
              "  <svg xmlns=\"http://www.w3.org/2000/svg\" height=\"24px\" viewBox=\"0 -960 960 960\">\n",
              "    <path d=\"M120-120v-720h720v720H120Zm60-500h600v-160H180v160Zm220 220h160v-160H400v160Zm0 220h160v-160H400v160ZM180-400h160v-160H180v160Zm440 0h160v-160H620v160ZM180-180h160v-160H180v160Zm440 0h160v-160H620v160Z\"/>\n",
              "  </svg>\n",
              "    </button>\n",
              "\n",
              "  <style>\n",
              "    .colab-df-container {\n",
              "      display:flex;\n",
              "      gap: 12px;\n",
              "    }\n",
              "\n",
              "    .colab-df-convert {\n",
              "      background-color: #E8F0FE;\n",
              "      border: none;\n",
              "      border-radius: 50%;\n",
              "      cursor: pointer;\n",
              "      display: none;\n",
              "      fill: #1967D2;\n",
              "      height: 32px;\n",
              "      padding: 0 0 0 0;\n",
              "      width: 32px;\n",
              "    }\n",
              "\n",
              "    .colab-df-convert:hover {\n",
              "      background-color: #E2EBFA;\n",
              "      box-shadow: 0px 1px 2px rgba(60, 64, 67, 0.3), 0px 1px 3px 1px rgba(60, 64, 67, 0.15);\n",
              "      fill: #174EA6;\n",
              "    }\n",
              "\n",
              "    .colab-df-buttons div {\n",
              "      margin-bottom: 4px;\n",
              "    }\n",
              "\n",
              "    [theme=dark] .colab-df-convert {\n",
              "      background-color: #3B4455;\n",
              "      fill: #D2E3FC;\n",
              "    }\n",
              "\n",
              "    [theme=dark] .colab-df-convert:hover {\n",
              "      background-color: #434B5C;\n",
              "      box-shadow: 0px 1px 3px 1px rgba(0, 0, 0, 0.15);\n",
              "      filter: drop-shadow(0px 1px 2px rgba(0, 0, 0, 0.3));\n",
              "      fill: #FFFFFF;\n",
              "    }\n",
              "  </style>\n",
              "\n",
              "    <script>\n",
              "      const buttonEl =\n",
              "        document.querySelector('#df-ae33a12e-b47e-44ae-87f7-20fabda4d62b button.colab-df-convert');\n",
              "      buttonEl.style.display =\n",
              "        google.colab.kernel.accessAllowed ? 'block' : 'none';\n",
              "\n",
              "      async function convertToInteractive(key) {\n",
              "        const element = document.querySelector('#df-ae33a12e-b47e-44ae-87f7-20fabda4d62b');\n",
              "        const dataTable =\n",
              "          await google.colab.kernel.invokeFunction('convertToInteractive',\n",
              "                                                    [key], {});\n",
              "        if (!dataTable) return;\n",
              "\n",
              "        const docLinkHtml = 'Like what you see? Visit the ' +\n",
              "          '<a target=\"_blank\" href=https://colab.research.google.com/notebooks/data_table.ipynb>data table notebook</a>'\n",
              "          + ' to learn more about interactive tables.';\n",
              "        element.innerHTML = '';\n",
              "        dataTable['output_type'] = 'display_data';\n",
              "        await google.colab.output.renderOutput(dataTable, element);\n",
              "        const docLink = document.createElement('div');\n",
              "        docLink.innerHTML = docLinkHtml;\n",
              "        element.appendChild(docLink);\n",
              "      }\n",
              "    </script>\n",
              "  </div>\n",
              "\n",
              "\n",
              "<div id=\"df-9abf93de-4f1d-45f0-bccb-2b1493a9d2f9\">\n",
              "  <button class=\"colab-df-quickchart\" onclick=\"quickchart('df-9abf93de-4f1d-45f0-bccb-2b1493a9d2f9')\"\n",
              "            title=\"Suggest charts\"\n",
              "            style=\"display:none;\">\n",
              "\n",
              "<svg xmlns=\"http://www.w3.org/2000/svg\" height=\"24px\"viewBox=\"0 0 24 24\"\n",
              "     width=\"24px\">\n",
              "    <g>\n",
              "        <path d=\"M19 3H5c-1.1 0-2 .9-2 2v14c0 1.1.9 2 2 2h14c1.1 0 2-.9 2-2V5c0-1.1-.9-2-2-2zM9 17H7v-7h2v7zm4 0h-2V7h2v10zm4 0h-2v-4h2v4z\"/>\n",
              "    </g>\n",
              "</svg>\n",
              "  </button>\n",
              "\n",
              "<style>\n",
              "  .colab-df-quickchart {\n",
              "      --bg-color: #E8F0FE;\n",
              "      --fill-color: #1967D2;\n",
              "      --hover-bg-color: #E2EBFA;\n",
              "      --hover-fill-color: #174EA6;\n",
              "      --disabled-fill-color: #AAA;\n",
              "      --disabled-bg-color: #DDD;\n",
              "  }\n",
              "\n",
              "  [theme=dark] .colab-df-quickchart {\n",
              "      --bg-color: #3B4455;\n",
              "      --fill-color: #D2E3FC;\n",
              "      --hover-bg-color: #434B5C;\n",
              "      --hover-fill-color: #FFFFFF;\n",
              "      --disabled-bg-color: #3B4455;\n",
              "      --disabled-fill-color: #666;\n",
              "  }\n",
              "\n",
              "  .colab-df-quickchart {\n",
              "    background-color: var(--bg-color);\n",
              "    border: none;\n",
              "    border-radius: 50%;\n",
              "    cursor: pointer;\n",
              "    display: none;\n",
              "    fill: var(--fill-color);\n",
              "    height: 32px;\n",
              "    padding: 0;\n",
              "    width: 32px;\n",
              "  }\n",
              "\n",
              "  .colab-df-quickchart:hover {\n",
              "    background-color: var(--hover-bg-color);\n",
              "    box-shadow: 0 1px 2px rgba(60, 64, 67, 0.3), 0 1px 3px 1px rgba(60, 64, 67, 0.15);\n",
              "    fill: var(--button-hover-fill-color);\n",
              "  }\n",
              "\n",
              "  .colab-df-quickchart-complete:disabled,\n",
              "  .colab-df-quickchart-complete:disabled:hover {\n",
              "    background-color: var(--disabled-bg-color);\n",
              "    fill: var(--disabled-fill-color);\n",
              "    box-shadow: none;\n",
              "  }\n",
              "\n",
              "  .colab-df-spinner {\n",
              "    border: 2px solid var(--fill-color);\n",
              "    border-color: transparent;\n",
              "    border-bottom-color: var(--fill-color);\n",
              "    animation:\n",
              "      spin 1s steps(1) infinite;\n",
              "  }\n",
              "\n",
              "  @keyframes spin {\n",
              "    0% {\n",
              "      border-color: transparent;\n",
              "      border-bottom-color: var(--fill-color);\n",
              "      border-left-color: var(--fill-color);\n",
              "    }\n",
              "    20% {\n",
              "      border-color: transparent;\n",
              "      border-left-color: var(--fill-color);\n",
              "      border-top-color: var(--fill-color);\n",
              "    }\n",
              "    30% {\n",
              "      border-color: transparent;\n",
              "      border-left-color: var(--fill-color);\n",
              "      border-top-color: var(--fill-color);\n",
              "      border-right-color: var(--fill-color);\n",
              "    }\n",
              "    40% {\n",
              "      border-color: transparent;\n",
              "      border-right-color: var(--fill-color);\n",
              "      border-top-color: var(--fill-color);\n",
              "    }\n",
              "    60% {\n",
              "      border-color: transparent;\n",
              "      border-right-color: var(--fill-color);\n",
              "    }\n",
              "    80% {\n",
              "      border-color: transparent;\n",
              "      border-right-color: var(--fill-color);\n",
              "      border-bottom-color: var(--fill-color);\n",
              "    }\n",
              "    90% {\n",
              "      border-color: transparent;\n",
              "      border-bottom-color: var(--fill-color);\n",
              "    }\n",
              "  }\n",
              "</style>\n",
              "\n",
              "  <script>\n",
              "    async function quickchart(key) {\n",
              "      const quickchartButtonEl =\n",
              "        document.querySelector('#' + key + ' button');\n",
              "      quickchartButtonEl.disabled = true;  // To prevent multiple clicks.\n",
              "      quickchartButtonEl.classList.add('colab-df-spinner');\n",
              "      try {\n",
              "        const charts = await google.colab.kernel.invokeFunction(\n",
              "            'suggestCharts', [key], {});\n",
              "      } catch (error) {\n",
              "        console.error('Error during call to suggestCharts:', error);\n",
              "      }\n",
              "      quickchartButtonEl.classList.remove('colab-df-spinner');\n",
              "      quickchartButtonEl.classList.add('colab-df-quickchart-complete');\n",
              "    }\n",
              "    (() => {\n",
              "      let quickchartButtonEl =\n",
              "        document.querySelector('#df-9abf93de-4f1d-45f0-bccb-2b1493a9d2f9 button');\n",
              "      quickchartButtonEl.style.display =\n",
              "        google.colab.kernel.accessAllowed ? 'block' : 'none';\n",
              "    })();\n",
              "  </script>\n",
              "</div>\n",
              "    </div>\n",
              "  </div>\n"
            ],
            "application/vnd.google.colaboratory.intrinsic+json": {
              "type": "dataframe",
              "summary": "{\n  \"name\": \"df\",\n  \"rows\": 8,\n  \"fields\": [\n    {\n      \"column\": \"Dato\",\n      \"properties\": {\n        \"dtype\": \"number\",\n        \"std\": 6.906170579382335,\n        \"min\": 1.0,\n        \"max\": 20.0,\n        \"num_unique_values\": 6,\n        \"samples\": [\n          20.0,\n          10.5,\n          15.25\n        ],\n        \"semantic_type\": \"\",\n        \"description\": \"\"\n      }\n    },\n    {\n      \"column\": \"A\",\n      \"properties\": {\n        \"dtype\": \"number\",\n        \"std\": 6.556316995845421,\n        \"min\": 0.09,\n        \"max\": 20.0,\n        \"num_unique_values\": 8,\n        \"samples\": [\n          3.4595,\n          2.51,\n          20.0\n        ],\n        \"semantic_type\": \"\",\n        \"description\": \"\"\n      }\n    },\n    {\n      \"column\": \"B\",\n      \"properties\": {\n        \"dtype\": \"number\",\n        \"std\": 7.714467046526386,\n        \"min\": 0.24,\n        \"max\": 20.0,\n        \"num_unique_values\": 8,\n        \"samples\": [\n          5.7635000000000005,\n          2.955,\n          20.0\n        ],\n        \"semantic_type\": \"\",\n        \"description\": \"\"\n      }\n    }\n  ]\n}"
            }
          },
          "metadata": {},
          "execution_count": 33
        }
      ],
      "source": [
        "df.describe()"
      ]
    },
    {
      "cell_type": "markdown",
      "id": "36fa3dcf-b1ce-4449-98b9-2641f844deb7",
      "metadata": {
        "id": "36fa3dcf-b1ce-4449-98b9-2641f844deb7"
      },
      "source": [
        "1. Haga un histograma de A con anchura de clases de 1, 2 y 5 unidades. ¿Qué fracción de los datos tiene\n",
        "valores entre 5 y 10?"
      ]
    },
    {
      "cell_type": "markdown",
      "id": "01977ed4-ccca-452c-b298-b462ab23acbb",
      "metadata": {
        "id": "01977ed4-ccca-452c-b298-b462ab23acbb"
      },
      "source": [
        "La anchura del histograma depende del número de bins de la siguiente manera:\n",
        "\n",
        "$$\n",
        "bins = \\frac{v_{max} - v_{min}}{ancho}\n",
        "$$\n",
        "\n",
        "Donde $v_{max}$ es el valor maximo,  $v_{max}$ el valor minimo y $ancho$ es la anchura deseada\n",
        "\n",
        "\n"
      ]
    },
    {
      "cell_type": "code",
      "execution_count": 34,
      "id": "3c8243cf-98f8-4298-a58a-c2b7837fe7a8",
      "metadata": {
        "colab": {
          "base_uri": "https://localhost:8080/",
          "height": 807
        },
        "id": "3c8243cf-98f8-4298-a58a-c2b7837fe7a8",
        "outputId": "9b76e232-e668-45f7-e555-4af969b99905"
      },
      "outputs": [
        {
          "output_type": "display_data",
          "data": {
            "text/plain": [
              "<Figure size 500x800 with 3 Axes>"
            ],
            "image/png": "[encoded data removed]"
          },
          "metadata": {}
        }
      ],
      "source": [
        "anchos = [1,2,5]\n",
        "max_A = df['A'].max()\n",
        "min_A = df['A'].min()\n",
        "fig, ax = plt.subplots(3,1,figsize=(5,8)) #matriz de graficos nxm n=nummero de filas y m numero de columnas\n",
        "for indice,ancho in enumerate(anchos):\n",
        "    bins_=int((max_A-min_A)/ancho )\n",
        "    ax[indice].hist(df['A'],bins = bins_, width=0.95*ancho, color='purple',alpha=0.5)#alpha para transprencia\n",
        "    ax[indice].set_title(f\"Histograma de A (Anchura de: {ancho})\")\n",
        "    ax[indice].set_xlabel('Valor')\n",
        "    ax[indice].set_ylabel('Frecuencia')\n",
        "\n",
        "plt.tight_layout() #separa las graficas\n",
        "plt.show() #muestra graficos"
      ]
    },
    {
      "cell_type": "markdown",
      "id": "e4826897-de2c-4dad-93c1-cba2eedf10aa",
      "metadata": {
        "id": "e4826897-de2c-4dad-93c1-cba2eedf10aa"
      },
      "source": [
        "Ahora calculemos la fracción de los datos entre 5 y 10, para esto utilicemos una mascara boleana"
      ]
    },
    {
      "cell_type": "code",
      "execution_count": 35,
      "id": "21a3b777-5a38-438b-9249-bd2fc881b414",
      "metadata": {
        "colab": {
          "base_uri": "https://localhost:8080/",
          "height": 191
        },
        "id": "21a3b777-5a38-438b-9249-bd2fc881b414",
        "outputId": "b6dbc2c3-6bcd-4168-c438-ce49524b03f3"
      },
      "outputs": [
        {
          "output_type": "stream",
          "name": "stdout",
          "text": [
            "Valores entre (5,10)\n"
          ]
        },
        {
          "output_type": "display_data",
          "data": {
            "text/plain": [
              "1     6.26\n",
              "2     7.56\n",
              "3     7.92\n",
              "12    8.71\n",
              "18    5.54\n",
              "Name: A, dtype: float64"
            ]
          },
          "metadata": {}
        },
        {
          "output_type": "stream",
          "name": "stdout",
          "text": [
            "\n",
            "Porcentaje:\n",
            "25.0%\n"
          ]
        }
      ],
      "source": [
        "mascara = (df['A']>5) & (df['A']<10) #valores mayores a 5 y menores a 10\n",
        "# valores en (5,10)\n",
        "print('Valores entre (5,10)')\n",
        "display(df['A'][mascara])\n",
        "print(f'\\nPorcentaje:\\n{len(df[mascara])/len(df)*100}%')#saca el porcentaje de datos entre 5 y 10 con respecto al conjunto A)\n"
      ]
    },
    {
      "cell_type": "markdown",
      "id": "c7651c78-2563-47a3-a087-d9515fae867b",
      "metadata": {
        "id": "c7651c78-2563-47a3-a087-d9515fae867b"
      },
      "source": [
        "2. Haga un histograma de B con anchura de clases de 1, 2 y 5 unidades. ¿Qué fracción de los datos tiene\n",
        "valores entre 10 y 15?\n",
        "\n",
        "Para B realizamos el mismo procesos  "
      ]
    },
    {
      "cell_type": "code",
      "execution_count": 36,
      "id": "106f76f1-a38b-4c02-8af7-a371405c6739",
      "metadata": {
        "colab": {
          "base_uri": "https://localhost:8080/",
          "height": 807
        },
        "id": "106f76f1-a38b-4c02-8af7-a371405c6739",
        "outputId": "353f6c6c-997a-4c83-98cf-e294bb8b49c6"
      },
      "outputs": [
        {
          "output_type": "display_data",
          "data": {
            "text/plain": [
              "<Figure size 500x800 with 3 Axes>"
            ],
            "image/png": "[encoded data removed]"
          },
          "metadata": {}
        }
      ],
      "source": [
        "anchos = [1,2,5]\n",
        "max_B = df['B'].max()\n",
        "min_B = df['B'].min()\n",
        "fig, ax = plt.subplots(3,1,figsize=(5,8))\n",
        "for indice,ancho in enumerate(anchos):\n",
        "    bins_=int((max_A-min_A)/ancho )\n",
        "    ax[indice].hist(df['B'],bins = bins_, width=0.95*ancho, color='yellow')\n",
        "    ax[indice].set_title(f\"Histograma de B (Anchura de: {ancho})\")\n",
        "    ax[indice].set_xlabel('Valor')\n",
        "    ax[indice].set_ylabel('Frecuencia')\n",
        "\n",
        "plt.tight_layout()\n",
        "plt.show()"
      ]
    },
    {
      "cell_type": "code",
      "execution_count": 37,
      "id": "fc1b2e69-cf34-4bbc-a42a-aa811dc39d7c",
      "metadata": {
        "colab": {
          "base_uri": "https://localhost:8080/",
          "height": 138
        },
        "id": "fc1b2e69-cf34-4bbc-a42a-aa811dc39d7c",
        "outputId": "6109564b-5ba3-4da4-aad6-36faa7996114"
      },
      "outputs": [
        {
          "output_type": "stream",
          "name": "stdout",
          "text": [
            "Valores entre (10,15)\n"
          ]
        },
        {
          "output_type": "display_data",
          "data": {
            "text/plain": [
              "3     12.01\n",
              "12    11.72\n",
              "Name: B, dtype: float64"
            ]
          },
          "metadata": {}
        },
        {
          "output_type": "stream",
          "name": "stdout",
          "text": [
            "\n",
            "Porcentaje:\n",
            "10.0%\n"
          ]
        }
      ],
      "source": [
        "mascara = (df['B']>10) & (df['B']<15) #valores mayores a 5 y menores a 10\n",
        "# valores en (5,10)\n",
        "print('Valores entre (10,15)')\n",
        "display(df['B'][mascara])\n",
        "print(f'\\nPorcentaje:\\n{len(df[mascara])/(len(df))*100}%')"
      ]
    },
    {
      "cell_type": "markdown",
      "id": "4502b44e-05e6-4afd-a6a2-73d31ede0d41",
      "metadata": {
        "id": "4502b44e-05e6-4afd-a6a2-73d31ede0d41"
      },
      "source": [
        "3. Construya la distribución acumulativa de A y B.\n",
        "\n",
        "La probabilidad acumulativa para una variable discreta esta dada por:\n",
        "$$\n",
        "p(x)=\\sum_{i=0}^{n}f(x_i)\n",
        "$$\n",
        "\n",
        "donde $f(x_i)$ es la frecuencia relativa para el dato $x_i$ y esta dada por\n",
        "\n",
        "$$\n",
        "f(x_i)=\\frac{\\text{Numero de ocurrencia de} \\;x_i}{\\text{Numero de elementos}}\n",
        "$$\n",
        "\n",
        "por tanto para calcular la probabilidad acumulativa"
      ]
    },
    {
      "cell_type": "code",
      "execution_count": 38,
      "id": "0baa48f1-0130-4e22-894f-436319a45be1",
      "metadata": {
        "colab": {
          "base_uri": "https://localhost:8080/"
        },
        "id": "0baa48f1-0130-4e22-894f-436319a45be1",
        "outputId": "0291a96e-08d0-4cfc-90b1-b08252f1eb90"
      },
      "outputs": [
        {
          "output_type": "execute_result",
          "data": {
            "text/plain": [
              "1.70     1\n",
              "6.26     1\n",
              "5.54     1\n",
              "2.96     1\n",
              "10.27    1\n",
              "0.99     1\n",
              "0.62     1\n",
              "0.09     1\n",
              "8.71     1\n",
              "2.99     1\n",
              "1.66     1\n",
              "0.71     1\n",
              "1.34     1\n",
              "0.28     1\n",
              "2.55     1\n",
              "2.47     1\n",
              "0.96     1\n",
              "7.92     1\n",
              "7.56     1\n",
              "3.61     1\n",
              "Name: A, dtype: int64"
            ]
          },
          "metadata": {},
          "execution_count": 38
        }
      ],
      "source": [
        "# calculo de frecuencia relativa\n",
        "\n",
        "frecuencia = df['A'].value_counts()\n",
        "frecuencia"
      ]
    },
    {
      "cell_type": "markdown",
      "id": "e88dee66-e490-49c9-a958-433c2f8be349",
      "metadata": {
        "id": "e88dee66-e490-49c9-a958-433c2f8be349"
      },
      "source": [
        "Como vemos cada dato solo aparece una vez entonces mejor calculamos la frecuencia en un intervalo dado."
      ]
    },
    {
      "cell_type": "code",
      "execution_count": 39,
      "id": "f7e3cde6-bf1c-4b53-b962-1f3f3a5000cf",
      "metadata": {
        "colab": {
          "base_uri": "https://localhost:8080/"
        },
        "id": "f7e3cde6-bf1c-4b53-b962-1f3f3a5000cf",
        "outputId": "2ccc3ddb-ecb8-44e7-de08-e802ade881d9"
      },
      "outputs": [
        {
          "output_type": "stream",
          "name": "stdout",
          "text": [
            "frecuencia\n",
            " [6, 3, 4, 1, 0, 1, 1, 2, 1, 0, 1]\n",
            "frecuencia relativas\n",
            " [0.3, 0.15, 0.2, 0.05, 0.0, 0.05, 0.05, 0.1, 0.05, 0.0, 0.05]\n",
            "intervalos\n",
            " [[0, 1], [1, 2], [2, 3], [3, 4], [4, 5], [5, 6], [6, 7], [7, 8], [8, 9], [9, 10], [10, 11]]\n"
          ]
        }
      ],
      "source": [
        "ancho_inter=1\n",
        "frecuencia=[]\n",
        "frecuencias_relativas = []\n",
        "intervalo = []\n",
        "for i in range(np.ceil(max_A).astype(int)):\n",
        "    datos_intervalo = df[(df['A'] >= i) & (df['A'] <= i+ancho_inter)]\n",
        "    frecuencia.append(len(datos_intervalo))\n",
        "    frecuencia_relativa = frecuencia[i] /len(df)\n",
        "    frecuencias_relativas.append(frecuencia_relativa)\n",
        "    intervalo.append([i,i+1])\n",
        "print('frecuencia\\n', frecuencia)\n",
        "print('frecuencia relativas\\n',frecuencias_relativas)\n",
        "print('intervalos\\n',intervalo)\n"
      ]
    },
    {
      "cell_type": "markdown",
      "id": "89e2eca7-db57-42ca-83c4-0706d7208bcf",
      "metadata": {
        "id": "89e2eca7-db57-42ca-83c4-0706d7208bcf"
      },
      "source": [
        "Ya teniendo las frecuencias relativas podemos calcular la probabilidas acumulada"
      ]
    },
    {
      "cell_type": "code",
      "execution_count": 40,
      "id": "cce7aaed-9c22-4a87-bb95-009d1c237b0d",
      "metadata": {
        "colab": {
          "base_uri": "https://localhost:8080/"
        },
        "id": "cce7aaed-9c22-4a87-bb95-009d1c237b0d",
        "outputId": "873f17bf-b248-49bc-fd8e-895ca7b2277e"
      },
      "outputs": [
        {
          "output_type": "stream",
          "name": "stdout",
          "text": [
            "Probabilidad acumulada de A\n",
            "\n"
          ]
        },
        {
          "output_type": "execute_result",
          "data": {
            "text/plain": [
              "[0.3,\n",
              " 0.44999999999999996,\n",
              " 0.6499999999999999,\n",
              " 0.7,\n",
              " 0.7,\n",
              " 0.75,\n",
              " 0.8,\n",
              " 0.9,\n",
              " 0.9500000000000001,\n",
              " 0.9500000000000001,\n",
              " 1.0]"
            ]
          },
          "metadata": {},
          "execution_count": 40
        }
      ],
      "source": [
        "probabilidades_acumuladas = []\n",
        "acumulada = 0\n",
        "for frecuencia in frecuencias_relativas:\n",
        "    acumulada += frecuencia\n",
        "    probabilidades_acumuladas.append(acumulada)\n",
        "print('Probabilidad acumulada de A\\n')\n",
        "probabilidades_acumuladas"
      ]
    },
    {
      "cell_type": "markdown",
      "id": "6c831f4c-9c17-40b3-bf40-23eb6af68193",
      "metadata": {
        "id": "6c831f4c-9c17-40b3-bf40-23eb6af68193"
      },
      "source": [
        "Ahora la graficamos"
      ]
    },
    {
      "cell_type": "code",
      "execution_count": 41,
      "id": "f9c120a4-c86b-442f-a1a4-65fc047148e3",
      "metadata": {
        "colab": {
          "base_uri": "https://localhost:8080/",
          "height": 493
        },
        "id": "f9c120a4-c86b-442f-a1a4-65fc047148e3",
        "outputId": "209ce522-8ce3-4440-cc86-7e3b705595fb"
      },
      "outputs": [
        {
          "output_type": "display_data",
          "data": {
            "text/plain": [
              "<Figure size 640x480 with 1 Axes>"
            ],
            "image/png": "[encoded data removed]"
          },
          "metadata": {}
        }
      ],
      "source": [
        "x= np.arange(1,len(probabilidades_acumuladas)+1)\n",
        "plt.step(x, probabilidades_acumuladas, where='mid', label='step')\n",
        "plt.plot(x, probabilidades_acumuladas,label='continua')\n",
        "plt.xlabel('Intervalos')\n",
        "plt.ylabel('Probabilidad acumulada')\n",
        "plt.title(f'Distribución de Probabilidad Acumulada de \\\n",
        " A\\n con intervalo de {ancho_inter}')\n",
        "plt.legend()\n",
        "plt.show()"
      ]
    },
    {
      "cell_type": "markdown",
      "id": "f4ff7864-31a3-44dc-8df0-2174ced8ad11",
      "metadata": {
        "id": "f4ff7864-31a3-44dc-8df0-2174ced8ad11"
      },
      "source": [
        "Ahora lo mismo para B"
      ]
    },
    {
      "cell_type": "code",
      "execution_count": 42,
      "id": "f5eb1d66-7db6-4935-937f-17875b67634d",
      "metadata": {
        "colab": {
          "base_uri": "https://localhost:8080/",
          "height": 666
        },
        "id": "f5eb1d66-7db6-4935-937f-17875b67634d",
        "outputId": "c66ac4e6-4c79-4d25-9a0e-65cc939e24fe"
      },
      "outputs": [
        {
          "output_type": "stream",
          "name": "stdout",
          "text": [
            "frecuencia\n",
            " [4, 2, 4, 1, 1, 3, 0, 0, 0, 0, 0, 1, 1, 0, 0, 1, 0, 1, 0, 1]\n",
            "frecuencia relativas\n",
            " [0.2, 0.1, 0.2, 0.05, 0.05, 0.15, 0.0, 0.0, 0.0, 0.0, 0.0, 0.05, 0.05, 0.0, 0.0, 0.05, 0.0, 0.05, 0.0, 0.05]\n",
            "intervalos\n",
            " [[0, 1], [1, 2], [2, 3], [3, 4], [4, 5], [5, 6], [6, 7], [7, 8], [8, 9], [9, 10], [10, 11], [11, 12], [12, 13], [13, 14], [14, 15], [15, 16], [16, 17], [17, 18], [18, 19], [19, 20]]\n",
            "Probabilidad acumulada de B\n",
            "A\n",
            " con intervalo de 1\n",
            "[0.2, 0.30000000000000004, 0.5, 0.55, 0.6000000000000001, 0.7500000000000001, 0.7500000000000001, 0.7500000000000001, 0.7500000000000001, 0.7500000000000001, 0.7500000000000001, 0.8000000000000002, 0.8500000000000002, 0.8500000000000002, 0.8500000000000002, 0.9000000000000002, 0.9000000000000002, 0.9500000000000003, 0.9500000000000003, 1.0000000000000002]\n"
          ]
        },
        {
          "output_type": "display_data",
          "data": {
            "text/plain": [
              "<Figure size 640x480 with 1 Axes>"
            ],
            "image/png": "[encoded data removed]"
          },
          "metadata": {}
        }
      ],
      "source": [
        "ancho_inter=1\n",
        "frecuencia=[]\n",
        "frecuencias_relativas = []\n",
        "intervalo = []\n",
        "for i in range(np.ceil(max_B).astype(int)):\n",
        "    datos_intervalo = df[(df['B'] >= i) & (df['B'] <= i+ancho_inter)]\n",
        "    frecuencia.append(len(datos_intervalo))\n",
        "    frecuencia_relativa = frecuencia[i] /len(df)\n",
        "    frecuencias_relativas.append(frecuencia_relativa)\n",
        "    intervalo.append([i,i+1])\n",
        "print('frecuencia\\n', frecuencia)\n",
        "print('frecuencia relativas\\n',frecuencias_relativas)\n",
        "print('intervalos\\n',intervalo)\n",
        "\n",
        "probabilidades_acumuladas = []\n",
        "acumulada = 0\n",
        "for frecuencia in frecuencias_relativas:\n",
        "    acumulada += frecuencia\n",
        "    probabilidades_acumuladas.append(acumulada)\n",
        "print(f'Probabilidad acumulada de B\\n\\\n",
        "A\\n con intervalo de {ancho_inter}')\n",
        "print (f'{probabilidades_acumuladas}')\n",
        "\n",
        "x= np.arange(1,len(probabilidades_acumuladas)+1)\n",
        "plt.step(x, probabilidades_acumuladas, where='mid', label='step')\n",
        "plt.plot(x, probabilidades_acumuladas,label='continua')\n",
        "plt.xlabel('Intervalos')\n",
        "plt.ylabel('Probabilidad acumulada')\n",
        "plt.title('Distribución de Probabilidad Acumulada de B')\n",
        "plt.legend()\n",
        "plt.show()"
      ]
    },
    {
      "cell_type": "markdown",
      "id": "3563a42b-6e8d-4681-ad9d-ca1dbc327081",
      "metadata": {
        "id": "3563a42b-6e8d-4681-ad9d-ca1dbc327081"
      },
      "source": [
        "4. Calcule la media, la varianza, la asimetría, la curtosis, los cuantiles, la mediana y el rango intercuartílico\n",
        "de A y B.\n",
        "\n",
        "para esto utilizamos las funciones de pandas"
      ]
    },
    {
      "cell_type": "code",
      "execution_count": 43,
      "id": "ff2a0254-957b-4f65-b219-e0321ffdad5e",
      "metadata": {
        "colab": {
          "base_uri": "https://localhost:8080/"
        },
        "id": "ff2a0254-957b-4f65-b219-e0321ffdad5e",
        "outputId": "44daacbb-5906-44f9-bbb5-9d367f3f96b1"
      },
      "outputs": [
        {
          "output_type": "stream",
          "name": "stdout",
          "text": [
            "Columna A:\n",
            "Media: 3.4595\n",
            "Varianza: 9.757289210526315\n",
            "Asimetría: 0.924440152119806\n",
            "Curtosis: -0.39661299371365155\n",
            "Cuantiles: [0.9825 2.51   5.72  ]\n",
            "Mediana: 2.51\n",
            "Rango intercuartílico: 4.7375\n",
            "\n",
            "Columna B:\n",
            "Media: 5.7635000000000005\n",
            "Varianza: 36.94455026315789\n",
            "Asimetría: 1.2337329908292198\n",
            "Curtosis: 0.2679922051758554\n",
            "Cuantiles: [1.675 2.955 7.37 ]\n",
            "Mediana: 2.955\n",
            "Rango intercuartílico: 5.695\n"
          ]
        }
      ],
      "source": [
        "# Media\n",
        "media_A = df['A'].mean()\n",
        "media_B = df['B'].mean()\n",
        "\n",
        "# Varianza\n",
        "varianza_A = df['A'].var()\n",
        "varianza_B = df['B'].var()\n",
        "\n",
        "# Asimetría\n",
        "asimetria_A = df['A'].skew()\n",
        "asimetria_B = df['B'].skew()\n",
        "\n",
        "# Curtosis\n",
        "curtosis_A = df['A'].kurtosis()\n",
        "curtosis_B = df['B'].kurtosis()\n",
        "\n",
        "# Cuantiles\n",
        "cuantiles_A = np.percentile(df['A'], [25, 50, 75])\n",
        "cuantiles_B = np.percentile(df['B'], [25, 50, 75])\n",
        "\n",
        "# Mediana\n",
        "mediana_A = df['A'].median()\n",
        "mediana_B = df['B'].median()\n",
        "\n",
        "# Rango intercuartílico\n",
        "rango_intercuartilico_A = np.percentile(df['A'], 75) - np.percentile(df['A'], 25)\n",
        "rango_intercuartilico_B = np.percentile(df['B'], 75) - np.percentile(df['B'], 25)\n",
        "\n",
        "# Imprimir resultados\n",
        "print(\"Columna A:\")\n",
        "print(f\"Media: {media_A}\")\n",
        "print(f\"Varianza: {varianza_A}\")\n",
        "print(f\"Asimetría: {asimetria_A}\")\n",
        "print(f\"Curtosis: {curtosis_A}\")\n",
        "print(f\"Cuantiles: {cuantiles_A}\")\n",
        "print(f\"Mediana: {mediana_A}\")\n",
        "print(f\"Rango intercuartílico: {rango_intercuartilico_A}\")\n",
        "\n",
        "print(\"\\nColumna B:\")\n",
        "print(f\"Media: {media_B}\")\n",
        "print(f\"Varianza: {varianza_B}\")\n",
        "print(f\"Asimetría: {asimetria_B}\")\n",
        "print(f\"Curtosis: {curtosis_B}\")\n",
        "print(f\"Cuantiles: {cuantiles_B}\")\n",
        "print(f\"Mediana: {mediana_B}\")\n",
        "print(f\"Rango intercuartílico: {rango_intercuartilico_B}\")\n"
      ]
    },
    {
      "cell_type": "markdown",
      "id": "88f78172-4439-4fe0-bce5-f4617c7559ff",
      "metadata": {
        "id": "88f78172-4439-4fe0-bce5-f4617c7559ff"
      },
      "source": [
        "5. Dibuje un diagrama de caja y bigotes de los valores de A y B. ¿Hay posibles valores atípicos?"
      ]
    },
    {
      "cell_type": "code",
      "execution_count": 44,
      "id": "411b7483-1922-4cbf-a1e7-a622b4078aa6",
      "metadata": {
        "colab": {
          "base_uri": "https://localhost:8080/",
          "height": 472
        },
        "id": "411b7483-1922-4cbf-a1e7-a622b4078aa6",
        "outputId": "ee30434b-b926-4da5-a7fb-0ead3bae841d"
      },
      "outputs": [
        {
          "output_type": "display_data",
          "data": {
            "text/plain": [
              "<Figure size 640x480 with 1 Axes>"
            ],
            "image/png": "[encoded data removed]"
          },
          "metadata": {}
        }
      ],
      "source": [
        "plt.boxplot(df[['A','B']],labels=['A', 'B'])\n",
        "\n",
        "# Agregar título y etiquetas\n",
        "plt.title('Diagrama de Caja y Bigotes de A y B')\n",
        "plt.xlabel('Variable')\n",
        "plt.ylabel('Valor')\n",
        "plt.show()"
      ]
    },
    {
      "cell_type": "markdown",
      "id": "5390c309-476d-4711-bcfc-53750294d6fd",
      "metadata": {
        "id": "5390c309-476d-4711-bcfc-53750294d6fd"
      },
      "source": [
        "Si hay dos posibles valores atípicos en B."
      ]
    },
    {
      "cell_type": "markdown",
      "id": "a2cb1e73-bbe0-49c4-9484-5adf400ef311",
      "metadata": {
        "id": "a2cb1e73-bbe0-49c4-9484-5adf400ef311"
      },
      "source": [
        "6. Suponga que A es la concentración de algún contaminante en el suelo (mg/kg). Supongamos que las\n",
        "muestras se han tomado aleatoriamente del sitio de interés. Si la concentración crítica es de 5 mg/kg y\n",
        "el sitio tiene 8000 m2. ¿Qué área aproximada del sitio debe ser limpiada?"
      ]
    },
    {
      "cell_type": "markdown",
      "id": "eeddfd68-6296-474d-9236-c125a3f68158",
      "metadata": {
        "id": "eeddfd68-6296-474d-9236-c125a3f68158"
      },
      "source": [
        "Teniendo en cuenta que la distribución de probabilidad acumulada para el valor de 5mg/kg es de 0.7 por tanto la probabilidad de que un valor sea mayor es de 0.3, entonces el 30% del área total puede estar afectada, es decir 8000m2 * 0.3"
      ]
    },
    {
      "cell_type": "code",
      "execution_count": 45,
      "id": "2e6d2b6b-b01d-4163-9a44-832e10b6edf5",
      "metadata": {
        "colab": {
          "base_uri": "https://localhost:8080/"
        },
        "id": "2e6d2b6b-b01d-4163-9a44-832e10b6edf5",
        "outputId": "5c3c7383-81e1-4f1e-fe6b-e660172b5be2"
      },
      "outputs": [
        {
          "output_type": "stream",
          "name": "stdout",
          "text": [
            "El Area afectada es:2400.0 m2\n"
          ]
        }
      ],
      "source": [
        "Area_afectada=8000*0.3\n",
        "print(f'El Area afectada es:{Area_afectada} m2')\n"
      ]
    },
    {
      "cell_type": "markdown",
      "id": "4afa3412-ffaa-46a7-a180-adacaed7a972",
      "metadata": {
        "id": "4afa3412-ffaa-46a7-a180-adacaed7a972"
      },
      "source": [
        "7. Suponga que B es la concentración de algún contaminante en el suelo (mg/kg). Supongamos que las muestras se han tomado aleatoriamente del sitio de interés. Si la concentración crítica es de 10 mg/kg y el sitio tiene 8000 m2. ¿Qué área aproximada del sitio debe ser limpiada?"
      ]
    },
    {
      "cell_type": "markdown",
      "id": "08b4fa2f-2994-4f77-8b59-73128480a6c4",
      "metadata": {
        "id": "08b4fa2f-2994-4f77-8b59-73128480a6c4"
      },
      "source": [
        "Teniendo en cuenta que la distribución de probabilidad acumulada para el valor de 10mg/kg es de 0.75 por tanto la probabilidad de que un valor sea mayor es de 0.25, entonces el 25% del área total puede estar afectada, es decir 8000m2 * 0.25"
      ]
    },
    {
      "cell_type": "code",
      "execution_count": 46,
      "id": "44486757-986c-420e-84c7-30dfb194f207",
      "metadata": {
        "colab": {
          "base_uri": "https://localhost:8080/"
        },
        "id": "44486757-986c-420e-84c7-30dfb194f207",
        "outputId": "02d9795b-c284-47fb-8368-2319b05defe5"
      },
      "outputs": [
        {
          "output_type": "stream",
          "name": "stdout",
          "text": [
            "El Area afectada es:2000.0 m2\n"
          ]
        }
      ],
      "source": [
        "Area_afectada=8000*0.25\n",
        "print(f'El Area afectada es:{Area_afectada} m2')"
      ]
    },
    {
      "cell_type": "markdown",
      "id": "2626eac7-fbb0-4ce1-a0a2-0376013b328b",
      "metadata": {
        "id": "2626eac7-fbb0-4ce1-a0a2-0376013b328b"
      },
      "source": [
        "8. Calcule el coeficiente de correlación entre A y B."
      ]
    },
    {
      "cell_type": "markdown",
      "id": "1685feca-eb00-4037-ac1f-bb2415b19fe9",
      "metadata": {
        "id": "1685feca-eb00-4037-ac1f-bb2415b19fe9"
      },
      "source": [
        "![image.png](attachment:c3d71384-1bdf-49f7-88d4-ad86835f3ad4.png)"
      ]
    },
    {
      "cell_type": "code",
      "execution_count": 47,
      "id": "5ba58b34-a9ff-4f35-b3e6-adea6e048d5d",
      "metadata": {
        "colab": {
          "base_uri": "https://localhost:8080/"
        },
        "id": "5ba58b34-a9ff-4f35-b3e6-adea6e048d5d",
        "outputId": "6f89a9a4-0c84-4ebb-f7b1-c3ff04f3177b"
      },
      "outputs": [
        {
          "output_type": "stream",
          "name": "stdout",
          "text": [
            "Coeficiente de correlación entre A y B: 0.674\n"
          ]
        }
      ],
      "source": [
        "# Calcular el coeficiente de correlación entre las columnas A y B\n",
        "correlation = df['A'].corr(df['B'])\n",
        "\n",
        "print(f'Coeficiente de correlación entre A y B: {correlation:.3f}')# :.2f define 3decimales"
      ]
    },
    {
      "cell_type": "markdown",
      "id": "a77cb2ff-9b0c-4268-b8d1-4ea91676a78e",
      "metadata": {
        "id": "a77cb2ff-9b0c-4268-b8d1-4ea91676a78e"
      },
      "source": [
        "9. ¿Qué fracción de los datos tiene un valor A menor que 5 y un valor B menor que 10? ?"
      ]
    },
    {
      "cell_type": "code",
      "execution_count": 48,
      "id": "47621912-135d-46a8-8461-406ea49572b0",
      "metadata": {
        "colab": {
          "base_uri": "https://localhost:8080/",
          "height": 509
        },
        "id": "47621912-135d-46a8-8461-406ea49572b0",
        "outputId": "b5e7f52e-a7a6-4842-e256-b880fae85279"
      },
      "outputs": [
        {
          "output_type": "stream",
          "name": "stdout",
          "text": [
            "Filas que cumple la condicion\n"
          ]
        },
        {
          "output_type": "display_data",
          "data": {
            "text/plain": [
              "    Dato     A     B\n",
              "0      1  1.70  1.30\n",
              "4      5  0.96  0.66\n",
              "5      6  2.47  1.80\n",
              "7      8  0.28  0.62\n",
              "8      9  1.34  2.15\n",
              "9     10  0.71  2.07\n",
              "10    11  1.66  4.68\n",
              "11    12  2.99  2.74\n",
              "13    14  0.09  0.24\n",
              "14    15  0.62  2.30\n",
              "15    16  0.99  0.52\n",
              "17    18  2.96  3.17\n",
              "19    20  3.61  5.03"
            ],
            "text/html": [
              "\n",
              "  <div id=\"df-233450b9-0c26-4951-b5f7-c0569eb9f366\" class=\"colab-df-container\">\n",
              "    <div>\n",
              "<style scoped>\n",
              "    .dataframe tbody tr th:only-of-type {\n",
              "        vertical-align: middle;\n",
              "    }\n",
              "\n",
              "    .dataframe tbody tr th {\n",
              "        vertical-align: top;\n",
              "    }\n",
              "\n",
              "    .dataframe thead th {\n",
              "        text-align: right;\n",
              "    }\n",
              "</style>\n",
              "<table border=\"1\" class=\"dataframe\">\n",
              "  <thead>\n",
              "    <tr style=\"text-align: right;\">\n",
              "      <th></th>\n",
              "      <th>Dato</th>\n",
              "      <th>A</th>\n",
              "      <th>B</th>\n",
              "    </tr>\n",
              "  </thead>\n",
              "  <tbody>\n",
              "    <tr>\n",
              "      <th>0</th>\n",
              "      <td>1</td>\n",
              "      <td>1.70</td>\n",
              "      <td>1.30</td>\n",
              "    </tr>\n",
              "    <tr>\n",
              "      <th>4</th>\n",
              "      <td>5</td>\n",
              "      <td>0.96</td>\n",
              "      <td>0.66</td>\n",
              "    </tr>\n",
              "    <tr>\n",
              "      <th>5</th>\n",
              "      <td>6</td>\n",
              "      <td>2.47</td>\n",
              "      <td>1.80</td>\n",
              "    </tr>\n",
              "    <tr>\n",
              "      <th>7</th>\n",
              "      <td>8</td>\n",
              "      <td>0.28</td>\n",
              "      <td>0.62</td>\n",
              "    </tr>\n",
              "    <tr>\n",
              "      <th>8</th>\n",
              "      <td>9</td>\n",
              "      <td>1.34</td>\n",
              "      <td>2.15</td>\n",
              "    </tr>\n",
              "    <tr>\n",
              "      <th>9</th>\n",
              "      <td>10</td>\n",
              "      <td>0.71</td>\n",
              "      <td>2.07</td>\n",
              "    </tr>\n",
              "    <tr>\n",
              "      <th>10</th>\n",
              "      <td>11</td>\n",
              "      <td>1.66</td>\n",
              "      <td>4.68</td>\n",
              "    </tr>\n",
              "    <tr>\n",
              "      <th>11</th>\n",
              "      <td>12</td>\n",
              "      <td>2.99</td>\n",
              "      <td>2.74</td>\n",
              "    </tr>\n",
              "    <tr>\n",
              "      <th>13</th>\n",
              "      <td>14</td>\n",
              "      <td>0.09</td>\n",
              "      <td>0.24</td>\n",
              "    </tr>\n",
              "    <tr>\n",
              "      <th>14</th>\n",
              "      <td>15</td>\n",
              "      <td>0.62</td>\n",
              "      <td>2.30</td>\n",
              "    </tr>\n",
              "    <tr>\n",
              "      <th>15</th>\n",
              "      <td>16</td>\n",
              "      <td>0.99</td>\n",
              "      <td>0.52</td>\n",
              "    </tr>\n",
              "    <tr>\n",
              "      <th>17</th>\n",
              "      <td>18</td>\n",
              "      <td>2.96</td>\n",
              "      <td>3.17</td>\n",
              "    </tr>\n",
              "    <tr>\n",
              "      <th>19</th>\n",
              "      <td>20</td>\n",
              "      <td>3.61</td>\n",
              "      <td>5.03</td>\n",
              "    </tr>\n",
              "  </tbody>\n",
              "</table>\n",
              "</div>\n",
              "    <div class=\"colab-df-buttons\">\n",
              "\n",
              "  <div class=\"colab-df-container\">\n",
              "    <button class=\"colab-df-convert\" onclick=\"convertToInteractive('df-233450b9-0c26-4951-b5f7-c0569eb9f366')\"\n",
              "            title=\"Convert this dataframe to an interactive table.\"\n",
              "            style=\"display:none;\">\n",
              "\n",
              "  <svg xmlns=\"http://www.w3.org/2000/svg\" height=\"24px\" viewBox=\"0 -960 960 960\">\n",
              "    <path d=\"M120-120v-720h720v720H120Zm60-500h600v-160H180v160Zm220 220h160v-160H400v160Zm0 220h160v-160H400v160ZM180-400h160v-160H180v160Zm440 0h160v-160H620v160ZM180-180h160v-160H180v160Zm440 0h160v-160H620v160Z\"/>\n",
              "  </svg>\n",
              "    </button>\n",
              "\n",
              "  <style>\n",
              "    .colab-df-container {\n",
              "      display:flex;\n",
              "      gap: 12px;\n",
              "    }\n",
              "\n",
              "    .colab-df-convert {\n",
              "      background-color: #E8F0FE;\n",
              "      border: none;\n",
              "      border-radius: 50%;\n",
              "      cursor: pointer;\n",
              "      display: none;\n",
              "      fill: #1967D2;\n",
              "      height: 32px;\n",
              "      padding: 0 0 0 0;\n",
              "      width: 32px;\n",
              "    }\n",
              "\n",
              "    .colab-df-convert:hover {\n",
              "      background-color: #E2EBFA;\n",
              "      box-shadow: 0px 1px 2px rgba(60, 64, 67, 0.3), 0px 1px 3px 1px rgba(60, 64, 67, 0.15);\n",
              "      fill: #174EA6;\n",
              "    }\n",
              "\n",
              "    .colab-df-buttons div {\n",
              "      margin-bottom: 4px;\n",
              "    }\n",
              "\n",
              "    [theme=dark] .colab-df-convert {\n",
              "      background-color: #3B4455;\n",
              "      fill: #D2E3FC;\n",
              "    }\n",
              "\n",
              "    [theme=dark] .colab-df-convert:hover {\n",
              "      background-color: #434B5C;\n",
              "      box-shadow: 0px 1px 3px 1px rgba(0, 0, 0, 0.15);\n",
              "      filter: drop-shadow(0px 1px 2px rgba(0, 0, 0, 0.3));\n",
              "      fill: #FFFFFF;\n",
              "    }\n",
              "  </style>\n",
              "\n",
              "    <script>\n",
              "      const buttonEl =\n",
              "        document.querySelector('#df-233450b9-0c26-4951-b5f7-c0569eb9f366 button.colab-df-convert');\n",
              "      buttonEl.style.display =\n",
              "        google.colab.kernel.accessAllowed ? 'block' : 'none';\n",
              "\n",
              "      async function convertToInteractive(key) {\n",
              "        const element = document.querySelector('#df-233450b9-0c26-4951-b5f7-c0569eb9f366');\n",
              "        const dataTable =\n",
              "          await google.colab.kernel.invokeFunction('convertToInteractive',\n",
              "                                                    [key], {});\n",
              "        if (!dataTable) return;\n",
              "\n",
              "        const docLinkHtml = 'Like what you see? Visit the ' +\n",
              "          '<a target=\"_blank\" href=https://colab.research.google.com/notebooks/data_table.ipynb>data table notebook</a>'\n",
              "          + ' to learn more about interactive tables.';\n",
              "        element.innerHTML = '';\n",
              "        dataTable['output_type'] = 'display_data';\n",
              "        await google.colab.output.renderOutput(dataTable, element);\n",
              "        const docLink = document.createElement('div');\n",
              "        docLink.innerHTML = docLinkHtml;\n",
              "        element.appendChild(docLink);\n",
              "      }\n",
              "    </script>\n",
              "  </div>\n",
              "\n",
              "\n",
              "<div id=\"df-5f9752ce-8502-4157-9536-330985747be2\">\n",
              "  <button class=\"colab-df-quickchart\" onclick=\"quickchart('df-5f9752ce-8502-4157-9536-330985747be2')\"\n",
              "            title=\"Suggest charts\"\n",
              "            style=\"display:none;\">\n",
              "\n",
              "<svg xmlns=\"http://www.w3.org/2000/svg\" height=\"24px\"viewBox=\"0 0 24 24\"\n",
              "     width=\"24px\">\n",
              "    <g>\n",
              "        <path d=\"M19 3H5c-1.1 0-2 .9-2 2v14c0 1.1.9 2 2 2h14c1.1 0 2-.9 2-2V5c0-1.1-.9-2-2-2zM9 17H7v-7h2v7zm4 0h-2V7h2v10zm4 0h-2v-4h2v4z\"/>\n",
              "    </g>\n",
              "</svg>\n",
              "  </button>\n",
              "\n",
              "<style>\n",
              "  .colab-df-quickchart {\n",
              "      --bg-color: #E8F0FE;\n",
              "      --fill-color: #1967D2;\n",
              "      --hover-bg-color: #E2EBFA;\n",
              "      --hover-fill-color: #174EA6;\n",
              "      --disabled-fill-color: #AAA;\n",
              "      --disabled-bg-color: #DDD;\n",
              "  }\n",
              "\n",
              "  [theme=dark] .colab-df-quickchart {\n",
              "      --bg-color: #3B4455;\n",
              "      --fill-color: #D2E3FC;\n",
              "      --hover-bg-color: #434B5C;\n",
              "      --hover-fill-color: #FFFFFF;\n",
              "      --disabled-bg-color: #3B4455;\n",
              "      --disabled-fill-color: #666;\n",
              "  }\n",
              "\n",
              "  .colab-df-quickchart {\n",
              "    background-color: var(--bg-color);\n",
              "    border: none;\n",
              "    border-radius: 50%;\n",
              "    cursor: pointer;\n",
              "    display: none;\n",
              "    fill: var(--fill-color);\n",
              "    height: 32px;\n",
              "    padding: 0;\n",
              "    width: 32px;\n",
              "  }\n",
              "\n",
              "  .colab-df-quickchart:hover {\n",
              "    background-color: var(--hover-bg-color);\n",
              "    box-shadow: 0 1px 2px rgba(60, 64, 67, 0.3), 0 1px 3px 1px rgba(60, 64, 67, 0.15);\n",
              "    fill: var(--button-hover-fill-color);\n",
              "  }\n",
              "\n",
              "  .colab-df-quickchart-complete:disabled,\n",
              "  .colab-df-quickchart-complete:disabled:hover {\n",
              "    background-color: var(--disabled-bg-color);\n",
              "    fill: var(--disabled-fill-color);\n",
              "    box-shadow: none;\n",
              "  }\n",
              "\n",
              "  .colab-df-spinner {\n",
              "    border: 2px solid var(--fill-color);\n",
              "    border-color: transparent;\n",
              "    border-bottom-color: var(--fill-color);\n",
              "    animation:\n",
              "      spin 1s steps(1) infinite;\n",
              "  }\n",
              "\n",
              "  @keyframes spin {\n",
              "    0% {\n",
              "      border-color: transparent;\n",
              "      border-bottom-color: var(--fill-color);\n",
              "      border-left-color: var(--fill-color);\n",
              "    }\n",
              "    20% {\n",
              "      border-color: transparent;\n",
              "      border-left-color: var(--fill-color);\n",
              "      border-top-color: var(--fill-color);\n",
              "    }\n",
              "    30% {\n",
              "      border-color: transparent;\n",
              "      border-left-color: var(--fill-color);\n",
              "      border-top-color: var(--fill-color);\n",
              "      border-right-color: var(--fill-color);\n",
              "    }\n",
              "    40% {\n",
              "      border-color: transparent;\n",
              "      border-right-color: var(--fill-color);\n",
              "      border-top-color: var(--fill-color);\n",
              "    }\n",
              "    60% {\n",
              "      border-color: transparent;\n",
              "      border-right-color: var(--fill-color);\n",
              "    }\n",
              "    80% {\n",
              "      border-color: transparent;\n",
              "      border-right-color: var(--fill-color);\n",
              "      border-bottom-color: var(--fill-color);\n",
              "    }\n",
              "    90% {\n",
              "      border-color: transparent;\n",
              "      border-bottom-color: var(--fill-color);\n",
              "    }\n",
              "  }\n",
              "</style>\n",
              "\n",
              "  <script>\n",
              "    async function quickchart(key) {\n",
              "      const quickchartButtonEl =\n",
              "        document.querySelector('#' + key + ' button');\n",
              "      quickchartButtonEl.disabled = true;  // To prevent multiple clicks.\n",
              "      quickchartButtonEl.classList.add('colab-df-spinner');\n",
              "      try {\n",
              "        const charts = await google.colab.kernel.invokeFunction(\n",
              "            'suggestCharts', [key], {});\n",
              "      } catch (error) {\n",
              "        console.error('Error during call to suggestCharts:', error);\n",
              "      }\n",
              "      quickchartButtonEl.classList.remove('colab-df-spinner');\n",
              "      quickchartButtonEl.classList.add('colab-df-quickchart-complete');\n",
              "    }\n",
              "    (() => {\n",
              "      let quickchartButtonEl =\n",
              "        document.querySelector('#df-5f9752ce-8502-4157-9536-330985747be2 button');\n",
              "      quickchartButtonEl.style.display =\n",
              "        google.colab.kernel.accessAllowed ? 'block' : 'none';\n",
              "    })();\n",
              "  </script>\n",
              "</div>\n",
              "    </div>\n",
              "  </div>\n"
            ],
            "application/vnd.google.colaboratory.intrinsic+json": {
              "type": "dataframe",
              "variable_name": "filas_cumplen",
              "summary": "{\n  \"name\": \"filas_cumplen\",\n  \"rows\": 13,\n  \"fields\": [\n    {\n      \"column\": \"Dato\",\n      \"properties\": {\n        \"dtype\": \"number\",\n        \"std\": 5,\n        \"min\": 1,\n        \"max\": 20,\n        \"num_unique_values\": 13,\n        \"samples\": [\n          18,\n          15,\n          1\n        ],\n        \"semantic_type\": \"\",\n        \"description\": \"\"\n      }\n    },\n    {\n      \"column\": \"A\",\n      \"properties\": {\n        \"dtype\": \"number\",\n        \"std\": 1.1255750666966777,\n        \"min\": 0.09,\n        \"max\": 3.61,\n        \"num_unique_values\": 13,\n        \"samples\": [\n          2.96,\n          0.62,\n          1.7\n        ],\n        \"semantic_type\": \"\",\n        \"description\": \"\"\n      }\n    },\n    {\n      \"column\": \"B\",\n      \"properties\": {\n        \"dtype\": \"number\",\n        \"std\": 1.5217634844364292,\n        \"min\": 0.24,\n        \"max\": 5.03,\n        \"num_unique_values\": 13,\n        \"samples\": [\n          3.17,\n          2.3,\n          1.3\n        ],\n        \"semantic_type\": \"\",\n        \"description\": \"\"\n      }\n    }\n  ]\n}"
            }
          },
          "metadata": {}
        },
        {
          "output_type": "stream",
          "name": "stdout",
          "text": [
            "Fracción de los datos con A < 5 y B < 10 es:\n",
            " 0.65\n"
          ]
        }
      ],
      "source": [
        "# Filtrar el DataFrame para obtener solo las filas que cumplan con las condiciones\n",
        "filas_cumplen = df[(df['A'] < 5) & (df['B'] < 10)]\n",
        "\n",
        "# Calcular la fracción de estas filas con respecto al total de filas\n",
        "fraccion = len(filas_cumplen) / len(df)\n",
        "print('Filas que cumple la condicion')\n",
        "display (filas_cumplen)\n",
        "\n",
        "print(\"Fracción de los datos con A < 5 y B < 10 es:\\n\", fraccion)"
      ]
    },
    {
      "cell_type": "markdown",
      "id": "e28dce26-2d6b-4707-8917-83d1a87ec9cd",
      "metadata": {
        "id": "e28dce26-2d6b-4707-8917-83d1a87ec9cd"
      },
      "source": [
        "10. ¿Qué fracción de los datos tiene un valor A menor que 5 o un valor B menor que 10?"
      ]
    },
    {
      "cell_type": "code",
      "execution_count": 49,
      "id": "367875a9-781b-4936-b87e-912bd7b1a7cf",
      "metadata": {
        "colab": {
          "base_uri": "https://localhost:8080/",
          "height": 603
        },
        "id": "367875a9-781b-4936-b87e-912bd7b1a7cf",
        "outputId": "7921ff88-6e56-4af0-e5c1-83413aa87be8"
      },
      "outputs": [
        {
          "output_type": "stream",
          "name": "stdout",
          "text": [
            "Filas que cumple la condicion\n"
          ]
        },
        {
          "output_type": "display_data",
          "data": {
            "text/plain": [
              "    Dato      A      B\n",
              "0      1   1.70   1.30\n",
              "4      5   0.96   0.66\n",
              "5      6   2.47   1.80\n",
              "6      7   2.55  15.91\n",
              "7      8   0.28   0.62\n",
              "8      9   1.34   2.15\n",
              "9     10   0.71   2.07\n",
              "10    11   1.66   4.68\n",
              "11    12   2.99   2.74\n",
              "13    14   0.09   0.24\n",
              "14    15   0.62   2.30\n",
              "15    16   0.99   0.52\n",
              "16    17  10.27   5.67\n",
              "17    18   2.96   3.17\n",
              "18    19   5.54   5.92\n",
              "19    20   3.61   5.03"
            ],
            "text/html": [
              "\n",
              "  <div id=\"df-a8f92c37-75b6-41ab-95ff-92b8f13ed93b\" class=\"colab-df-container\">\n",
              "    <div>\n",
              "<style scoped>\n",
              "    .dataframe tbody tr th:only-of-type {\n",
              "        vertical-align: middle;\n",
              "    }\n",
              "\n",
              "    .dataframe tbody tr th {\n",
              "        vertical-align: top;\n",
              "    }\n",
              "\n",
              "    .dataframe thead th {\n",
              "        text-align: right;\n",
              "    }\n",
              "</style>\n",
              "<table border=\"1\" class=\"dataframe\">\n",
              "  <thead>\n",
              "    <tr style=\"text-align: right;\">\n",
              "      <th></th>\n",
              "      <th>Dato</th>\n",
              "      <th>A</th>\n",
              "      <th>B</th>\n",
              "    </tr>\n",
              "  </thead>\n",
              "  <tbody>\n",
              "    <tr>\n",
              "      <th>0</th>\n",
              "      <td>1</td>\n",
              "      <td>1.70</td>\n",
              "      <td>1.30</td>\n",
              "    </tr>\n",
              "    <tr>\n",
              "      <th>4</th>\n",
              "      <td>5</td>\n",
              "      <td>0.96</td>\n",
              "      <td>0.66</td>\n",
              "    </tr>\n",
              "    <tr>\n",
              "      <th>5</th>\n",
              "      <td>6</td>\n",
              "      <td>2.47</td>\n",
              "      <td>1.80</td>\n",
              "    </tr>\n",
              "    <tr>\n",
              "      <th>6</th>\n",
              "      <td>7</td>\n",
              "      <td>2.55</td>\n",
              "      <td>15.91</td>\n",
              "    </tr>\n",
              "    <tr>\n",
              "      <th>7</th>\n",
              "      <td>8</td>\n",
              "      <td>0.28</td>\n",
              "      <td>0.62</td>\n",
              "    </tr>\n",
              "    <tr>\n",
              "      <th>8</th>\n",
              "      <td>9</td>\n",
              "      <td>1.34</td>\n",
              "      <td>2.15</td>\n",
              "    </tr>\n",
              "    <tr>\n",
              "      <th>9</th>\n",
              "      <td>10</td>\n",
              "      <td>0.71</td>\n",
              "      <td>2.07</td>\n",
              "    </tr>\n",
              "    <tr>\n",
              "      <th>10</th>\n",
              "      <td>11</td>\n",
              "      <td>1.66</td>\n",
              "      <td>4.68</td>\n",
              "    </tr>\n",
              "    <tr>\n",
              "      <th>11</th>\n",
              "      <td>12</td>\n",
              "      <td>2.99</td>\n",
              "      <td>2.74</td>\n",
              "    </tr>\n",
              "    <tr>\n",
              "      <th>13</th>\n",
              "      <td>14</td>\n",
              "      <td>0.09</td>\n",
              "      <td>0.24</td>\n",
              "    </tr>\n",
              "    <tr>\n",
              "      <th>14</th>\n",
              "      <td>15</td>\n",
              "      <td>0.62</td>\n",
              "      <td>2.30</td>\n",
              "    </tr>\n",
              "    <tr>\n",
              "      <th>15</th>\n",
              "      <td>16</td>\n",
              "      <td>0.99</td>\n",
              "      <td>0.52</td>\n",
              "    </tr>\n",
              "    <tr>\n",
              "      <th>16</th>\n",
              "      <td>17</td>\n",
              "      <td>10.27</td>\n",
              "      <td>5.67</td>\n",
              "    </tr>\n",
              "    <tr>\n",
              "      <th>17</th>\n",
              "      <td>18</td>\n",
              "      <td>2.96</td>\n",
              "      <td>3.17</td>\n",
              "    </tr>\n",
              "    <tr>\n",
              "      <th>18</th>\n",
              "      <td>19</td>\n",
              "      <td>5.54</td>\n",
              "      <td>5.92</td>\n",
              "    </tr>\n",
              "    <tr>\n",
              "      <th>19</th>\n",
              "      <td>20</td>\n",
              "      <td>3.61</td>\n",
              "      <td>5.03</td>\n",
              "    </tr>\n",
              "  </tbody>\n",
              "</table>\n",
              "</div>\n",
              "    <div class=\"colab-df-buttons\">\n",
              "\n",
              "  <div class=\"colab-df-container\">\n",
              "    <button class=\"colab-df-convert\" onclick=\"convertToInteractive('df-a8f92c37-75b6-41ab-95ff-92b8f13ed93b')\"\n",
              "            title=\"Convert this dataframe to an interactive table.\"\n",
              "            style=\"display:none;\">\n",
              "\n",
              "  <svg xmlns=\"http://www.w3.org/2000/svg\" height=\"24px\" viewBox=\"0 -960 960 960\">\n",
              "    <path d=\"M120-120v-720h720v720H120Zm60-500h600v-160H180v160Zm220 220h160v-160H400v160Zm0 220h160v-160H400v160ZM180-400h160v-160H180v160Zm440 0h160v-160H620v160ZM180-180h160v-160H180v160Zm440 0h160v-160H620v160Z\"/>\n",
              "  </svg>\n",
              "    </button>\n",
              "\n",
              "  <style>\n",
              "    .colab-df-container {\n",
              "      display:flex;\n",
              "      gap: 12px;\n",
              "    }\n",
              "\n",
              "    .colab-df-convert {\n",
              "      background-color: #E8F0FE;\n",
              "      border: none;\n",
              "      border-radius: 50%;\n",
              "      cursor: pointer;\n",
              "      display: none;\n",
              "      fill: #1967D2;\n",
              "      height: 32px;\n",
              "      padding: 0 0 0 0;\n",
              "      width: 32px;\n",
              "    }\n",
              "\n",
              "    .colab-df-convert:hover {\n",
              "      background-color: #E2EBFA;\n",
              "      box-shadow: 0px 1px 2px rgba(60, 64, 67, 0.3), 0px 1px 3px 1px rgba(60, 64, 67, 0.15);\n",
              "      fill: #174EA6;\n",
              "    }\n",
              "\n",
              "    .colab-df-buttons div {\n",
              "      margin-bottom: 4px;\n",
              "    }\n",
              "\n",
              "    [theme=dark] .colab-df-convert {\n",
              "      background-color: #3B4455;\n",
              "      fill: #D2E3FC;\n",
              "    }\n",
              "\n",
              "    [theme=dark] .colab-df-convert:hover {\n",
              "      background-color: #434B5C;\n",
              "      box-shadow: 0px 1px 3px 1px rgba(0, 0, 0, 0.15);\n",
              "      filter: drop-shadow(0px 1px 2px rgba(0, 0, 0, 0.3));\n",
              "      fill: #FFFFFF;\n",
              "    }\n",
              "  </style>\n",
              "\n",
              "    <script>\n",
              "      const buttonEl =\n",
              "        document.querySelector('#df-a8f92c37-75b6-41ab-95ff-92b8f13ed93b button.colab-df-convert');\n",
              "      buttonEl.style.display =\n",
              "        google.colab.kernel.accessAllowed ? 'block' : 'none';\n",
              "\n",
              "      async function convertToInteractive(key) {\n",
              "        const element = document.querySelector('#df-a8f92c37-75b6-41ab-95ff-92b8f13ed93b');\n",
              "        const dataTable =\n",
              "          await google.colab.kernel.invokeFunction('convertToInteractive',\n",
              "                                                    [key], {});\n",
              "        if (!dataTable) return;\n",
              "\n",
              "        const docLinkHtml = 'Like what you see? Visit the ' +\n",
              "          '<a target=\"_blank\" href=https://colab.research.google.com/notebooks/data_table.ipynb>data table notebook</a>'\n",
              "          + ' to learn more about interactive tables.';\n",
              "        element.innerHTML = '';\n",
              "        dataTable['output_type'] = 'display_data';\n",
              "        await google.colab.output.renderOutput(dataTable, element);\n",
              "        const docLink = document.createElement('div');\n",
              "        docLink.innerHTML = docLinkHtml;\n",
              "        element.appendChild(docLink);\n",
              "      }\n",
              "    </script>\n",
              "  </div>\n",
              "\n",
              "\n",
              "<div id=\"df-1eb7be96-3cb3-4221-9b7d-2232e3388fb3\">\n",
              "  <button class=\"colab-df-quickchart\" onclick=\"quickchart('df-1eb7be96-3cb3-4221-9b7d-2232e3388fb3')\"\n",
              "            title=\"Suggest charts\"\n",
              "            style=\"display:none;\">\n",
              "\n",
              "<svg xmlns=\"http://www.w3.org/2000/svg\" height=\"24px\"viewBox=\"0 0 24 24\"\n",
              "     width=\"24px\">\n",
              "    <g>\n",
              "        <path d=\"M19 3H5c-1.1 0-2 .9-2 2v14c0 1.1.9 2 2 2h14c1.1 0 2-.9 2-2V5c0-1.1-.9-2-2-2zM9 17H7v-7h2v7zm4 0h-2V7h2v10zm4 0h-2v-4h2v4z\"/>\n",
              "    </g>\n",
              "</svg>\n",
              "  </button>\n",
              "\n",
              "<style>\n",
              "  .colab-df-quickchart {\n",
              "      --bg-color: #E8F0FE;\n",
              "      --fill-color: #1967D2;\n",
              "      --hover-bg-color: #E2EBFA;\n",
              "      --hover-fill-color: #174EA6;\n",
              "      --disabled-fill-color: #AAA;\n",
              "      --disabled-bg-color: #DDD;\n",
              "  }\n",
              "\n",
              "  [theme=dark] .colab-df-quickchart {\n",
              "      --bg-color: #3B4455;\n",
              "      --fill-color: #D2E3FC;\n",
              "      --hover-bg-color: #434B5C;\n",
              "      --hover-fill-color: #FFFFFF;\n",
              "      --disabled-bg-color: #3B4455;\n",
              "      --disabled-fill-color: #666;\n",
              "  }\n",
              "\n",
              "  .colab-df-quickchart {\n",
              "    background-color: var(--bg-color);\n",
              "    border: none;\n",
              "    border-radius: 50%;\n",
              "    cursor: pointer;\n",
              "    display: none;\n",
              "    fill: var(--fill-color);\n",
              "    height: 32px;\n",
              "    padding: 0;\n",
              "    width: 32px;\n",
              "  }\n",
              "\n",
              "  .colab-df-quickchart:hover {\n",
              "    background-color: var(--hover-bg-color);\n",
              "    box-shadow: 0 1px 2px rgba(60, 64, 67, 0.3), 0 1px 3px 1px rgba(60, 64, 67, 0.15);\n",
              "    fill: var(--button-hover-fill-color);\n",
              "  }\n",
              "\n",
              "  .colab-df-quickchart-complete:disabled,\n",
              "  .colab-df-quickchart-complete:disabled:hover {\n",
              "    background-color: var(--disabled-bg-color);\n",
              "    fill: var(--disabled-fill-color);\n",
              "    box-shadow: none;\n",
              "  }\n",
              "\n",
              "  .colab-df-spinner {\n",
              "    border: 2px solid var(--fill-color);\n",
              "    border-color: transparent;\n",
              "    border-bottom-color: var(--fill-color);\n",
              "    animation:\n",
              "      spin 1s steps(1) infinite;\n",
              "  }\n",
              "\n",
              "  @keyframes spin {\n",
              "    0% {\n",
              "      border-color: transparent;\n",
              "      border-bottom-color: var(--fill-color);\n",
              "      border-left-color: var(--fill-color);\n",
              "    }\n",
              "    20% {\n",
              "      border-color: transparent;\n",
              "      border-left-color: var(--fill-color);\n",
              "      border-top-color: var(--fill-color);\n",
              "    }\n",
              "    30% {\n",
              "      border-color: transparent;\n",
              "      border-left-color: var(--fill-color);\n",
              "      border-top-color: var(--fill-color);\n",
              "      border-right-color: var(--fill-color);\n",
              "    }\n",
              "    40% {\n",
              "      border-color: transparent;\n",
              "      border-right-color: var(--fill-color);\n",
              "      border-top-color: var(--fill-color);\n",
              "    }\n",
              "    60% {\n",
              "      border-color: transparent;\n",
              "      border-right-color: var(--fill-color);\n",
              "    }\n",
              "    80% {\n",
              "      border-color: transparent;\n",
              "      border-right-color: var(--fill-color);\n",
              "      border-bottom-color: var(--fill-color);\n",
              "    }\n",
              "    90% {\n",
              "      border-color: transparent;\n",
              "      border-bottom-color: var(--fill-color);\n",
              "    }\n",
              "  }\n",
              "</style>\n",
              "\n",
              "  <script>\n",
              "    async function quickchart(key) {\n",
              "      const quickchartButtonEl =\n",
              "        document.querySelector('#' + key + ' button');\n",
              "      quickchartButtonEl.disabled = true;  // To prevent multiple clicks.\n",
              "      quickchartButtonEl.classList.add('colab-df-spinner');\n",
              "      try {\n",
              "        const charts = await google.colab.kernel.invokeFunction(\n",
              "            'suggestCharts', [key], {});\n",
              "      } catch (error) {\n",
              "        console.error('Error during call to suggestCharts:', error);\n",
              "      }\n",
              "      quickchartButtonEl.classList.remove('colab-df-spinner');\n",
              "      quickchartButtonEl.classList.add('colab-df-quickchart-complete');\n",
              "    }\n",
              "    (() => {\n",
              "      let quickchartButtonEl =\n",
              "        document.querySelector('#df-1eb7be96-3cb3-4221-9b7d-2232e3388fb3 button');\n",
              "      quickchartButtonEl.style.display =\n",
              "        google.colab.kernel.accessAllowed ? 'block' : 'none';\n",
              "    })();\n",
              "  </script>\n",
              "</div>\n",
              "    </div>\n",
              "  </div>\n"
            ],
            "application/vnd.google.colaboratory.intrinsic+json": {
              "type": "dataframe",
              "variable_name": "filas_cumplen",
              "summary": "{\n  \"name\": \"filas_cumplen\",\n  \"rows\": 16,\n  \"fields\": [\n    {\n      \"column\": \"Dato\",\n      \"properties\": {\n        \"dtype\": \"number\",\n        \"std\": 5,\n        \"min\": 1,\n        \"max\": 20,\n        \"num_unique_values\": 16,\n        \"samples\": [\n          1,\n          5,\n          9\n        ],\n        \"semantic_type\": \"\",\n        \"description\": \"\"\n      }\n    },\n    {\n      \"column\": \"A\",\n      \"properties\": {\n        \"dtype\": \"number\",\n        \"std\": 2.5300905780887235,\n        \"min\": 0.09,\n        \"max\": 10.27,\n        \"num_unique_values\": 16,\n        \"samples\": [\n          1.7,\n          0.96,\n          1.34\n        ],\n        \"semantic_type\": \"\",\n        \"description\": \"\"\n      }\n    },\n    {\n      \"column\": \"B\",\n      \"properties\": {\n        \"dtype\": \"number\",\n        \"std\": 3.810560544941737,\n        \"min\": 0.24,\n        \"max\": 15.91,\n        \"num_unique_values\": 16,\n        \"samples\": [\n          1.3,\n          0.66,\n          2.15\n        ],\n        \"semantic_type\": \"\",\n        \"description\": \"\"\n      }\n    }\n  ]\n}"
            }
          },
          "metadata": {}
        },
        {
          "output_type": "stream",
          "name": "stdout",
          "text": [
            "Fracción de los datos con A < 5 o B < 10 es:\n",
            " 0.8\n"
          ]
        }
      ],
      "source": [
        "# Filtrar el DataFrame para obtener solo las filas que cumplan con la condición\n",
        "filas_cumplen = df[(df['A'] < 5) | (df['B'] < 10)]\n",
        "\n",
        "# Calcular la fracción de estas filas con respecto al total de filas\n",
        "fraccion = len(filas_cumplen) / len(df)\n",
        "print('Filas que cumple la condicion')\n",
        "display (filas_cumplen)\n",
        "print(\"Fracción de los datos con A < 5 o B < 10 es:\\n\", fraccion)"
      ]
    },
    {
      "cell_type": "code",
      "execution_count": 49,
      "id": "558c4ff7-5afa-47b7-80f9-9adf94857b1f",
      "metadata": {
        "id": "558c4ff7-5afa-47b7-80f9-9adf94857b1f"
      },
      "outputs": [],
      "source": []
    }
  ],
  "metadata": {
    "kernelspec": {
      "display_name": "Python 3 (ipykernel)",
      "language": "python",
      "name": "python3"
    },
    "language_info": {
      "codemirror_mode": {
        "name": "ipython",
        "version": 3
      },
      "file_extension": ".py",
      "mimetype": "text/x-python",
      "name": "python",
      "nbconvert_exporter": "python",
      "pygments_lexer": "ipython3",
      "version": "3.12.1"
    },
    "colab": {
      "provenance": []
    }
  },
  "nbformat": 4,
  "nbformat_minor": 5
}