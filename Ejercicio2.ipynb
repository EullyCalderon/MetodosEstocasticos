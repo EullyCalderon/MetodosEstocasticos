{
 "cells": [
  {
   "cell_type": "code",
   "execution_count": 1,
   "id": "7d662226-42ce-4956-abc9-cd07b5731432",
   "metadata": {},
   "outputs": [],
   "source": [
    "import numpy as np\n",
    "import matplotlib.pyplot as plt\n",
    "import pandas as pd\n",
    "import matplotlib"
   ]
  },
  {
   "cell_type": "code",
   "execution_count": 2,
   "id": "f3eec36b-c186-4f75-ae2d-8bdbb70ba54c",
   "metadata": {},
   "outputs": [
    {
     "name": "stdout",
     "output_type": "stream",
     "text": [
      "numpy version 1.26.3\n",
      "pasdas version 2.2.0\n",
      "matplotlib version 3.8.2\n"
     ]
    }
   ],
   "source": [
    "print (\"numpy version\", np.__version__)\n",
    "print (\"pasdas version\", pd.__version__)\n",
    "print (\"matplotlib version\", matplotlib.__version__)      "
   ]
  },
  {
   "cell_type": "markdown",
   "id": "8e56ead0-6c56-4cc5-938d-5dfdd4c7c456",
   "metadata": {},
   "source": [
    "1. La conductividad hidráulica en alguna ubicación no observada se modela con una distribución log-normal. \r\n",
    "La media de Y = ln K es 2.0 y la varianza es 1.5. ¿Cuál es la media y la varianza de K? "
   ]
  },
  {
   "cell_type": "markdown",
   "id": "020e25c3-b6dc-4ed6-ad72-903d46dab2ef",
   "metadata": {},
   "source": [
    "Teniendo en cuenta que las ecuaciones que relacionan la media y la varianza entre X y Y son\n",
    "$$\n",
    "m_K=2ln(m_Y)-\\frac {1}{2}ln (\\sigma_Y^2+m^2_Y)\n",
    "$$\n",
    "\n",
    "$$\n",
    "\\sigma_K^2=-2ln(m_Y)+ln (\\sigma_Y^2+m^2_Y)\n",
    "$$"
   ]
  },
  {
   "cell_type": "code",
   "execution_count": 31,
   "id": "8e1da86d-6eda-4f17-837a-5e0b9a458a80",
   "metadata": {},
   "outputs": [
    {
     "name": "stdout",
     "output_type": "stream",
     "text": [
      "La media de K es: 0.53392\n",
      "La varianza de K es: 0.31845\n"
     ]
    }
   ],
   "source": [
    "mY = 2\n",
    "sigmaY2 = 1.5\n",
    "\n",
    "mK= 2*np.log(mY)-1/2*np.log(sigmaY2 + mY**2)\n",
    "print(f'La media de K es: {mK:.5f}')\n",
    "\n",
    "sigmaK2 = -2*np.log(mY)+np.log(sigmaY2 + mY**2)\n",
    "print(f'La varianza de K es: {sigmaK2:.5f}')\n",
    "\n"
   ]
  },
  {
   "cell_type": "markdown",
   "id": "7002e808-ac85-490a-be18-5215c110dabd",
   "metadata": {},
   "source": [
    "2. La conductividad hidráulica para un acuífero tiene una distribución lognormal con media 10 m/d y varianza \r\n",
    "200 m²/d². ¿Cuál es la probabilidad de que en una ubicación no observada la conductividad sea mayor que \r\n",
    "30 m/d? "
   ]
  },
  {
   "cell_type": "markdown",
   "id": "ab50a1ea-f53e-4750-97e7-43a4451e4afa",
   "metadata": {},
   "source": [
    "Teniendo en cuenta que la Funcion de densidad logNormal es:\n",
    "$$\n",
    "f_Y(y)=\\frac {dx}{dy} f_X [x(y)] = \\frac {1}{y} \\frac {1}{(\\sqrt{2\\pi})\\sigma_{lnY}}e^{\\frac{-1}{2}{{(lnY-m_{lnY}})^2/\\sigma_{lnY}^2}}\n",
    "$$"
   ]
  },
  {
   "cell_type": "code",
   "execution_count": 32,
   "id": "bc1f6752-8202-46c1-93ef-83d0314f621c",
   "metadata": {},
   "outputs": [],
   "source": [
    "#Definimos la funcion PDF\n",
    "\n",
    "#media de Y\n",
    "mlnY= 10 #m/d\n",
    "#Varianza de Y\n",
    "sigma2 = 200 #m2/d2\n",
    "\n",
    "def PDF(y):\n",
    "\n",
    "    numerador = np.exp(-0.5*(np.log(y)-mlnY)**2)/sigma2\n",
    "    denominador = y*np.sqrt(2*np.pi*sigma2)\n",
    "    resultado = numerador/denominador\n",
    "    return resultado"
   ]
  },
  {
   "cell_type": "markdown",
   "id": "369cd5c5-2bb2-4af5-b067-57efef9613b0",
   "metadata": {},
   "source": [
    "Una vez teniendo la funcion de distribucion de probabilidad se calcula la distribucion de probabilidad acumulada generando intervalos de 0.1 con limite superior en 30 (que es una aproximacion de la integral)"
   ]
  },
  {
   "cell_type": "code",
   "execution_count": 33,
   "id": "590da1d3-3805-437c-9b12-134d719175fc",
   "metadata": {},
   "outputs": [
    {
     "name": "stdout",
     "output_type": "stream",
     "text": [
      "La probabilidad acumulada de 30 es:\n",
      " 7.409862743682008e-14\n"
     ]
    }
   ],
   "source": [
    "valores = np.arange(0.1,30+0.1,0.1)\n",
    "#Valor de la probabilidad acumulada hasta el valor de 30\n",
    "vacum_probabilidad = PDF(valores).sum()\n",
    "print (f'La probabilidad acumulada de 30 es:\\n {vacum_probabilidad}')\n"
   ]
  },
  {
   "cell_type": "markdown",
   "id": "62d77da5-df51-4ee4-b29f-22dd084172f6",
   "metadata": {},
   "source": [
    "Por tanto la probabilidad que un valor mayor a 30 es:\n",
    "\n",
    "$$\n",
    "Probabilidad Acum_{mayor 30} = 1-Probabilidad Acum_{30}\n",
    "$$"
   ]
  },
  {
   "cell_type": "code",
   "execution_count": 34,
   "id": "34d2df72-d209-4ac8-9e7d-09f56bf527d7",
   "metadata": {},
   "outputs": [
    {
     "name": "stdout",
     "output_type": "stream",
     "text": [
      " La probabilidad que un valor sea mayor a 30 es: \n",
      " 0.999999999999926\n"
     ]
    }
   ],
   "source": [
    "print (f' La probabilidad que \\\n",
    "un valor sea mayor a 30 es: \\n {1-vacum_probabilidad}')"
   ]
  },
  {
   "cell_type": "markdown",
   "id": "6d7362d9-1af0-4cd2-b97e-4833b315364a",
   "metadata": {},
   "source": [
    "3. Basado en un análisis geológico, se obtuvieron las siguientes probabilidades de clases de textura que \r\n",
    "ocurren en un acuífero: Pr[arena]=0.7, Pr[arcilla]=0.2, Pr[turba]=0.1. La siguiente tabla muestra las \r\n",
    "distribuciones de probabilidad de las clases de conductividad para las tres texturas:"
   ]
  },
  {
   "cell_type": "code",
   "execution_count": 35,
   "id": "bd2efc58-81c8-4291-8aa6-95ee4b821829",
   "metadata": {},
   "outputs": [],
   "source": [
    "prob_arena = {1*10**(-3):0.0,1*10**(-2):0.0,1*10**(-1):0.0,\n",
    "    1*10**0:0.1,1*10**1:0.4,2*10**1:0.3,5*10**1:0.1,1*10**2:0.1}\n",
    "prob_arcilla = {1*10**(-3):0.3,1*10**(-2):0.4,1*10**(-1):0.2,\n",
    "    1*10**0:0.1,1*10**1:0.0,2*10**1:0.0,5*10**1:0.0,1*10**2:0.0}\n",
    "prob_turba = {1*10**(-3):0.1,1*10**(-2):0.3,1*10**(-1):0.3,1*10**0:0.2,\n",
    "    1*10**1:0.1,2*10**1:0.0,5*10**1:0.0,1*10**2:0.0}"
   ]
  },
  {
   "cell_type": "code",
   "execution_count": 36,
   "id": "07555b87-d8fc-46e6-a659-6b35fce52f7a",
   "metadata": {},
   "outputs": [
    {
     "data": {
      "text/plain": [
       "dict_values([0.0, 0.0, 0.0, 0.1, 0.4, 0.3, 0.1, 0.1])"
      ]
     },
     "execution_count": 36,
     "metadata": {},
     "output_type": "execute_result"
    }
   ],
   "source": [
    "prob_arena.values()"
   ]
  },
  {
   "cell_type": "code",
   "execution_count": 37,
   "id": "61181e7a-5e46-44b9-a5f0-9eb5f1f70ab1",
   "metadata": {},
   "outputs": [
    {
     "data": {
      "text/plain": [
       "dict_items([(0.001, 0.0), (0.01, 0.0), (0.1, 0.0), (1, 0.1), (10, 0.4), (20, 0.3), (50, 0.1), (100, 0.1)])"
      ]
     },
     "execution_count": 37,
     "metadata": {},
     "output_type": "execute_result"
    }
   ],
   "source": [
    "prob_arena.items()"
   ]
  },
  {
   "cell_type": "code",
   "execution_count": 38,
   "id": "5cf3d50a-8828-42d0-b7bb-297fe99dbd24",
   "metadata": {},
   "outputs": [
    {
     "data": {
      "text/plain": [
       "{0.001: 0.0,\n",
       " 0.01: 0.0,\n",
       " 0.1: 0.0,\n",
       " 1: 0.06999999999999999,\n",
       " 10: 0.27999999999999997,\n",
       " 20: 0.21,\n",
       " 50: 0.06999999999999999,\n",
       " 100: 0.06999999999999999}"
      ]
     },
     "execution_count": 38,
     "metadata": {},
     "output_type": "execute_result"
    }
   ],
   "source": [
    "prob_arena_cond={}\n",
    "for clave, valor in prob_arena.items():\n",
    "    prob_arena_cond[clave]=valor*0.7\n",
    "prob_arena_cond"
   ]
  },
  {
   "cell_type": "code",
   "execution_count": 39,
   "id": "eeade735-b217-485c-bf95-36883ab664bc",
   "metadata": {},
   "outputs": [
    {
     "data": {
      "text/plain": [
       "{0.001: 0.06,\n",
       " 0.01: 0.08000000000000002,\n",
       " 0.1: 0.04000000000000001,\n",
       " 1: 0.020000000000000004,\n",
       " 10: 0.0,\n",
       " 20: 0.0,\n",
       " 50: 0.0,\n",
       " 100: 0.0}"
      ]
     },
     "execution_count": 39,
     "metadata": {},
     "output_type": "execute_result"
    }
   ],
   "source": [
    "prob_arc_cond={}\n",
    "for clave, valor in prob_arcilla.items():\n",
    "    prob_arc_cond[clave]=valor*0.2\n",
    "prob_arc_cond"
   ]
  },
  {
   "cell_type": "code",
   "execution_count": 40,
   "id": "2eb04388-f8c1-4f54-8a68-3e9cd70c558e",
   "metadata": {},
   "outputs": [
    {
     "data": {
      "text/plain": [
       "{0.001: 0.010000000000000002,\n",
       " 0.01: 0.03,\n",
       " 0.1: 0.03,\n",
       " 1: 0.020000000000000004,\n",
       " 10: 0.010000000000000002,\n",
       " 20: 0.0,\n",
       " 50: 0.0,\n",
       " 100: 0.0}"
      ]
     },
     "execution_count": 40,
     "metadata": {},
     "output_type": "execute_result"
    }
   ],
   "source": [
    "prob_Tur_cond={}\n",
    "for clave, valor in prob_turba.items():\n",
    "    prob_Tur_cond[clave]=valor*0.1\n",
    "prob_Tur_cond"
   ]
  },
  {
   "cell_type": "markdown",
   "id": "79d2816d-e1b8-4e4a-95b6-301bcdcb93ef",
   "metadata": {},
   "source": [
    "Una vez obtenidas las distribuciones de probabilidad de conductividades para su correspondiente probabilidad textural, se procede a sumar para para cada rango de conductividad las probabilidades obtenidas para cada textura, obteniendo la probabilidad de tener ese valor de conductividad especfico en el acuifero como un todo."
   ]
  },
  {
   "cell_type": "code",
   "execution_count": 41,
   "id": "6b5e2c67-046e-48cf-81f8-1bfbf155ffd0",
   "metadata": {},
   "outputs": [
    {
     "name": "stdout",
     "output_type": "stream",
     "text": [
      "0.001\n",
      "0.01\n",
      "0.1\n",
      "1\n",
      "10\n",
      "20\n",
      "50\n",
      "100\n",
      "{0.001: 0.07, 0.01: 0.11000000000000001, 0.1: 0.07, 1: 0.11, 10: 0.29, 20: 0.21, 50: 0.06999999999999999, 100: 0.06999999999999999}\n"
     ]
    }
   ],
   "source": [
    "distribucion_conductividad = {}\n",
    "for clave in prob_arena_cond.keys():\n",
    "    distribucion_conductividad [clave] = prob_arena_cond[clave]+prob_arc_cond[clave]+prob_Tur_cond[clave]\n",
    "    print(clave)\n",
    "print (distribucion_conductividad) "
   ]
  },
  {
   "cell_type": "code",
   "execution_count": 42,
   "id": "bfd8b0d5-29f7-48e6-8fbd-c1761da97de6",
   "metadata": {},
   "outputs": [
    {
     "data": {
      "text/html": [
       "<div>\n",
       "<style scoped>\n",
       "    .dataframe tbody tr th:only-of-type {\n",
       "        vertical-align: middle;\n",
       "    }\n",
       "\n",
       "    .dataframe tbody tr th {\n",
       "        vertical-align: top;\n",
       "    }\n",
       "\n",
       "    .dataframe thead th {\n",
       "        text-align: right;\n",
       "    }\n",
       "</style>\n",
       "<table border=\"1\" class=\"dataframe\">\n",
       "  <thead>\n",
       "    <tr style=\"text-align: right;\">\n",
       "      <th></th>\n",
       "      <th>probabilidad</th>\n",
       "      <th>conductividad hidraulica</th>\n",
       "    </tr>\n",
       "  </thead>\n",
       "  <tbody>\n",
       "    <tr>\n",
       "      <th>0</th>\n",
       "      <td>0.07</td>\n",
       "      <td>0.001</td>\n",
       "    </tr>\n",
       "    <tr>\n",
       "      <th>1</th>\n",
       "      <td>0.11</td>\n",
       "      <td>0.010</td>\n",
       "    </tr>\n",
       "    <tr>\n",
       "      <th>2</th>\n",
       "      <td>0.07</td>\n",
       "      <td>0.100</td>\n",
       "    </tr>\n",
       "    <tr>\n",
       "      <th>3</th>\n",
       "      <td>0.11</td>\n",
       "      <td>1.000</td>\n",
       "    </tr>\n",
       "    <tr>\n",
       "      <th>4</th>\n",
       "      <td>0.29</td>\n",
       "      <td>10.000</td>\n",
       "    </tr>\n",
       "    <tr>\n",
       "      <th>5</th>\n",
       "      <td>0.21</td>\n",
       "      <td>20.000</td>\n",
       "    </tr>\n",
       "    <tr>\n",
       "      <th>6</th>\n",
       "      <td>0.07</td>\n",
       "      <td>50.000</td>\n",
       "    </tr>\n",
       "    <tr>\n",
       "      <th>7</th>\n",
       "      <td>0.07</td>\n",
       "      <td>100.000</td>\n",
       "    </tr>\n",
       "  </tbody>\n",
       "</table>\n",
       "</div>"
      ],
      "text/plain": [
       "   probabilidad  conductividad hidraulica\n",
       "0          0.07                     0.001\n",
       "1          0.11                     0.010\n",
       "2          0.07                     0.100\n",
       "3          0.11                     1.000\n",
       "4          0.29                    10.000\n",
       "5          0.21                    20.000\n",
       "6          0.07                    50.000\n",
       "7          0.07                   100.000"
      ]
     },
     "execution_count": 42,
     "metadata": {},
     "output_type": "execute_result"
    }
   ],
   "source": [
    "#se crea el data frame de los resultados de distribucion de probabilidad\n",
    "\n",
    "df = pd.DataFrame(distribucion_conductividad.values())\n",
    "df['conductividad hidraulica'] = [0.001,0.01,0.1,1,10,20,50,100]\n",
    "df.rename(columns={0:'probabilidad'},inplace=True)\n",
    "df"
   ]
  },
  {
   "cell_type": "code",
   "execution_count": 43,
   "id": "00177a21-71dc-4f56-981b-4f49cfb963d8",
   "metadata": {},
   "outputs": [
    {
     "data": {
      "text/plain": [
       "1.0"
      ]
     },
     "execution_count": 43,
     "metadata": {},
     "output_type": "execute_result"
    }
   ],
   "source": [
    "#probando que la distribucion de probabilidad suma 1\n",
    "sum(distribucion_conductividad.values())"
   ]
  },
  {
   "cell_type": "markdown",
   "id": "5bd2a879-5e09-47e6-8dd2-f97ad5004328",
   "metadata": {},
   "source": [
    "4. Considerar dos variables aleatorias Z1 y Z2 con media 10 y 25 y varianzas 300 y 450 respectivamente. El \r\n",
    "coeficiente de correlación entre ambas variables es igual a 0.7\n",
    " \r\n",
    "a. Calcular la covarianza entre Z1 y Z2. \n",
    "\n",
    "\n",
    "\n",
    "b. Calcular el valor esperado de Y = Z1 + Z2. \n",
    "\n",
    "\n",
    "c. Calcular la varianza de Y = Z1 + Z2.  Z2. "
   ]
  },
  {
   "cell_type": "markdown",
   "id": "8eb861bb-ebab-49be-8a68-a4ae3ecf1755",
   "metadata": {},
   "source": [
    "a. La covarianza esta dada por:\n",
    "$$\n",
    "C_{Z1Z2}=\\frac {r_{Z1Z2}}{\\sigma_{Z1}\\sigma_{Z2}}\n",
    "$$\n"
   ]
  },
  {
   "cell_type": "code",
   "execution_count": 44,
   "id": "2b7bd03b-a9d1-4f32-b26f-5b20661aac52",
   "metadata": {},
   "outputs": [
    {
     "name": "stdout",
     "output_type": "stream",
     "text": [
      "La covarianza entre Z1 y Z2 es:\n",
      " 0.0019051586888313606\n"
     ]
    }
   ],
   "source": [
    "r_Z1Z2 = 0.7\n",
    "sigma_Z1 = 300**0.5\n",
    "sigma_Z2 = 450**0.5\n",
    "\n",
    "c_Z1Z2 = r_Z1Z2/(sigma_Z1*sigma_Z2)\n",
    "print (f'La covarianza entre Z1 y Z2 es:\\n {c_Z1Z2}')"
   ]
  },
  {
   "cell_type": "markdown",
   "id": "526d3315-5383-497e-9a13-3b99e5fa062c",
   "metadata": {},
   "source": [
    "b. Teniendo en cuenta que:\n",
    "$$\n",
    "E[Y]=E[Z1+Z2] = E[Z1]+E[Z2]\n",
    "$$\n",
    "como el valor esperado E es igual a la media entonces:"
   ]
  },
  {
   "cell_type": "code",
   "execution_count": 45,
   "id": "ee7574a7-4248-40dc-a22f-a585e6850060",
   "metadata": {},
   "outputs": [
    {
     "name": "stdout",
     "output_type": "stream",
     "text": [
      "El valor esperado de Y = Z1 + Z2 es:\n",
      " 35\n"
     ]
    }
   ],
   "source": [
    "media_Z1 = 10\n",
    "media_Z2 = 25\n",
    "#Y = Z1+Z2\n",
    "esperado_y = media_Z1+media_Z2\n",
    "print (f'El valor esperado de Y = Z1 + Z2 es:\\n {esperado_y}')\n"
   ]
  },
  {
   "cell_type": "markdown",
   "id": "25992b04-2535-4aaa-8f06-7d7c7292e2b7",
   "metadata": {},
   "source": [
    "c. La varianza de Y = Z1+Z2 esta dada por:\n",
    "$$\n",
    "var(Y)=var(Z1+Z2)=var(Z1)+var(Z2)+2*cov(Z1,Z2) \n",
    "$$\n",
    "o\n",
    "$$\n",
    "var(Y)=var(Z1+Z2)=var(Z1)+var(Z2)\n",
    "$$\n",
    "si las variables son independientes\n",
    "Asi se tiene:"
   ]
  },
  {
   "cell_type": "code",
   "execution_count": 46,
   "id": "03d59b74-c244-4faf-86f9-def0d87f7a83",
   "metadata": {},
   "outputs": [
    {
     "name": "stdout",
     "output_type": "stream",
     "text": [
      "La varianza Y = Z1 + Z2 es:\n",
      " 750.0038103173777 si no son independientes\n"
     ]
    }
   ],
   "source": [
    "varZ1 = 300\n",
    "varZ2 = 450\n",
    "\n",
    "varY = varZ1+varZ2+2*c_Z1Z2\n",
    "print (f'La varianza Y = Z1 + Z2 es:\\n {varY} si no son independientes')\n"
   ]
  },
  {
   "cell_type": "code",
   "execution_count": 47,
   "id": "cc9f1c8f",
   "metadata": {},
   "outputs": [
    {
     "name": "stdout",
     "output_type": "stream",
     "text": [
      "La varianza Y = Z1 + Z2 es:\n",
      " 750.0038103173777 si no son independientes\n"
     ]
    }
   ],
   "source": [
    "varZ1 = 300\n",
    "varZ2 = 450\n",
    "\n",
    "varY = varZ1+varZ2+2*c_Z1Z2\n",
    "print (f'La varianza Y = Z1 + Z2 es:\\n {varY} si no son independientes')\n"
   ]
  },
  {
   "cell_type": "code",
   "execution_count": 48,
   "id": "ee0edf04-6dae-4993-b9ca-c9c46a4095bd",
   "metadata": {},
   "outputs": [
    {
     "name": "stdout",
     "output_type": "stream",
     "text": [
      "La varianza Y = Z1 + Z2 es:\n",
      " 750 si son independientes\n"
     ]
    }
   ],
   "source": [
    "varY = varZ1+varZ2\n",
    "print (f'La varianza Y = Z1 + Z2 es:\\n {varY} si son independientes')"
   ]
  },
  {
   "cell_type": "markdown",
   "id": "63302885-9e10-4df8-975b-d03ed1deb430",
   "metadata": {},
   "source": [
    "5. Suponer que están distribuidas de manera gaussiana bivariada y:\n",
    "\n",
    "a. Calcular Pr[Z1 < 30] \n",
    "\n",
    "\n",
    "b. Calcular Pr[Z2 < 40]\n",
    "\n",
    "\n",
    "c. Calcular la probabilidad Pr[Z1 + Z2 < 50] \n",
    "\n",
    "\n",
    "d. Calcular la probabilidad Pr[Z1 < 30 ⋂ Z2 < 40] \n",
    "\n",
    "\n",
    "e. Calcular la probabilidad Pr[Z1 < 30 ⋃ Z2 < 40]    40] "
   ]
  },
  {
   "cell_type": "markdown",
   "id": "45507bae-e6f1-44c1-b8eb-fdcee09f8450",
   "metadata": {},
   "source": [
    "a. Teniendo en cuenta que la Funcion de densidad Normal es:\n",
    "$$\n",
    "f(z)=\\frac {1}{(\\sqrt{2\\pi})\\sigma}e^{\\frac{-1}{2}{{(z-m})^2/\\sigma^2}}\n",
    "$$"
   ]
  },
  {
   "cell_type": "code",
   "execution_count": 49,
   "id": "7e522482-5e14-4d0f-94ac-d6bd8c624949",
   "metadata": {},
   "outputs": [],
   "source": [
    "#Definimos la funcion PDF\n",
    "\n",
    "#media de z1\n",
    "mz1= 10 #m/d\n",
    "#Varianza de z1\n",
    "sigma2z1 = 300 #m2/d2\n",
    "\n",
    "def PDF(z):\n",
    "\n",
    "    numerador = np.exp(-0.5*(z-mz1)**2)/sigma2z1\n",
    "    denominador = np.sqrt(2*np.pi*sigma2z1)\n",
    "    resultado = numerador/denominador\n",
    "    return resultado"
   ]
  },
  {
   "cell_type": "markdown",
   "id": "f4e9640d-918e-4195-84c1-00b65d019f7a",
   "metadata": {},
   "source": [
    "Una vez teniendo la funcion de distribucion de probabilidad para z1 se calcula la distribucion de probabilidad acumulada generando intervalos de 0.1 con limite superior en 30 (que es una aproximacion de la integral)"
   ]
  },
  {
   "cell_type": "code",
   "execution_count": 50,
   "id": "2b898387-2801-473f-993e-675558567a2e",
   "metadata": {},
   "outputs": [
    {
     "name": "stdout",
     "output_type": "stream",
     "text": [
      "La probabilidad acumulada de 30 es:\n",
      " 0.0019245008972987524\n"
     ]
    }
   ],
   "source": [
    "valores = np.arange(0.0,30,0.1)\n",
    "#Valor de la probabilidad acumulada hasta el valor de 30\n",
    "vacum_probabilidadz1 = PDF(valores).sum()\n",
    "print (f'La probabilidad acumulada de 30 es:\\n {vacum_probabilidadz1}')"
   ]
  },
  {
   "cell_type": "markdown",
   "id": "dc4c8083-9d1d-4b62-9c8d-d4d6ffe655bf",
   "metadata": {},
   "source": [
    "Por tanto la probabilidad que un valor sea mayor a 30 es:\n",
    "\n",
    "$$\n",
    "Probabilidad Acum_{mayor 30} = 1-Probabilidad Acum_{30}\n",
    "$$"
   ]
  },
  {
   "cell_type": "code",
   "execution_count": 51,
   "id": "e7d929ae-001e-498e-a2b8-3c19667fb93e",
   "metadata": {},
   "outputs": [
    {
     "name": "stdout",
     "output_type": "stream",
     "text": [
      " La probabilidad que un valor sea mayor a 30 es: \n",
      " 0.9980754991027012\n"
     ]
    }
   ],
   "source": [
    "print (f' La probabilidad que \\\n",
    "un valor sea mayor a 30 es: \\n {1-vacum_probabilidadz1}')"
   ]
  },
  {
   "cell_type": "code",
   "execution_count": 52,
   "id": "81f96be2-826f-492d-9461-0913207c9baa",
   "metadata": {},
   "outputs": [],
   "source": [
    "# para b Definimos la funcion PDF\n",
    "\n",
    "#media de z2\n",
    "mz2= 25 #m/d\n",
    "#Varianza de z2\n",
    "sigma2z2 = 450 #m2/d2\n",
    "\n",
    "def PDF(z):\n",
    "\n",
    "    numerador = np.exp(-0.5*(z-mz2)**2)/sigma2z2\n",
    "    denominador = np.sqrt(2*np.pi*sigma2z2)\n",
    "    resultado = numerador/denominador\n",
    "    return resultado"
   ]
  },
  {
   "cell_type": "markdown",
   "id": "5a4e3095-297f-4ef3-827e-c42d6b04c683",
   "metadata": {},
   "source": [
    "Una vez teniendo la funcion de distribucion de probabilidad para z2 se calcula la distribucion de probabilidad acumulada generando intervalos de 0.1 con limite superior en 40"
   ]
  },
  {
   "cell_type": "code",
   "execution_count": 53,
   "id": "154f0373-9513-4aa8-9422-98eb347c12d8",
   "metadata": {},
   "outputs": [
    {
     "name": "stdout",
     "output_type": "stream",
     "text": [
      "La probabilidad acumulada de 40 es:\n",
      " 0.001047565601757848\n"
     ]
    }
   ],
   "source": [
    "valores = np.arange(0.0,40,0.1)\n",
    "#Valor de la probabilidad acumulada hasta el valor de 40\n",
    "vacum_probabilidadz2 = PDF(valores).sum()\n",
    "print (f'La probabilidad acumulada de 40 es:\\n {vacum_probabilidadz2}')"
   ]
  },
  {
   "cell_type": "code",
   "execution_count": 54,
   "id": "f2f1caef-ccb2-44db-853b-999765e40281",
   "metadata": {},
   "outputs": [
    {
     "name": "stdout",
     "output_type": "stream",
     "text": [
      " La probabilidad que un valor sea mayor a 30 es: \n",
      " 0.9989524343982421\n"
     ]
    }
   ],
   "source": [
    "print (f' La probabilidad que \\\n",
    "un valor sea mayor a 30 es: \\n {1-vacum_probabilidadz2}')"
   ]
  },
  {
   "cell_type": "markdown",
   "id": "c794577e-4aec-44fc-8e6a-27f436c0aade",
   "metadata": {},
   "source": [
    "c. Teniendo en cuenta que:\n",
    "$$\n",
    "X_1+X_2=N(\\mu_1+\\mu_2,\\sqrt{\\sigma_1^2+\\sigma_2^2})\n",
    "$$"
   ]
  },
  {
   "cell_type": "code",
   "execution_count": 55,
   "id": "552c58fd-88c4-4ea6-b472-44f0a7cf57b8",
   "metadata": {},
   "outputs": [],
   "source": [
    "media_Z1 = 10\n",
    "media_Z2 = 25\n",
    "#Y = Z1+Z2\n",
    "mediaZ1Z2= 35 #m/d\n",
    "#Varianza de Y\n",
    "varZ1 = 300\n",
    "varZ2 = 450\n",
    "varz1z2 = (varZ1+varZ2) #m2/d\n",
    "\n",
    "def PDF(y):\n",
    "\n",
    "    numerador = np.exp(-0.5*(y-mediaZ1Z2)**2)/varz1z2\n",
    "    denominador = np.sqrt(2*np.pi*varz1z2)\n",
    "    resultado = numerador/denominador\n",
    "    return resultado"
   ]
  },
  {
   "cell_type": "code",
   "execution_count": 56,
   "id": "2ee6b44d-7ba1-4574-b618-ffc8a56b7a79",
   "metadata": {},
   "outputs": [
    {
     "name": "stdout",
     "output_type": "stream",
     "text": [
      "La probabilidad acumulada de z1+z2<50 es:\n",
      " 0.00048686449556014765\n"
     ]
    }
   ],
   "source": [
    "valores = np.arange(0.0,50+0.1,0.1)\n",
    "#Valor de la probabilidad acumulada hasta el valor de 50\n",
    "vacum_probabilidadz1z2 = PDF(valores).sum()\n",
    "print (f'La probabilidad acumulada de z1+z2<50 es:\\n {vacum_probabilidadz1z2}')"
   ]
  },
  {
   "cell_type": "markdown",
   "id": "4549f947-5f11-4602-8510-432496179727",
   "metadata": {},
   "source": [
    "d. Teniendo que la intercepcion esta dada por:\n",
    "$$\n",
    "p[a\\cap b]= p[a]*p[b]\n",
    "$$"
   ]
  },
  {
   "cell_type": "markdown",
   "id": "2f73d81f-62c5-4f64-9adc-f93c50000af5",
   "metadata": {},
   "source": [
    "entonces:"
   ]
  },
  {
   "cell_type": "code",
   "execution_count": 57,
   "id": "0ea05f53-244c-4cb5-b05d-71044eadbefe",
   "metadata": {},
   "outputs": [
    {
     "name": "stdout",
     "output_type": "stream",
     "text": [
      "la probabilidad de z1<30 interceptado con z2<40 es:\n",
      " 2.016040940562286e-06\n"
     ]
    }
   ],
   "source": [
    "pa=vacum_probabilidadz1\n",
    "pb=vacum_probabilidadz2\n",
    "\n",
    "p_inter_ab=pa*pb\n",
    "\n",
    "print (f'la probabilidad de z1<30 interceptado con z2<40 es:\\n {p_inter_ab}')"
   ]
  },
  {
   "cell_type": "markdown",
   "id": "68c6b305-867b-4d1b-b8fa-377bf5542c3c",
   "metadata": {},
   "source": [
    "d. Teniendo que la intercepcion esta dada por:\n",
    "$$\n",
    "p[a\\cup b]= p[a]+p[b]-p[a \\cap b]\n",
    "$$"
   ]
  },
  {
   "cell_type": "code",
   "execution_count": 58,
   "id": "b31a5c3a-ddd6-435c-adc6-3a559e7a2d1f",
   "metadata": {},
   "outputs": [
    {
     "name": "stdout",
     "output_type": "stream",
     "text": [
      "la probabilidad de z1<30 union con z2<40 es:\n",
      " 0.0029700504581160383\n"
     ]
    }
   ],
   "source": [
    "pa=vacum_probabilidadz1\n",
    "pb=vacum_probabilidadz2\n",
    "\n",
    "p_union_ab=pa+pb-p_inter_ab\n",
    "print (f'la probabilidad de z1<30 union con z2<40 es:\\n {p_union_ab}')\n"
   ]
  },
  {
   "cell_type": "code",
   "execution_count": null,
   "id": "3ef69899-7bd5-483e-8fa1-be2e5170c853",
   "metadata": {},
   "outputs": [],
   "source": []
  }
 ],
 "metadata": {
  "kernelspec": {
   "display_name": "Python 3 (ipykernel)",
   "language": "python",
   "name": "python3"
  },
  "language_info": {
   "codemirror_mode": {
    "name": "ipython",
    "version": 3
   },
   "file_extension": ".py",
   "mimetype": "text/x-python",
   "name": "python",
   "nbconvert_exporter": "python",
   "pygments_lexer": "ipython3",
   "version": "3.12.1"
  }
 },
 "nbformat": 4,
 "nbformat_minor": 5
}
