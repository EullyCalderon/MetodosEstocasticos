{
 "cells": [
  {
   "cell_type": "markdown",
   "id": "8c1dddfc-a6b4-4010-b435-a562d6575806",
   "metadata": {},
   "source": [
    "# Tarea 3\n",
    "## Estudiante Janneth Eulalia Calderón Peña\n",
    "### Métodos Estocásticos\n",
    "### Maestría en Recursos Hidráulicos\n",
    "Importanto las Librerias"
   ]
  },
  {
   "cell_type": "code",
   "execution_count": 823,
   "id": "b0d27b71-e0e1-428f-816e-95170ec59d23",
   "metadata": {},
   "outputs": [],
   "source": [
    "import pandas as pd \n",
    "import numpy as np\n",
    "import matplotlib\n",
    "import matplotlib.pyplot as plt\n",
    "import seaborn as sns\n",
    "import statsmodels.api as sm\n",
    "from scipy import special"
   ]
  },
  {
   "cell_type": "code",
   "execution_count": 824,
   "id": "7e26ffd3-165b-4bd5-ab69-8816346d175a",
   "metadata": {},
   "outputs": [
    {
     "name": "stdout",
     "output_type": "stream",
     "text": [
      "version pandas2.2.0\n",
      "version numpy1.26.3\n",
      "version matplotlib3.8.2\n"
     ]
    }
   ],
   "source": [
    "print (f'version pandas{pd.__version__}')\n",
    "print (f'version numpy{np.__version__}')\n",
    "print (f'version matplotlib{matplotlib.__version__}')"
   ]
  },
  {
   "cell_type": "code",
   "execution_count": 825,
   "id": "9c8dc83b-544c-4e91-ad3b-a8464cdad705",
   "metadata": {},
   "outputs": [
    {
     "data": {
      "text/html": [
       "<div>\n",
       "<style scoped>\n",
       "    .dataframe tbody tr th:only-of-type {\n",
       "        vertical-align: middle;\n",
       "    }\n",
       "\n",
       "    .dataframe tbody tr th {\n",
       "        vertical-align: top;\n",
       "    }\n",
       "\n",
       "    .dataframe thead th {\n",
       "        text-align: right;\n",
       "    }\n",
       "</style>\n",
       "<table border=\"1\" class=\"dataframe\">\n",
       "  <thead>\n",
       "    <tr style=\"text-align: right;\">\n",
       "      <th></th>\n",
       "      <th>Año</th>\n",
       "      <th>Caudal Máximo Diario Anual (m3/s)</th>\n",
       "    </tr>\n",
       "  </thead>\n",
       "  <tbody>\n",
       "    <tr>\n",
       "      <th>0</th>\n",
       "      <td>1950</td>\n",
       "      <td>1266</td>\n",
       "    </tr>\n",
       "    <tr>\n",
       "      <th>1</th>\n",
       "      <td>1951</td>\n",
       "      <td>1492</td>\n",
       "    </tr>\n",
       "    <tr>\n",
       "      <th>2</th>\n",
       "      <td>1952</td>\n",
       "      <td>1862</td>\n",
       "    </tr>\n",
       "    <tr>\n",
       "      <th>3</th>\n",
       "      <td>1953</td>\n",
       "      <td>861</td>\n",
       "    </tr>\n",
       "    <tr>\n",
       "      <th>4</th>\n",
       "      <td>1954</td>\n",
       "      <td>715</td>\n",
       "    </tr>\n",
       "    <tr>\n",
       "      <th>5</th>\n",
       "      <td>1955</td>\n",
       "      <td>1367</td>\n",
       "    </tr>\n",
       "    <tr>\n",
       "      <th>6</th>\n",
       "      <td>1956</td>\n",
       "      <td>1837</td>\n",
       "    </tr>\n",
       "    <tr>\n",
       "      <th>7</th>\n",
       "      <td>1957</td>\n",
       "      <td>1429</td>\n",
       "    </tr>\n",
       "    <tr>\n",
       "      <th>8</th>\n",
       "      <td>1958</td>\n",
       "      <td>1429</td>\n",
       "    </tr>\n",
       "    <tr>\n",
       "      <th>9</th>\n",
       "      <td>1959</td>\n",
       "      <td>1261</td>\n",
       "    </tr>\n",
       "    <tr>\n",
       "      <th>10</th>\n",
       "      <td>1960</td>\n",
       "      <td>1607</td>\n",
       "    </tr>\n",
       "    <tr>\n",
       "      <th>11</th>\n",
       "      <td>1961</td>\n",
       "      <td>2132</td>\n",
       "    </tr>\n",
       "    <tr>\n",
       "      <th>12</th>\n",
       "      <td>1962</td>\n",
       "      <td>1652</td>\n",
       "    </tr>\n",
       "    <tr>\n",
       "      <th>13</th>\n",
       "      <td>1963</td>\n",
       "      <td>1537</td>\n",
       "    </tr>\n",
       "    <tr>\n",
       "      <th>14</th>\n",
       "      <td>1964</td>\n",
       "      <td>1155</td>\n",
       "    </tr>\n",
       "    <tr>\n",
       "      <th>15</th>\n",
       "      <td>1965</td>\n",
       "      <td>1899</td>\n",
       "    </tr>\n",
       "    <tr>\n",
       "      <th>16</th>\n",
       "      <td>1966</td>\n",
       "      <td>1956</td>\n",
       "    </tr>\n",
       "    <tr>\n",
       "      <th>17</th>\n",
       "      <td>1967</td>\n",
       "      <td>1596</td>\n",
       "    </tr>\n",
       "    <tr>\n",
       "      <th>18</th>\n",
       "      <td>1968</td>\n",
       "      <td>1380</td>\n",
       "    </tr>\n",
       "    <tr>\n",
       "      <th>19</th>\n",
       "      <td>1969</td>\n",
       "      <td>745</td>\n",
       "    </tr>\n",
       "    <tr>\n",
       "      <th>20</th>\n",
       "      <td>1970</td>\n",
       "      <td>2181</td>\n",
       "    </tr>\n",
       "    <tr>\n",
       "      <th>21</th>\n",
       "      <td>1971</td>\n",
       "      <td>955</td>\n",
       "    </tr>\n",
       "    <tr>\n",
       "      <th>22</th>\n",
       "      <td>1972</td>\n",
       "      <td>1007</td>\n",
       "    </tr>\n",
       "    <tr>\n",
       "      <th>23</th>\n",
       "      <td>1973</td>\n",
       "      <td>824</td>\n",
       "    </tr>\n",
       "    <tr>\n",
       "      <th>24</th>\n",
       "      <td>1974</td>\n",
       "      <td>1271</td>\n",
       "    </tr>\n",
       "    <tr>\n",
       "      <th>25</th>\n",
       "      <td>1975</td>\n",
       "      <td>1044</td>\n",
       "    </tr>\n",
       "    <tr>\n",
       "      <th>26</th>\n",
       "      <td>1976</td>\n",
       "      <td>597</td>\n",
       "    </tr>\n",
       "    <tr>\n",
       "      <th>27</th>\n",
       "      <td>1977</td>\n",
       "      <td>1216</td>\n",
       "    </tr>\n",
       "    <tr>\n",
       "      <th>28</th>\n",
       "      <td>1978</td>\n",
       "      <td>1061</td>\n",
       "    </tr>\n",
       "    <tr>\n",
       "      <th>29</th>\n",
       "      <td>1979</td>\n",
       "      <td>1450</td>\n",
       "    </tr>\n",
       "    <tr>\n",
       "      <th>30</th>\n",
       "      <td>1980</td>\n",
       "      <td>2016</td>\n",
       "    </tr>\n",
       "    <tr>\n",
       "      <th>31</th>\n",
       "      <td>1981</td>\n",
       "      <td>1270</td>\n",
       "    </tr>\n",
       "    <tr>\n",
       "      <th>32</th>\n",
       "      <td>1982</td>\n",
       "      <td>1341</td>\n",
       "    </tr>\n",
       "    <tr>\n",
       "      <th>33</th>\n",
       "      <td>1983</td>\n",
       "      <td>1075</td>\n",
       "    </tr>\n",
       "    <tr>\n",
       "      <th>34</th>\n",
       "      <td>1984</td>\n",
       "      <td>2482</td>\n",
       "    </tr>\n",
       "    <tr>\n",
       "      <th>35</th>\n",
       "      <td>1985</td>\n",
       "      <td>874</td>\n",
       "    </tr>\n",
       "    <tr>\n",
       "      <th>36</th>\n",
       "      <td>1986</td>\n",
       "      <td>1689</td>\n",
       "    </tr>\n",
       "    <tr>\n",
       "      <th>37</th>\n",
       "      <td>1987</td>\n",
       "      <td>1554</td>\n",
       "    </tr>\n",
       "    <tr>\n",
       "      <th>38</th>\n",
       "      <td>1988</td>\n",
       "      <td>1831</td>\n",
       "    </tr>\n",
       "    <tr>\n",
       "      <th>39</th>\n",
       "      <td>1989</td>\n",
       "      <td>1149</td>\n",
       "    </tr>\n",
       "    <tr>\n",
       "      <th>40</th>\n",
       "      <td>1990</td>\n",
       "      <td>1444</td>\n",
       "    </tr>\n",
       "    <tr>\n",
       "      <th>41</th>\n",
       "      <td>1991</td>\n",
       "      <td>1791</td>\n",
       "    </tr>\n",
       "    <tr>\n",
       "      <th>42</th>\n",
       "      <td>1992</td>\n",
       "      <td>1207</td>\n",
       "    </tr>\n",
       "    <tr>\n",
       "      <th>43</th>\n",
       "      <td>1993</td>\n",
       "      <td>3050</td>\n",
       "    </tr>\n",
       "    <tr>\n",
       "      <th>44</th>\n",
       "      <td>1994</td>\n",
       "      <td>1578</td>\n",
       "    </tr>\n",
       "    <tr>\n",
       "      <th>45</th>\n",
       "      <td>1995</td>\n",
       "      <td>2817</td>\n",
       "    </tr>\n",
       "    <tr>\n",
       "      <th>46</th>\n",
       "      <td>1996</td>\n",
       "      <td>792</td>\n",
       "    </tr>\n",
       "    <tr>\n",
       "      <th>47</th>\n",
       "      <td>1997</td>\n",
       "      <td>1143</td>\n",
       "    </tr>\n",
       "    <tr>\n",
       "      <th>48</th>\n",
       "      <td>1998</td>\n",
       "      <td>1698</td>\n",
       "    </tr>\n",
       "    <tr>\n",
       "      <th>49</th>\n",
       "      <td>1999</td>\n",
       "      <td>2076</td>\n",
       "    </tr>\n",
       "    <tr>\n",
       "      <th>50</th>\n",
       "      <td>2000</td>\n",
       "      <td>1204</td>\n",
       "    </tr>\n",
       "    <tr>\n",
       "      <th>51</th>\n",
       "      <td>2001</td>\n",
       "      <td>1835</td>\n",
       "    </tr>\n",
       "  </tbody>\n",
       "</table>\n",
       "</div>"
      ],
      "text/plain": [
       "     Año  Caudal Máximo Diario Anual (m3/s)\n",
       "0   1950                               1266\n",
       "1   1951                               1492\n",
       "2   1952                               1862\n",
       "3   1953                                861\n",
       "4   1954                                715\n",
       "5   1955                               1367\n",
       "6   1956                               1837\n",
       "7   1957                               1429\n",
       "8   1958                               1429\n",
       "9   1959                               1261\n",
       "10  1960                               1607\n",
       "11  1961                               2132\n",
       "12  1962                               1652\n",
       "13  1963                               1537\n",
       "14  1964                               1155\n",
       "15  1965                               1899\n",
       "16  1966                               1956\n",
       "17  1967                               1596\n",
       "18  1968                               1380\n",
       "19  1969                                745\n",
       "20  1970                               2181\n",
       "21  1971                                955\n",
       "22  1972                               1007\n",
       "23  1973                                824\n",
       "24  1974                               1271\n",
       "25  1975                               1044\n",
       "26  1976                                597\n",
       "27  1977                               1216\n",
       "28  1978                               1061\n",
       "29  1979                               1450\n",
       "30  1980                               2016\n",
       "31  1981                               1270\n",
       "32  1982                               1341\n",
       "33  1983                               1075\n",
       "34  1984                               2482\n",
       "35  1985                                874\n",
       "36  1986                               1689\n",
       "37  1987                               1554\n",
       "38  1988                               1831\n",
       "39  1989                               1149\n",
       "40  1990                               1444\n",
       "41  1991                               1791\n",
       "42  1992                               1207\n",
       "43  1993                               3050\n",
       "44  1994                               1578\n",
       "45  1995                               2817\n",
       "46  1996                                792\n",
       "47  1997                               1143\n",
       "48  1998                               1698\n",
       "49  1999                               2076\n",
       "50  2000                               1204\n",
       "51  2001                               1835"
      ]
     },
     "metadata": {},
     "output_type": "display_data"
    }
   ],
   "source": [
    "df = pd.read_csv(\"SMWR_2024_Ex_03.txt\", sep=\"\\t\") #el \\t es el separador de cada columna\n",
    "display (df)"
   ]
  },
  {
   "cell_type": "code",
   "execution_count": 826,
   "id": "880023ab-ddfc-42e8-baca-9470983667b4",
   "metadata": {},
   "outputs": [],
   "source": [
    "df.rename (columns={'Caudal Máximo Diario Anual (m3/s)':'QmaxAnual'}, inplace=True)"
   ]
  },
  {
   "cell_type": "code",
   "execution_count": 827,
   "id": "f89a83b2-4d21-47b5-a6cc-5d3ec313d4f1",
   "metadata": {},
   "outputs": [
    {
     "data": {
      "text/html": [
       "<div>\n",
       "<style scoped>\n",
       "    .dataframe tbody tr th:only-of-type {\n",
       "        vertical-align: middle;\n",
       "    }\n",
       "\n",
       "    .dataframe tbody tr th {\n",
       "        vertical-align: top;\n",
       "    }\n",
       "\n",
       "    .dataframe thead th {\n",
       "        text-align: right;\n",
       "    }\n",
       "</style>\n",
       "<table border=\"1\" class=\"dataframe\">\n",
       "  <thead>\n",
       "    <tr style=\"text-align: right;\">\n",
       "      <th></th>\n",
       "      <th>Año</th>\n",
       "      <th>QmaxAnual</th>\n",
       "    </tr>\n",
       "  </thead>\n",
       "  <tbody>\n",
       "    <tr>\n",
       "      <th>0</th>\n",
       "      <td>1950</td>\n",
       "      <td>1266</td>\n",
       "    </tr>\n",
       "    <tr>\n",
       "      <th>1</th>\n",
       "      <td>1951</td>\n",
       "      <td>1492</td>\n",
       "    </tr>\n",
       "    <tr>\n",
       "      <th>2</th>\n",
       "      <td>1952</td>\n",
       "      <td>1862</td>\n",
       "    </tr>\n",
       "    <tr>\n",
       "      <th>3</th>\n",
       "      <td>1953</td>\n",
       "      <td>861</td>\n",
       "    </tr>\n",
       "    <tr>\n",
       "      <th>4</th>\n",
       "      <td>1954</td>\n",
       "      <td>715</td>\n",
       "    </tr>\n",
       "    <tr>\n",
       "      <th>5</th>\n",
       "      <td>1955</td>\n",
       "      <td>1367</td>\n",
       "    </tr>\n",
       "    <tr>\n",
       "      <th>6</th>\n",
       "      <td>1956</td>\n",
       "      <td>1837</td>\n",
       "    </tr>\n",
       "    <tr>\n",
       "      <th>7</th>\n",
       "      <td>1957</td>\n",
       "      <td>1429</td>\n",
       "    </tr>\n",
       "    <tr>\n",
       "      <th>8</th>\n",
       "      <td>1958</td>\n",
       "      <td>1429</td>\n",
       "    </tr>\n",
       "    <tr>\n",
       "      <th>9</th>\n",
       "      <td>1959</td>\n",
       "      <td>1261</td>\n",
       "    </tr>\n",
       "    <tr>\n",
       "      <th>10</th>\n",
       "      <td>1960</td>\n",
       "      <td>1607</td>\n",
       "    </tr>\n",
       "    <tr>\n",
       "      <th>11</th>\n",
       "      <td>1961</td>\n",
       "      <td>2132</td>\n",
       "    </tr>\n",
       "    <tr>\n",
       "      <th>12</th>\n",
       "      <td>1962</td>\n",
       "      <td>1652</td>\n",
       "    </tr>\n",
       "    <tr>\n",
       "      <th>13</th>\n",
       "      <td>1963</td>\n",
       "      <td>1537</td>\n",
       "    </tr>\n",
       "    <tr>\n",
       "      <th>14</th>\n",
       "      <td>1964</td>\n",
       "      <td>1155</td>\n",
       "    </tr>\n",
       "    <tr>\n",
       "      <th>15</th>\n",
       "      <td>1965</td>\n",
       "      <td>1899</td>\n",
       "    </tr>\n",
       "    <tr>\n",
       "      <th>16</th>\n",
       "      <td>1966</td>\n",
       "      <td>1956</td>\n",
       "    </tr>\n",
       "    <tr>\n",
       "      <th>17</th>\n",
       "      <td>1967</td>\n",
       "      <td>1596</td>\n",
       "    </tr>\n",
       "    <tr>\n",
       "      <th>18</th>\n",
       "      <td>1968</td>\n",
       "      <td>1380</td>\n",
       "    </tr>\n",
       "    <tr>\n",
       "      <th>19</th>\n",
       "      <td>1969</td>\n",
       "      <td>745</td>\n",
       "    </tr>\n",
       "    <tr>\n",
       "      <th>20</th>\n",
       "      <td>1970</td>\n",
       "      <td>2181</td>\n",
       "    </tr>\n",
       "    <tr>\n",
       "      <th>21</th>\n",
       "      <td>1971</td>\n",
       "      <td>955</td>\n",
       "    </tr>\n",
       "    <tr>\n",
       "      <th>22</th>\n",
       "      <td>1972</td>\n",
       "      <td>1007</td>\n",
       "    </tr>\n",
       "    <tr>\n",
       "      <th>23</th>\n",
       "      <td>1973</td>\n",
       "      <td>824</td>\n",
       "    </tr>\n",
       "    <tr>\n",
       "      <th>24</th>\n",
       "      <td>1974</td>\n",
       "      <td>1271</td>\n",
       "    </tr>\n",
       "    <tr>\n",
       "      <th>25</th>\n",
       "      <td>1975</td>\n",
       "      <td>1044</td>\n",
       "    </tr>\n",
       "    <tr>\n",
       "      <th>26</th>\n",
       "      <td>1976</td>\n",
       "      <td>597</td>\n",
       "    </tr>\n",
       "    <tr>\n",
       "      <th>27</th>\n",
       "      <td>1977</td>\n",
       "      <td>1216</td>\n",
       "    </tr>\n",
       "    <tr>\n",
       "      <th>28</th>\n",
       "      <td>1978</td>\n",
       "      <td>1061</td>\n",
       "    </tr>\n",
       "    <tr>\n",
       "      <th>29</th>\n",
       "      <td>1979</td>\n",
       "      <td>1450</td>\n",
       "    </tr>\n",
       "    <tr>\n",
       "      <th>30</th>\n",
       "      <td>1980</td>\n",
       "      <td>2016</td>\n",
       "    </tr>\n",
       "    <tr>\n",
       "      <th>31</th>\n",
       "      <td>1981</td>\n",
       "      <td>1270</td>\n",
       "    </tr>\n",
       "    <tr>\n",
       "      <th>32</th>\n",
       "      <td>1982</td>\n",
       "      <td>1341</td>\n",
       "    </tr>\n",
       "    <tr>\n",
       "      <th>33</th>\n",
       "      <td>1983</td>\n",
       "      <td>1075</td>\n",
       "    </tr>\n",
       "    <tr>\n",
       "      <th>34</th>\n",
       "      <td>1984</td>\n",
       "      <td>2482</td>\n",
       "    </tr>\n",
       "    <tr>\n",
       "      <th>35</th>\n",
       "      <td>1985</td>\n",
       "      <td>874</td>\n",
       "    </tr>\n",
       "    <tr>\n",
       "      <th>36</th>\n",
       "      <td>1986</td>\n",
       "      <td>1689</td>\n",
       "    </tr>\n",
       "    <tr>\n",
       "      <th>37</th>\n",
       "      <td>1987</td>\n",
       "      <td>1554</td>\n",
       "    </tr>\n",
       "    <tr>\n",
       "      <th>38</th>\n",
       "      <td>1988</td>\n",
       "      <td>1831</td>\n",
       "    </tr>\n",
       "    <tr>\n",
       "      <th>39</th>\n",
       "      <td>1989</td>\n",
       "      <td>1149</td>\n",
       "    </tr>\n",
       "    <tr>\n",
       "      <th>40</th>\n",
       "      <td>1990</td>\n",
       "      <td>1444</td>\n",
       "    </tr>\n",
       "    <tr>\n",
       "      <th>41</th>\n",
       "      <td>1991</td>\n",
       "      <td>1791</td>\n",
       "    </tr>\n",
       "    <tr>\n",
       "      <th>42</th>\n",
       "      <td>1992</td>\n",
       "      <td>1207</td>\n",
       "    </tr>\n",
       "    <tr>\n",
       "      <th>43</th>\n",
       "      <td>1993</td>\n",
       "      <td>3050</td>\n",
       "    </tr>\n",
       "    <tr>\n",
       "      <th>44</th>\n",
       "      <td>1994</td>\n",
       "      <td>1578</td>\n",
       "    </tr>\n",
       "    <tr>\n",
       "      <th>45</th>\n",
       "      <td>1995</td>\n",
       "      <td>2817</td>\n",
       "    </tr>\n",
       "    <tr>\n",
       "      <th>46</th>\n",
       "      <td>1996</td>\n",
       "      <td>792</td>\n",
       "    </tr>\n",
       "    <tr>\n",
       "      <th>47</th>\n",
       "      <td>1997</td>\n",
       "      <td>1143</td>\n",
       "    </tr>\n",
       "    <tr>\n",
       "      <th>48</th>\n",
       "      <td>1998</td>\n",
       "      <td>1698</td>\n",
       "    </tr>\n",
       "    <tr>\n",
       "      <th>49</th>\n",
       "      <td>1999</td>\n",
       "      <td>2076</td>\n",
       "    </tr>\n",
       "    <tr>\n",
       "      <th>50</th>\n",
       "      <td>2000</td>\n",
       "      <td>1204</td>\n",
       "    </tr>\n",
       "    <tr>\n",
       "      <th>51</th>\n",
       "      <td>2001</td>\n",
       "      <td>1835</td>\n",
       "    </tr>\n",
       "  </tbody>\n",
       "</table>\n",
       "</div>"
      ],
      "text/plain": [
       "     Año  QmaxAnual\n",
       "0   1950       1266\n",
       "1   1951       1492\n",
       "2   1952       1862\n",
       "3   1953        861\n",
       "4   1954        715\n",
       "5   1955       1367\n",
       "6   1956       1837\n",
       "7   1957       1429\n",
       "8   1958       1429\n",
       "9   1959       1261\n",
       "10  1960       1607\n",
       "11  1961       2132\n",
       "12  1962       1652\n",
       "13  1963       1537\n",
       "14  1964       1155\n",
       "15  1965       1899\n",
       "16  1966       1956\n",
       "17  1967       1596\n",
       "18  1968       1380\n",
       "19  1969        745\n",
       "20  1970       2181\n",
       "21  1971        955\n",
       "22  1972       1007\n",
       "23  1973        824\n",
       "24  1974       1271\n",
       "25  1975       1044\n",
       "26  1976        597\n",
       "27  1977       1216\n",
       "28  1978       1061\n",
       "29  1979       1450\n",
       "30  1980       2016\n",
       "31  1981       1270\n",
       "32  1982       1341\n",
       "33  1983       1075\n",
       "34  1984       2482\n",
       "35  1985        874\n",
       "36  1986       1689\n",
       "37  1987       1554\n",
       "38  1988       1831\n",
       "39  1989       1149\n",
       "40  1990       1444\n",
       "41  1991       1791\n",
       "42  1992       1207\n",
       "43  1993       3050\n",
       "44  1994       1578\n",
       "45  1995       2817\n",
       "46  1996        792\n",
       "47  1997       1143\n",
       "48  1998       1698\n",
       "49  1999       2076\n",
       "50  2000       1204\n",
       "51  2001       1835"
      ]
     },
     "execution_count": 827,
     "metadata": {},
     "output_type": "execute_result"
    }
   ],
   "source": [
    "df"
   ]
  },
  {
   "cell_type": "markdown",
   "id": "209c82e0-4116-42dc-a3ba-2ce051fc7604",
   "metadata": {},
   "source": [
    "Ecuacion de Von Neuman para independencia\n",
    "$$\n",
    "Q =\\frac{\\sum_{i=1}^{n-1}(x_{i+1}-x_i)^2}{\\sum_{i=1}^{n} (x_i-\\bar{x})^2}\n",
    "$$"
   ]
  },
  {
   "cell_type": "code",
   "execution_count": 828,
   "id": "95d8b9b3-ce3a-4452-832b-a4f521520101",
   "metadata": {},
   "outputs": [
    {
     "data": {
      "text/plain": [
       "array([1266, 1492, 1862,  861,  715, 1367, 1837, 1429, 1429, 1261, 1607,\n",
       "       2132, 1652, 1537, 1155, 1899, 1956, 1596, 1380,  745, 2181,  955,\n",
       "       1007,  824, 1271, 1044,  597, 1216, 1061, 1450, 2016, 1270, 1341,\n",
       "       1075, 2482,  874, 1689, 1554, 1831, 1149, 1444, 1791, 1207, 3050,\n",
       "       1578, 2817,  792, 1143, 1698, 2076, 1204, 1835], dtype=int64)"
      ]
     },
     "execution_count": 828,
     "metadata": {},
     "output_type": "execute_result"
    }
   ],
   "source": [
    "x = df['QmaxAnual'].values\n",
    "x"
   ]
  },
  {
   "cell_type": "code",
   "execution_count": 829,
   "id": "f12f3227-608d-4b40-926f-c50fc803f4ae",
   "metadata": {},
   "outputs": [
    {
     "data": {
      "text/plain": [
       "(52,)"
      ]
     },
     "execution_count": 829,
     "metadata": {},
     "output_type": "execute_result"
    }
   ],
   "source": [
    "x.shape"
   ]
  },
  {
   "cell_type": "code",
   "execution_count": 830,
   "id": "483b487c-fdbd-4187-8a81-84fd92bd084e",
   "metadata": {},
   "outputs": [
    {
     "name": "stdout",
     "output_type": "stream",
     "text": [
      "2.1541108274866954\n"
     ]
    }
   ],
   "source": [
    "sumanumerador=0\n",
    "sumadenominador=0\n",
    "mean=np.mean(x)\n",
    "for i in range(len(x)-1):\n",
    "    sumanumerador=sumanumerador+(x[i+1]-x[i])**2\n",
    "for i in range(len(x)):               \n",
    "    sumadenominador=sumadenominador+(x[i]-mean)**2\n",
    "resultado=sumanumerador/sumadenominador\n",
    "print (resultado)"
   ]
  },
  {
   "cell_type": "markdown",
   "id": "40bbffb3-cb22-4300-9086-0940fa8ebd21",
   "metadata": {},
   "source": [
    "Teniendo en cuenta que para $n=52$ y una significancia $\\alpha=0.05$ el valor critico para la hipotesis nula es 1.55\n",
    "el resultado es mayor siendo 2.15, por tanto se niega la hipotesis nula que afirma que las muestras no son independientes, por tanto, las muestra son independientes"
   ]
  },
  {
   "cell_type": "markdown",
   "id": "e832df3e-b68f-4025-80eb-e915eacd909e",
   "metadata": {},
   "source": [
    "2. Pruebe si se puede detectar una tendencia.\n",
    "   \n",
    "Para identificar la existencia de tendencia se utiliza el test de **Mann-Kendall** cuya ecuacion es:\n",
    "\n",
    "$$\n",
    "S=\\sum_{i=1}^{n-1}\\sum_{j=i+1}^{n}sig(x_j-x_i)\n",
    "$$\n",
    "Si el estadistico es positivo se infiere una tendencia creciente, si por el contrario es negativo se infiere una tendencia decreciente, en consecuencia si S = 0 no hay tendencia.\n",
    "\n",
    "Una vez obtenido el estadistico se calcula la varianza para luego normalizar:\n",
    "$$\n",
    "Var(S) = \\frac{n(n-1)(2n+5)}{18}\n",
    "$$\n",
    "Generando el nuevo estadistico Z como:\n"
   ]
  },
  {
   "cell_type": "markdown",
   "id": "65692aea-62cd-40df-be04-e0a0352749fb",
   "metadata": {},
   "source": [
    "$$\n",
    "Z = \n",
    "\\begin{cases} \n",
    "    \\frac{S-1}{Var(S)^{1/2}}& \\text{si } S>0 \\\\\n",
    "    0  &\\text {si S = 0} \\\\\n",
    "    \\frac{S+1}{Var(S)^{1/2}}& \\text {si }  S<0\n",
    "\\end{cases}\n",
    "$$\n",
    "El valor critico para un nivel de significancia $\\alpha=0.05$ es igual 1.96 que es para una distribucion normal"
   ]
  },
  {
   "cell_type": "code",
   "execution_count": 831,
   "id": "d6f37c69-3750-423c-835c-106b7346ecd9",
   "metadata": {},
   "outputs": [
    {
     "data": {
      "text/plain": [
       "107"
      ]
     },
     "execution_count": 831,
     "metadata": {},
     "output_type": "execute_result"
    }
   ],
   "source": [
    "s=0\n",
    "k=0\n",
    "for k in range (0,len(x)-1,1):\n",
    "    for j in range(k+1,len(x),1):\n",
    "        s=s+np.sign(x[j]-x[k])\n",
    "s   "
   ]
  },
  {
   "cell_type": "code",
   "execution_count": 832,
   "id": "8007395c-63d5-43f6-85c4-5e050e0a338c",
   "metadata": {},
   "outputs": [
    {
     "data": {
      "text/plain": [
       "16059.333333333334"
      ]
     },
     "execution_count": 832,
     "metadata": {},
     "output_type": "execute_result"
    }
   ],
   "source": [
    "n=len(x)\n",
    "VarS=n*(n-1)*(2*n+5)/18\n",
    "VarS"
   ]
  },
  {
   "cell_type": "code",
   "execution_count": 833,
   "id": "a3a33f42-6e35-46a7-ac5d-03b2478f4bff",
   "metadata": {},
   "outputs": [
    {
     "data": {
      "text/plain": [
       "0.836454089830223"
      ]
     },
     "execution_count": 833,
     "metadata": {},
     "output_type": "execute_result"
    }
   ],
   "source": [
    "Z=(s-1)/VarS**0.5\n",
    "Z"
   ]
  },
  {
   "cell_type": "markdown",
   "id": "26f3ea6b-7ced-4b17-98d6-a35fcfe4f960",
   "metadata": {},
   "source": [
    "Teniendo en cuenta que el valor critico es 1.96, y Z=0.83 se asimila la hipotesis nula, es decir, No hay tendencia"
   ]
  },
  {
   "cell_type": "markdown",
   "id": "21e26805-033e-44e4-aaf9-3438f12512b7",
   "metadata": {},
   "source": [
    "3. Grafique los datos en papel de probabilidad Gumbel y determina los parámetros de la distribución Gumbel. \r\n",
    "¿Cuál es la estimación de la inundación de 1000 años? "
   ]
  },
  {
   "cell_type": "markdown",
   "id": "d4202a86-191e-4e3a-b328-5805e5865186",
   "metadata": {},
   "source": [
    "Para graficar los datos en una distribución de Gumbel, en primer lugar se debe organizar de menor a mayor y calcular su Distribución Acumulada de Probabilidad (CDF)"
   ]
  },
  {
   "cell_type": "code",
   "execution_count": 834,
   "id": "573c027e-7d83-4754-8bb6-d6cd2d00edb8",
   "metadata": {},
   "outputs": [
    {
     "data": {
      "text/plain": [
       "array([ 597,  715,  745,  792,  824,  861,  874,  955, 1007, 1044, 1061,\n",
       "       1075, 1143, 1149, 1155, 1204, 1207, 1216, 1261, 1266, 1270, 1271,\n",
       "       1341, 1367, 1380, 1429, 1429, 1444, 1450, 1492, 1537, 1554, 1578,\n",
       "       1596, 1607, 1652, 1689, 1698, 1791, 1831, 1835, 1837, 1862, 1899,\n",
       "       1956, 2016, 2076, 2132, 2181, 2482, 2817, 3050], dtype=int64)"
      ]
     },
     "execution_count": 834,
     "metadata": {},
     "output_type": "execute_result"
    }
   ],
   "source": [
    "datos_organizados=np.sort(x)\n",
    "datos_organizados"
   ]
  },
  {
   "cell_type": "code",
   "execution_count": 835,
   "id": "987cd0ac-cbc5-4150-9b6e-20d9b81ba20a",
   "metadata": {},
   "outputs": [
    {
     "data": {
      "text/plain": [
       "2453"
      ]
     },
     "execution_count": 835,
     "metadata": {},
     "output_type": "execute_result"
    }
   ],
   "source": [
    "rango=x.max()-x.min() #rango de los datos\n",
    "rango"
   ]
  },
  {
   "cell_type": "code",
   "execution_count": 836,
   "id": "f6dacd75-e780-4186-9a41-197a702b0c2c",
   "metadata": {},
   "outputs": [
    {
     "data": {
      "text/plain": [
       "98.12"
      ]
     },
     "execution_count": 836,
     "metadata": {},
     "output_type": "execute_result"
    }
   ],
   "source": [
    "#tamaño del bin\n",
    "bins=25 #numero de bins\n",
    "tamano_bin= rango/bins\n",
    "tamano_bin"
   ]
  },
  {
   "cell_type": "code",
   "execution_count": 837,
   "id": "31452459-107f-400e-98f1-194730026db2",
   "metadata": {},
   "outputs": [
    {
     "data": {
      "image/png": "[encoded data removed]",
      "text/plain": [
       "<Figure size 640x480 with 1 Axes>"
      ]
     },
     "metadata": {},
     "output_type": "display_data"
    }
   ],
   "source": [
    "plt.hist(datos_organizados,bins=bins,alpha=0.7, rwidth=0.8)\n",
    "plt.ylabel('frecuencia')\n",
    "plt.xlabel('caudal max')\n",
    "plt.title(f'Histograma de caudales maximos ordenados con un ancho de barra de {tamano_bin}')\n",
    "plt.show()"
   ]
  },
  {
   "cell_type": "code",
   "execution_count": 838,
   "id": "0c4b013e-0038-4a3b-a567-564e0b3a659e",
   "metadata": {},
   "outputs": [
    {
     "data": {
      "image/png": "[encoded data removed]",
      "text/plain": [
       "<Figure size 640x480 with 1 Axes>"
      ]
     },
     "metadata": {},
     "output_type": "display_data"
    }
   ],
   "source": [
    "cantidad_datos=len(x)\n",
    "plt.hist(datos_organizados,bins=bins,alpha=0.7, rwidth=0.8,density=True)\n",
    "plt.ylabel('frecuencia relativa')\n",
    "plt.xlabel('caudal max')\n",
    "plt.title(f'funcion densidad de probabilidad con un ancho de barra de {tamano_bin}')\n",
    "plt.show()"
   ]
  },
  {
   "cell_type": "markdown",
   "id": "4fcf02fd-563d-4c34-8b13-f55051d1fee8",
   "metadata": {},
   "source": [
    "A continuacion se calcula la distribucion acumulada para cada dato"
   ]
  },
  {
   "cell_type": "code",
   "execution_count": 839,
   "id": "9ab21228-b4da-488a-8a7e-97d72681df3b",
   "metadata": {},
   "outputs": [
    {
     "data": {
      "text/plain": [
       "array([0.01923077, 0.03846154, 0.05769231, 0.07692308, 0.09615385,\n",
       "       0.11538462, 0.13461538, 0.15384615, 0.17307692, 0.19230769,\n",
       "       0.21153846, 0.23076923, 0.25      , 0.26923077, 0.28846154,\n",
       "       0.30769231, 0.32692308, 0.34615385, 0.36538462, 0.38461538,\n",
       "       0.40384615, 0.42307692, 0.44230769, 0.46153846, 0.48076923,\n",
       "       0.51923077, 0.51923077, 0.53846154, 0.55769231, 0.57692308,\n",
       "       0.59615385, 0.61538462, 0.63461538, 0.65384615, 0.67307692,\n",
       "       0.69230769, 0.71153846, 0.73076923, 0.75      , 0.76923077,\n",
       "       0.78846154, 0.80769231, 0.82692308, 0.84615385, 0.86538462,\n",
       "       0.88461538, 0.90384615, 0.92307692, 0.94230769, 0.96153846,\n",
       "       0.98076923, 1.        ])"
      ]
     },
     "execution_count": 839,
     "metadata": {},
     "output_type": "execute_result"
    }
   ],
   "source": [
    "puntos_distri_acum=[]\n",
    "for i in datos_organizados:\n",
    "    probabilidad_acum=(datos_organizados<=i).sum()/len(x)\n",
    "    puntos_distri_acum.append((probabilidad_acum))\n",
    "    \n",
    "puntos_distri_acum=np.array(puntos_distri_acum)\n",
    "puntos_distri_acum"
   ]
  },
  {
   "cell_type": "code",
   "execution_count": 840,
   "id": "409f7e03-80b6-48fe-92f4-827b0524ec6f",
   "metadata": {},
   "outputs": [
    {
     "data": {
      "text/plain": [
       "numpy.ndarray"
      ]
     },
     "execution_count": 840,
     "metadata": {},
     "output_type": "execute_result"
    }
   ],
   "source": [
    "type(puntos_distri_acum)"
   ]
  },
  {
   "cell_type": "markdown",
   "id": "bf2a896a-bfb5-40a3-8e7d-f886c4a19b51",
   "metadata": {},
   "source": [
    "Determinacion de los parametro de Gumbel utilizando una linea recta como si estuviese graficada en papel de Gumbel para lo cual se debe aplicar a los valores de distribucion acumulada el $ln(-ln(pa)) $, donde pa es la probabilidad acumulada"
   ]
  },
  {
   "cell_type": "code",
   "execution_count": 841,
   "id": "ce5e505c-bc51-4d7d-9c69-b9f58a79a55e",
   "metadata": {},
   "outputs": [],
   "source": [
    "def y_Gumbel(pa):\n",
    "    lnpa=np.log(1/pa)\n",
    "    lnlnpa=-np.log(lnpa)\n",
    "    return lnlnpa"
   ]
  },
  {
   "cell_type": "code",
   "execution_count": 842,
   "id": "130f62d7-ba7f-47d7-b44c-2c9f7298cfd3",
   "metadata": {},
   "outputs": [
    {
     "name": "stderr",
     "output_type": "stream",
     "text": [
      "C:\\Users\\leomo\\AppData\\Local\\Temp\\ipykernel_111436\\3368349698.py:3: RuntimeWarning: divide by zero encountered in log\n",
      "  lnlnpa=-np.log(lnpa)\n"
     ]
    },
    {
     "data": {
      "text/plain": [
       "array([-1.37403039, -1.18114314, -1.04824188, -0.94193873, -0.85092234,\n",
       "       -0.76986942, -0.69581042, -0.6269017 , -0.56190981, -0.499962  ,\n",
       "       -0.44041289, -0.3827675 , -0.32663426, -0.27169475, -0.21768349,\n",
       "       -0.16437395, -0.11156854, -0.05909117, -0.00678169,  0.04550854,\n",
       "        0.09792017,  0.15058889,  0.20364795,  0.25723061,  0.3114723 ,\n",
       "        0.42249909,  0.42249909,  0.47958667,  0.53794353,  0.59775276,\n",
       "        0.65921637,  0.72255989,  0.7880379 ,  0.85594099,  0.92660459,\n",
       "        1.0004205 ,  1.07785187,  1.15945347,  1.24589932,  1.33802142,\n",
       "        1.43686517,  1.54377143,  1.66050174,  1.78943766,  1.93391379,\n",
       "        2.09880932,  2.29168356,  2.52519494,  2.82306685,  3.23855027,\n",
       "        3.94155039,         inf])"
      ]
     },
     "execution_count": 842,
     "metadata": {},
     "output_type": "execute_result"
    }
   ],
   "source": [
    "y=y_Gumbel(puntos_distri_acum)\n",
    "y"
   ]
  },
  {
   "cell_type": "code",
   "execution_count": 843,
   "id": "afbbf7b4-ea58-44e9-9394-c10cfae3f256",
   "metadata": {},
   "outputs": [
    {
     "data": {
      "image/png": "[encoded data removed]",
      "text/plain": [
       "<Figure size 640x480 with 1 Axes>"
      ]
     },
     "metadata": {},
     "output_type": "display_data"
    }
   ],
   "source": [
    "plt.plot(datos_organizados,y)\n",
    "plt.ylabel('ln(-ln (probabilidad acumulada CDF))')\n",
    "plt.xlabel('Caudal max')\n",
    "plt.title(f'funcion de Gumbel aplicada a CDF')\n",
    "plt.show()"
   ]
  },
  {
   "cell_type": "markdown",
   "id": "b91ead21-ee99-4f07-9a9c-d852192566a4",
   "metadata": {},
   "source": [
    "obtencion de los parametros Gumbel donde\n",
    "\n",
    "$$\n",
    "m=1/\\beta\n",
    "\\text{ y } b= -\\mu/\\beta\n",
    "$$\n",
    "\n",
    "con m como la pendiente, y b el intercepto con el eje y"
   ]
  },
  {
   "cell_type": "markdown",
   "id": "b67db948-8c31-4012-ac27-541cff13c0c8",
   "metadata": {},
   "source": [
    "como $m= (y_1-y_0)/x_1-x_0) \\text { y } b= y_0$"
   ]
  },
  {
   "cell_type": "markdown",
   "id": "1f88fccc-84d8-4ba9-87d2-b32f17d06a91",
   "metadata": {},
   "source": [
    "Recta de regresion lineal con la funcion regplot de seaborn"
   ]
  },
  {
   "cell_type": "code",
   "execution_count": 844,
   "id": "a7dd352a-4aef-42cb-8e66-2a61e1ade396",
   "metadata": {},
   "outputs": [
    {
     "data": {
      "image/png": "[encoded data removed]",
      "text/plain": [
       "<Figure size 640x480 with 1 Axes>"
      ]
     },
     "metadata": {},
     "output_type": "display_data"
    }
   ],
   "source": [
    "ax = sns.regplot(x=datos_organizados, y=y)\n",
    "plt.ylabel('ln(-ln (probabilidad acumulada CDF))')\n",
    "plt.xlabel('Caudal max')\n",
    "plt.title(f'funcion de Gumbel aplicada a CDF')\n",
    "plt.show()"
   ]
  },
  {
   "cell_type": "markdown",
   "id": "1f436275-afc4-4358-a924-6147a1ec8d5e",
   "metadata": {},
   "source": [
    "tomando el intervalo 1000 a 1500 donde la grafica presenta un comportamiento lineal aceptable entonce escogen valores de x y y entre este intervalo para calcular la pendiente $x_0=1007 \\text{ y } x_1=1380$"
   ]
  },
  {
   "cell_type": "code",
   "execution_count": 845,
   "id": "ff40c55d-fde0-48fe-b1c7-9deaa45de9a5",
   "metadata": {},
   "outputs": [
    {
     "data": {
      "text/plain": [
       "0.0023415070000979057"
      ]
     },
     "execution_count": 845,
     "metadata": {},
     "output_type": "execute_result"
    }
   ],
   "source": [
    "x1=datos_organizados[8]\n",
    "y1=y[8]\n",
    "x2=datos_organizados[24]\n",
    "y2=y[24]\n",
    "m=(y2-y1)/(x2-x1)\n",
    "m"
   ]
  },
  {
   "cell_type": "markdown",
   "id": "b17e6a7a-2fed-4b0c-9bfb-0f15ae87cbde",
   "metadata": {},
   "source": [
    "ahora extrapolando la recta con una regla $b\\approx -2.3$"
   ]
  },
  {
   "cell_type": "markdown",
   "id": "f1833cf6-593c-44bf-be23-b6541605a1bd",
   "metadata": {},
   "source": [
    "Recordando:\n",
    "$$\n",
    "m=1/\\beta\n",
    "\\text { y }\n",
    "b= -\\mu/\\beta\n",
    "$$\n",
    "\n",
    "Despejando \n",
    "$$\n",
    "\\beta=1/m\n",
    "\\text{ y }\n",
    "\\mu=-b*\\beta\n",
    "$$"
   ]
  },
  {
   "cell_type": "code",
   "execution_count": 846,
   "id": "52315402-4a5e-43eb-b032-18dc530fc1c6",
   "metadata": {},
   "outputs": [
    {
     "data": {
      "text/plain": [
       "427.07538348516016"
      ]
     },
     "execution_count": 846,
     "metadata": {},
     "output_type": "execute_result"
    }
   ],
   "source": [
    "beta = 1/m\n",
    "beta"
   ]
  },
  {
   "cell_type": "code",
   "execution_count": 847,
   "id": "62a101cf-c43a-422c-97bb-1df47d0dd18c",
   "metadata": {},
   "outputs": [
    {
     "data": {
      "text/plain": [
       "982.2733820158683"
      ]
     },
     "execution_count": 847,
     "metadata": {},
     "output_type": "execute_result"
    }
   ],
   "source": [
    "mu = -(-2.3)*beta\n",
    "mu"
   ]
  },
  {
   "cell_type": "markdown",
   "id": "6b2820d8-220f-4de7-b28a-367ad7bce982",
   "metadata": {},
   "source": [
    "construccion de la funcion de densidad de probabilidad de Gumbel"
   ]
  },
  {
   "cell_type": "code",
   "execution_count": 848,
   "id": "eb0361a7-ef8e-4326-a828-5651e96e73ea",
   "metadata": {},
   "outputs": [],
   "source": [
    "def gumbel_pdf(x,mu,beta):\n",
    "    z=(x-mu)/beta\n",
    "    pdf=(1/beta)*np.exp(-z-np.exp(-z))\n",
    "    return pdf"
   ]
  },
  {
   "cell_type": "code",
   "execution_count": 849,
   "id": "93cd3a7a-f597-4805-a5c3-c78aa2f6620c",
   "metadata": {},
   "outputs": [],
   "source": [
    "xpoint=np.linspace(-500,3000,100)\n",
    "ypoint=gumbel_pdf(xpoint,mu,beta)"
   ]
  },
  {
   "cell_type": "code",
   "execution_count": 850,
   "id": "fe333531-9dc6-457e-8c61-ffba02c8ab8e",
   "metadata": {},
   "outputs": [
    {
     "data": {
      "image/png": "[encoded data removed]",
      "text/plain": [
       "<Figure size 640x480 with 1 Axes>"
      ]
     },
     "metadata": {},
     "output_type": "display_data"
    }
   ],
   "source": [
    "plt.plot(xpoint,ypoint)\n",
    "cantidad_datos=len(x)\n",
    "plt.hist(datos_organizados,bins=bins,alpha=0.7, rwidth=0.8,density=True)\n",
    "plt.ylabel('frecuencia relativa')\n",
    "plt.xlabel('caudal max')\n",
    "plt.title(f'funcion densidad de probabilidad con un ancho de barra de {tamano_bin}')\n",
    "plt.show()"
   ]
  },
  {
   "cell_type": "markdown",
   "id": "84968ca4-d0b8-4cef-b733-33da0374ffe3",
   "metadata": {},
   "source": [
    "como se puede observar de la figura anterior la funcion de densidad construida con los parametros obtenidos de la linealizacion de la funcion de distribucion de probabilidad acumulada"
   ]
  },
  {
   "cell_type": "markdown",
   "id": "b857fe07-0009-40b7-a619-557bd11bfc7a",
   "metadata": {},
   "source": [
    "para el periodo de retorno tenemos:\n",
    "$$\n",
    "1/T=P(x>=x_t)=1-F(x_t)\n",
    "$$\n",
    "$$\n",
    "F(x_t)=\\frac{T-1}{T}\n",
    "$$\n",
    "$$\n",
    "y_t= -ln(ln(\\frac{T}{T-1}))\n",
    "$$\n",
    "$$\n",
    "x_t=\\mu+(\\beta*y_t)\n",
    "$$\n",
    "entonces:"
   ]
  },
  {
   "cell_type": "code",
   "execution_count": 851,
   "id": "029d0cf5-37ea-4c06-8b69-3b99769a2370",
   "metadata": {},
   "outputs": [
    {
     "data": {
      "text/plain": [
       "6.907255070523628"
      ]
     },
     "execution_count": 851,
     "metadata": {},
     "output_type": "execute_result"
    }
   ],
   "source": [
    "T=1000\n",
    "y_t=-np.log(np.log(T/(T-1)))\n",
    "y_t"
   ]
  },
  {
   "cell_type": "code",
   "execution_count": 852,
   "id": "c441892a-f9aa-4b0d-8d15-ebfe3a2c673e",
   "metadata": {},
   "outputs": [
    {
     "data": {
      "text/plain": [
       "3932.1919900895637"
      ]
     },
     "execution_count": 852,
     "metadata": {},
     "output_type": "execute_result"
    }
   ],
   "source": [
    "x_t=mu+(beta*y_t)\n",
    "x_t"
   ]
  },
  {
   "cell_type": "markdown",
   "id": "83f53a8a-b1ee-4c4d-b42e-816a436ea106",
   "metadata": {},
   "source": [
    "por tanto el caudal con periodo de retorno de 1000 años es $3932.9m^3/s$"
   ]
  },
  {
   "cell_type": "markdown",
   "id": "2b6bc1fa-840e-4e29-a32b-8563e3176e82",
   "metadata": {},
   "source": [
    "4.Determine los parámetros de la distribución Gumbel mediante regresión lineal de Qmax contra  \n",
    "con i siendo el rango del máximo más pequeño. Estima la inundación de 1000 años y sus límites de confianza \n",
    "del 95%. "
   ]
  },
  {
   "cell_type": "code",
   "execution_count": 853,
   "id": "dd73f513-d700-481b-a266-e47dadd29cb9",
   "metadata": {},
   "outputs": [],
   "source": [
    "datos_organizados2=np.sort(x)[::-1]"
   ]
  },
  {
   "cell_type": "code",
   "execution_count": 854,
   "id": "0ecdbaa4-5bc2-4a29-b75f-383ed50d42b3",
   "metadata": {},
   "outputs": [
    {
     "data": {
      "text/plain": [
       "array([3050, 2817, 2482, 2181, 2132, 2076, 2016, 1956, 1899, 1862, 1837,\n",
       "       1835, 1831, 1791, 1698, 1689, 1652, 1607, 1596, 1578, 1554, 1537,\n",
       "       1492, 1450, 1444, 1429, 1429, 1380, 1367, 1341, 1271, 1270, 1266,\n",
       "       1261, 1216, 1207, 1204, 1155, 1149, 1143, 1075, 1061, 1044, 1007,\n",
       "        955,  874,  861,  824,  792,  745,  715,  597], dtype=int64)"
      ]
     },
     "execution_count": 854,
     "metadata": {},
     "output_type": "execute_result"
    }
   ],
   "source": [
    "datos_organizados2"
   ]
  },
  {
   "cell_type": "code",
   "execution_count": 855,
   "id": "5b3ec6ed-a254-4376-8c86-0e62f79849a2",
   "metadata": {},
   "outputs": [
    {
     "data": {
      "text/plain": [
       "array([ 1,  2,  3,  4,  5,  6,  7,  8,  9, 10, 11, 12, 13, 14, 15, 16, 17,\n",
       "       18, 19, 20, 21, 22, 23, 24, 25, 26, 27, 28, 29, 30, 31, 32, 33, 34,\n",
       "       35, 36, 37, 38, 39, 40, 41, 42, 43, 44, 45, 46, 47, 48, 49, 50, 51,\n",
       "       52])"
      ]
     },
     "execution_count": 855,
     "metadata": {},
     "output_type": "execute_result"
    }
   ],
   "source": [
    "i = np.arange(1, len(datos_organizados2) + 1)\n",
    "i"
   ]
  },
  {
   "cell_type": "code",
   "execution_count": 856,
   "id": "623ab9da-59e5-4f7f-a608-bd22d59633a3",
   "metadata": {},
   "outputs": [],
   "source": [
    "def f_(i):\n",
    "    lni=np.log(i/(n+1))*(-1)\n",
    "    lnlni=np.log(lni)*(-1)\n",
    "    return lnlni\n"
   ]
  },
  {
   "cell_type": "code",
   "execution_count": 857,
   "id": "a373295a-50b7-4dc8-8707-7328b87e8279",
   "metadata": {},
   "outputs": [
    {
     "data": {
      "text/plain": [
       "array([-1.37883962, -1.18697254, -1.05489709, -0.94933764, -0.85902342,\n",
       "       -0.77865146, -0.70526435, -0.63702666, -0.57271101, -0.51144952,\n",
       "       -0.45260098, -0.39567418, -0.34028109, -0.28610677, -0.23288928,\n",
       "       -0.18040572, -0.12846231, -0.07688711, -0.0255244 ,  0.02576956,\n",
       "        0.07713002,  0.12868662,  0.18056586,  0.23289332,  0.28579573,\n",
       "        0.339403  ,  0.39385025,  0.44928001,  0.50584458,  0.56370872,\n",
       "        0.62305279,  0.68407642,  0.74700301,  0.81208526,  0.87961206,\n",
       "        0.94991739,  1.02339165,  1.1004968 ,  1.18178653,  1.26793386,\n",
       "        1.35976988,  1.45833919,  1.5649819 ,  1.68145887,  1.81015102,\n",
       "        1.9543924 ,  2.11906166,  2.31171764,  2.54501831,  2.84268664,\n",
       "        3.25797324,  3.96078293])"
      ]
     },
     "execution_count": 857,
     "metadata": {},
     "output_type": "execute_result"
    }
   ],
   "source": [
    "f=f_(i)\n",
    "f"
   ]
  },
  {
   "cell_type": "code",
   "execution_count": 858,
   "id": "f51bb064-618f-416c-a447-6e787fdbf64c",
   "metadata": {},
   "outputs": [
    {
     "data": {
      "image/png": "[encoded data removed]",
      "text/plain": [
       "<Figure size 640x480 with 1 Axes>"
      ]
     },
     "metadata": {},
     "output_type": "display_data"
    }
   ],
   "source": [
    "plt.plot(datos_organizados2,f)\n",
    "plt.ylabel('-ln(-ln (i/(n+1)))')\n",
    "plt.xlabel('Caudal max')\n",
    "plt.title(f'funcion')\n",
    "plt.show()"
   ]
  },
  {
   "cell_type": "markdown",
   "id": "35c0b785-7aac-4421-a107-23950162c56d",
   "metadata": {},
   "source": [
    "5. Determine los parámetros de la distribución Gumbel con el método de momentos. Estima la inundación de \n",
    "1000 años y sus límites de confianza del 95%."
   ]
  },
  {
   "cell_type": "markdown",
   "id": "274b0cb1-5cf1-4a32-9017-528fb9b6004f",
   "metadata": {},
   "source": [
    "Recordando la funcion de probabilidad de Gumbel:\n",
    "$$\n",
    "F(x)=\\exp(-\\exp(-\\frac{x-\\mu}{\\beta}))\n",
    "$$\n",
    "donde\n",
    "$$\n",
    "\\beta=(\\sqrt[2]{6}s)/\\pi { ; } \\mu= \\bar{x}-0.57772*\\beta\n",
    "$$"
   ]
  },
  {
   "cell_type": "markdown",
   "id": "3cb62ee1-6850-45c8-a922-f36e00513a9c",
   "metadata": {},
   "source": [
    "se tiene que:"
   ]
  },
  {
   "cell_type": "code",
   "execution_count": 859,
   "id": "44275769-24cb-41ae-b438-3b5fef09b527",
   "metadata": {},
   "outputs": [
    {
     "data": {
      "text/plain": [
       "507.1209838960446"
      ]
     },
     "execution_count": 859,
     "metadata": {},
     "output_type": "execute_result"
    }
   ],
   "source": [
    "x.std()"
   ]
  },
  {
   "cell_type": "code",
   "execution_count": 860,
   "id": "4d0b349e-8435-4746-8c5d-65187078ed0e",
   "metadata": {},
   "outputs": [
    {
     "data": {
      "text/plain": [
       "1475.0"
      ]
     },
     "execution_count": 860,
     "metadata": {},
     "output_type": "execute_result"
    }
   ],
   "source": [
    "x.mean()"
   ]
  },
  {
   "cell_type": "code",
   "execution_count": 861,
   "id": "da3a2b9e-6b4f-4244-87f8-1f65f2a1d23f",
   "metadata": {},
   "outputs": [
    {
     "data": {
      "text/plain": [
       "395.40060898222055"
      ]
     },
     "execution_count": 861,
     "metadata": {},
     "output_type": "execute_result"
    }
   ],
   "source": [
    "beta1=6**0.5*x.std()/np.pi\n",
    "beta1"
   ]
  },
  {
   "cell_type": "code",
   "execution_count": 862,
   "id": "60877b0f-e0af-4d48-aa0a-ad8679192dc3",
   "metadata": {},
   "outputs": [
    {
     "data": {
      "text/plain": [
       "1228.4920886523655"
      ]
     },
     "execution_count": 862,
     "metadata": {},
     "output_type": "execute_result"
    }
   ],
   "source": [
    "mu1=x.mean()-0.5772*beta\n",
    "mu1"
   ]
  },
  {
   "cell_type": "markdown",
   "id": "9fd10f80-ed24-4347-9389-c74046c6278d",
   "metadata": {},
   "source": [
    "para un periodo de retorno de 1000 años tenemos:"
   ]
  },
  {
   "cell_type": "code",
   "execution_count": 863,
   "id": "43bd6a43-c7b3-4bd9-97a8-f947c3630da6",
   "metadata": {},
   "outputs": [
    {
     "data": {
      "text/plain": [
       "6.907255070523628"
      ]
     },
     "execution_count": 863,
     "metadata": {},
     "output_type": "execute_result"
    }
   ],
   "source": [
    "T=1000\n",
    "yt=-np.log(np.log(T/(T-1)))\n",
    "yt"
   ]
  },
  {
   "cell_type": "code",
   "execution_count": 864,
   "id": "26b17182-c0a7-48c7-a460-c2e935690880",
   "metadata": {},
   "outputs": [
    {
     "data": {
      "text/plain": [
       "3959.6249499329388"
      ]
     },
     "execution_count": 864,
     "metadata": {},
     "output_type": "execute_result"
    }
   ],
   "source": [
    "xt=mu1+(beta1*yt)\n",
    "xt"
   ]
  },
  {
   "cell_type": "markdown",
   "id": "f5a9b19a-0c3e-4bb3-9de7-93ebe3fac19b",
   "metadata": {},
   "source": [
    "el caudal de retorno de 1000 años es de $3959.6m^3/s$"
   ]
  },
  {
   "cell_type": "markdown",
   "id": "14abc4a9-55d1-41a8-bc90-bc5b888c1daf",
   "metadata": {},
   "source": [
    "6. Estima la inundación de 1000 años asumiendo una distribución lognormal de los valores máximos."
   ]
  },
  {
   "cell_type": "markdown",
   "id": "747a2f4a-18d0-4487-a5dd-e477c8dcc2e8",
   "metadata": {},
   "source": [
    "la funcion acumulada de distribucion lognormal es:\n",
    "$$\n",
    "F(x)=\\phi*(\\frac{lnx-\\mu}{\\sigma})\n",
    "$$\n",
    "que es igual a:\n",
    "$$\n",
    "\\frac{1}{2}*(1+erf(\\frac{lnx-\\mu}{\\sigma\\sqrt{2}}) = \\frac{1}{2}erfc(-\\frac{lnx-\\mu}{\\sigma\\sqrt2}))\n",
    "$$"
   ]
  },
  {
   "cell_type": "markdown",
   "id": "60defa5f-5af3-4393-bc9a-a8f87744b1b5",
   "metadata": {},
   "source": [
    "con $\\mu =\\bar y$ y $y=logx$\n",
    "\n",
    "$\\sigma_y=s_y$"
   ]
  },
  {
   "cell_type": "code",
   "execution_count": 865,
   "id": "c9517ae4-cdaf-467e-aca5-a2d9dfefe412",
   "metadata": {},
   "outputs": [
    {
     "data": {
      "text/plain": [
       "7.23817310398867"
      ]
     },
     "execution_count": 865,
     "metadata": {},
     "output_type": "execute_result"
    }
   ],
   "source": [
    "np.log(x)\n",
    "ymedia=np.log(x).mean()\n",
    "ymedia"
   ]
  },
  {
   "cell_type": "code",
   "execution_count": 866,
   "id": "1d2a7d40-d27e-4a10-ab95-54e5e66f8166",
   "metadata": {},
   "outputs": [
    {
     "data": {
      "text/plain": [
       "0.34466413320373357"
      ]
     },
     "execution_count": 866,
     "metadata": {},
     "output_type": "execute_result"
    }
   ],
   "source": [
    "ys=np.log(x).std()\n",
    "ys"
   ]
  },
  {
   "cell_type": "code",
   "execution_count": 867,
   "id": "f411496e-4eaf-44df-9fd8-9888b8112483",
   "metadata": {},
   "outputs": [],
   "source": [
    "def lognormal(x):\n",
    "    y=np.log(x)\n",
    "    ylognormal=1/2*(special.erfc(-(y-ymedia)/(ys*2**0.5)))\n",
    "    return ylognormal"
   ]
  },
  {
   "cell_type": "code",
   "execution_count": 868,
   "id": "7e9c2338-6c96-497f-a9d5-726125855502",
   "metadata": {},
   "outputs": [],
   "source": [
    "puntos=np.arange(500,5000,1)"
   ]
  },
  {
   "cell_type": "code",
   "execution_count": 869,
   "id": "3f66faba-80d4-440d-aae2-68db40a8b46b",
   "metadata": {},
   "outputs": [],
   "source": [
    "ylog=lognormal(puntos)"
   ]
  },
  {
   "cell_type": "code",
   "execution_count": 870,
   "id": "b2d09d4d-4747-4e8c-bea3-56d17822a973",
   "metadata": {},
   "outputs": [
    {
     "data": {
      "text/plain": [
       "[<matplotlib.lines.Line2D at 0x21990913e90>]"
      ]
     },
     "execution_count": 870,
     "metadata": {},
     "output_type": "execute_result"
    },
    {
     "data": {
      "image/png": "[encoded data removed]",
      "text/plain": [
       "<Figure size 640x480 with 1 Axes>"
      ]
     },
     "metadata": {},
     "output_type": "display_data"
    }
   ],
   "source": [
    "plt.plot(puntos,ylog)"
   ]
  },
  {
   "cell_type": "code",
   "execution_count": 871,
   "id": "0b9be815-6b29-47e4-a54a-8e7f2ffdbec3",
   "metadata": {},
   "outputs": [
    {
     "data": {
      "text/plain": [
       "array([0.00149023, 0.00151859, 0.00154739, ..., 0.99989603, 0.99989627,\n",
       "       0.99989651])"
      ]
     },
     "execution_count": 871,
     "metadata": {},
     "output_type": "execute_result"
    }
   ],
   "source": [
    "ylog"
   ]
  },
  {
   "cell_type": "markdown",
   "id": "0c75cf59-34d3-4a3e-8aa0-d2b420b459b3",
   "metadata": {},
   "source": [
    "teniendo en cuenta que F(estimado)=$\\frac{T-1}{T}$\n",
    "entonces:"
   ]
  },
  {
   "cell_type": "code",
   "execution_count": 872,
   "id": "7eb18061-1da5-4482-928a-f8ee5bb8b85b",
   "metadata": {},
   "outputs": [
    {
     "data": {
      "text/plain": [
       "0.999"
      ]
     },
     "execution_count": 872,
     "metadata": {},
     "output_type": "execute_result"
    }
   ],
   "source": [
    "T1=1000\n",
    "f_estimado=(T1-1)/T1\n",
    "f_estimado"
   ]
  },
  {
   "cell_type": "code",
   "execution_count": 873,
   "id": "3f7f8814-a1aa-48c9-8edf-665c5212fcd7",
   "metadata": {},
   "outputs": [
    {
     "name": "stdout",
     "output_type": "stream",
     "text": [
      "El valor más cercano a 0.999 es: 0.9989999196714288\n"
     ]
    }
   ],
   "source": [
    "valor_mas_cercano = min(ylog, key=lambda x: abs(x - 0.999))\n",
    "\n",
    "print(\"El valor más cercano a 0.999 es:\", valor_mas_cercano)"
   ]
  },
  {
   "cell_type": "code",
   "execution_count": 874,
   "id": "441157d0-ae67-4f38-8421-0f7c11eed8c3",
   "metadata": {},
   "outputs": [
    {
     "data": {
      "text/plain": [
       "array([False, False, False, ..., False, False, False])"
      ]
     },
     "execution_count": 874,
     "metadata": {},
     "output_type": "execute_result"
    }
   ],
   "source": [
    "ylog==0.9989999196714288"
   ]
  },
  {
   "cell_type": "code",
   "execution_count": 875,
   "id": "56d2aff2-489a-4c49-85bf-1f08daa1ef25",
   "metadata": {},
   "outputs": [
    {
     "data": {
      "text/plain": [
       "array([4037])"
      ]
     },
     "execution_count": 875,
     "metadata": {},
     "output_type": "execute_result"
    }
   ],
   "source": [
    "puntos[ylog==0.9989999196714288]"
   ]
  },
  {
   "cell_type": "markdown",
   "id": "1afaa92e-10b9-42dc-885a-c18affa4c18c",
   "metadata": {},
   "source": [
    "por tanto con la probabilidad de 0.999 buscamos el caudal correspondiente el cual corresponde a $4037m^3/s$"
   ]
  },
  {
   "cell_type": "markdown",
   "id": "c5b506d2-1a09-4b40-9af3-50ff5874b71a",
   "metadata": {},
   "source": [
    "9. Cuál es la probabilidad de que la inundación de 1000 anios ocurra al menos una vez en los proximos 40 \n",
    "anios? "
   ]
  },
  {
   "cell_type": "markdown",
   "id": "9f2579a8-3963-4ca3-8340-dc2048385ac9",
   "metadata": {},
   "source": [
    "Teniendo en cuenta que:\n",
    "$$\n",
    "P(X>=x_\\tau \\text { al menos una vez en N años} )=1-(1-\\frac{1}{T})^N\n",
    "$$\n"
   ]
  },
  {
   "cell_type": "code",
   "execution_count": 876,
   "id": "ab967742-f0df-44b3-ad1c-9ef11ef60583",
   "metadata": {},
   "outputs": [
    {
     "data": {
      "text/plain": [
       "0.039229789264188186"
      ]
     },
     "execution_count": 876,
     "metadata": {},
     "output_type": "execute_result"
    }
   ],
   "source": [
    "#para T=1000 y N=40\n",
    "T=1000\n",
    "N=40\n",
    "Pxt40=1-(1-(1/T))**N\n",
    "Pxt40"
   ]
  },
  {
   "cell_type": "markdown",
   "id": "4805efcd-829a-4c75-aa45-426acf14c8cb",
   "metadata": {},
   "source": [
    "la probabilidad que la inundacion de 1000 años se de en los proximos 40 años es de 4%"
   ]
  },
  {
   "cell_type": "markdown",
   "id": "c391ba50-b0c7-465c-a73c-883a1a863d38",
   "metadata": {},
   "source": [
    "10. ¿Cuál es la probabilidad de que la inundación de 1000 años ocurra dos veces en los próximos 100 años? "
   ]
  },
  {
   "cell_type": "markdown",
   "id": "167350fa-31c6-4455-baf1-d0a73e65b58e",
   "metadata": {},
   "source": [
    "la probabilidad que la inundacion de 1000 años suceda al menos una vez en 100 años es:"
   ]
  },
  {
   "cell_type": "code",
   "execution_count": 877,
   "id": "62d01e06-42e4-476c-801f-9e0968975563",
   "metadata": {},
   "outputs": [
    {
     "data": {
      "text/plain": [
       "0.09520785288629108"
      ]
     },
     "execution_count": 877,
     "metadata": {},
     "output_type": "execute_result"
    }
   ],
   "source": [
    "T=1000\n",
    "N=100\n",
    "Pxt100=1-(1-(1/T))**N\n",
    "Pxt100"
   ]
  },
  {
   "cell_type": "markdown",
   "id": "c7fd945f-0166-4c59-a3c2-78ed4b43aee9",
   "metadata": {},
   "source": [
    "dado a que son eventos independientes la propabilidad total es el producto de las probabilidades por tanto:"
   ]
  },
  {
   "cell_type": "code",
   "execution_count": 878,
   "id": "abb51082-1188-4111-a448-c9ef3ac8aed1",
   "metadata": {},
   "outputs": [
    {
     "data": {
      "text/plain": [
       "0.009064535251217644"
      ]
     },
     "execution_count": 878,
     "metadata": {},
     "output_type": "execute_result"
    }
   ],
   "source": [
    "#probabilidad que suceda al menos 2 veces en los proximos 100 años:\n",
    "P2t100=Pxt100*Pxt100\n",
    "P2t100"
   ]
  },
  {
   "cell_type": "markdown",
   "id": "5ae82708-1456-4ef8-9abe-e2a8cdfe1580",
   "metadata": {},
   "source": [
    "la probabilidad que la inundacion de 1000 años suceda al menos 2 veces en las proximos 100 años es de aproximadamente 1%"
   ]
  }
 ],
 "metadata": {
  "kernelspec": {
   "display_name": "Python 3 (ipykernel)",
   "language": "python",
   "name": "python3"
  },
  "language_info": {
   "codemirror_mode": {
    "name": "ipython",
    "version": 3
   },
   "file_extension": ".py",
   "mimetype": "text/x-python",
   "name": "python",
   "nbconvert_exporter": "python",
   "pygments_lexer": "ipython3",
   "version": "3.12.1"
  }
 },
 "nbformat": 4,
 "nbformat_minor": 5
}
